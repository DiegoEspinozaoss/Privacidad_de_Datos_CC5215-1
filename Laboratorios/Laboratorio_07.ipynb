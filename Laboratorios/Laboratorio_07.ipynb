{
  "cells": [
    {
      "cell_type": "markdown",
      "metadata": {
        "id": "7X7ZwNViRWmT"
      },
      "source": [
        "# CC5215: Privacidad de Datos\n",
        "\n",
        "## Laboratorio 7\n",
        "\n",
        "Integrantes: (trabajé solo porque no pude conseguir un compañero de equipo)\n",
        "\n",
        "- Nombre: Diego Espinoza"
      ]
    },
    {
      "cell_type": "code",
      "execution_count": 1,
      "metadata": {
        "id": "9JmjcAJRRWmW"
      },
      "outputs": [],
      "source": [
        "# Load the data and libraries\n",
        "import pandas as pd\n",
        "import numpy as np\n",
        "import random\n",
        "import matplotlib.pyplot as plt\n",
        "\n",
        "def laplace_mech(v, sensitivity, epsilon):\n",
        "    return v + np.random.laplace(loc=0, scale=sensitivity / epsilon)\n",
        "\n",
        "def pct_error(orig, priv):\n",
        "    return np.abs(orig - priv)/orig * 100.0\n",
        "\n",
        "barbie_ratings = pd.read_csv('https://users.dcc.uchile.cl/~darquez/barbie_ratings.csv')\n",
        "\n",
        "# YOU MAY USE THIS VARIABLES LATER\n",
        "ratings = barbie_ratings['rating']\n",
        "weights = barbie_ratings['weight']"
      ]
    },
    {
      "cell_type": "markdown",
      "metadata": {
        "id": "6xGQeIFqjtjv"
      },
      "source": [
        "## Introduction\n",
        "\n",
        "In this lab we will work with a dataset of user ratings for the Barbie movie. In particular, we will try out different methods of making a weighted average of the ratings private."
      ]
    },
    {
      "cell_type": "code",
      "execution_count": null,
      "metadata": {
        "colab": {
          "base_uri": "https://localhost:8080/",
          "height": 206
        },
        "id": "0bgPBSKakOmZ",
        "outputId": "81afe092-35b3-4755-e605-88ed12ee1d98"
      },
      "outputs": [
        {
          "data": {
            "application/vnd.google.colaboratory.intrinsic+json": {
              "summary": "{\n  \"name\": \"barbie_ratings\",\n  \"rows\": 1000,\n  \"fields\": [\n    {\n      \"column\": \"rating\",\n      \"properties\": {\n        \"dtype\": \"number\",\n        \"std\": 2,\n        \"min\": 1,\n        \"max\": 10,\n        \"num_unique_values\": 10,\n        \"samples\": [\n          7,\n          10,\n          8\n        ],\n        \"semantic_type\": \"\",\n        \"description\": \"\"\n      }\n    },\n    {\n      \"column\": \"weight\",\n      \"properties\": {\n        \"dtype\": \"number\",\n        \"std\": 1,\n        \"min\": 1,\n        \"max\": 4,\n        \"num_unique_values\": 4,\n        \"samples\": [\n          1,\n          3,\n          2\n        ],\n        \"semantic_type\": \"\",\n        \"description\": \"\"\n      }\n    }\n  ]\n}",
              "type": "dataframe",
              "variable_name": "barbie_ratings"
            },
            "text/html": [
              "\n",
              "  <div id=\"df-7595c436-89d1-450e-8079-f2a2d43ee15e\" class=\"colab-df-container\">\n",
              "    <div>\n",
              "<style scoped>\n",
              "    .dataframe tbody tr th:only-of-type {\n",
              "        vertical-align: middle;\n",
              "    }\n",
              "\n",
              "    .dataframe tbody tr th {\n",
              "        vertical-align: top;\n",
              "    }\n",
              "\n",
              "    .dataframe thead th {\n",
              "        text-align: right;\n",
              "    }\n",
              "</style>\n",
              "<table border=\"1\" class=\"dataframe\">\n",
              "  <thead>\n",
              "    <tr style=\"text-align: right;\">\n",
              "      <th></th>\n",
              "      <th>rating</th>\n",
              "      <th>weight</th>\n",
              "    </tr>\n",
              "  </thead>\n",
              "  <tbody>\n",
              "    <tr>\n",
              "      <th>0</th>\n",
              "      <td>4</td>\n",
              "      <td>2</td>\n",
              "    </tr>\n",
              "    <tr>\n",
              "      <th>1</th>\n",
              "      <td>10</td>\n",
              "      <td>1</td>\n",
              "    </tr>\n",
              "    <tr>\n",
              "      <th>2</th>\n",
              "      <td>5</td>\n",
              "      <td>4</td>\n",
              "    </tr>\n",
              "    <tr>\n",
              "      <th>3</th>\n",
              "      <td>6</td>\n",
              "      <td>2</td>\n",
              "    </tr>\n",
              "    <tr>\n",
              "      <th>4</th>\n",
              "      <td>5</td>\n",
              "      <td>2</td>\n",
              "    </tr>\n",
              "  </tbody>\n",
              "</table>\n",
              "</div>\n",
              "    <div class=\"colab-df-buttons\">\n",
              "\n",
              "  <div class=\"colab-df-container\">\n",
              "    <button class=\"colab-df-convert\" onclick=\"convertToInteractive('df-7595c436-89d1-450e-8079-f2a2d43ee15e')\"\n",
              "            title=\"Convert this dataframe to an interactive table.\"\n",
              "            style=\"display:none;\">\n",
              "\n",
              "  <svg xmlns=\"http://www.w3.org/2000/svg\" height=\"24px\" viewBox=\"0 -960 960 960\">\n",
              "    <path d=\"M120-120v-720h720v720H120Zm60-500h600v-160H180v160Zm220 220h160v-160H400v160Zm0 220h160v-160H400v160ZM180-400h160v-160H180v160Zm440 0h160v-160H620v160ZM180-180h160v-160H180v160Zm440 0h160v-160H620v160Z\"/>\n",
              "  </svg>\n",
              "    </button>\n",
              "\n",
              "  <style>\n",
              "    .colab-df-container {\n",
              "      display:flex;\n",
              "      gap: 12px;\n",
              "    }\n",
              "\n",
              "    .colab-df-convert {\n",
              "      background-color: #E8F0FE;\n",
              "      border: none;\n",
              "      border-radius: 50%;\n",
              "      cursor: pointer;\n",
              "      display: none;\n",
              "      fill: #1967D2;\n",
              "      height: 32px;\n",
              "      padding: 0 0 0 0;\n",
              "      width: 32px;\n",
              "    }\n",
              "\n",
              "    .colab-df-convert:hover {\n",
              "      background-color: #E2EBFA;\n",
              "      box-shadow: 0px 1px 2px rgba(60, 64, 67, 0.3), 0px 1px 3px 1px rgba(60, 64, 67, 0.15);\n",
              "      fill: #174EA6;\n",
              "    }\n",
              "\n",
              "    .colab-df-buttons div {\n",
              "      margin-bottom: 4px;\n",
              "    }\n",
              "\n",
              "    [theme=dark] .colab-df-convert {\n",
              "      background-color: #3B4455;\n",
              "      fill: #D2E3FC;\n",
              "    }\n",
              "\n",
              "    [theme=dark] .colab-df-convert:hover {\n",
              "      background-color: #434B5C;\n",
              "      box-shadow: 0px 1px 3px 1px rgba(0, 0, 0, 0.15);\n",
              "      filter: drop-shadow(0px 1px 2px rgba(0, 0, 0, 0.3));\n",
              "      fill: #FFFFFF;\n",
              "    }\n",
              "  </style>\n",
              "\n",
              "    <script>\n",
              "      const buttonEl =\n",
              "        document.querySelector('#df-7595c436-89d1-450e-8079-f2a2d43ee15e button.colab-df-convert');\n",
              "      buttonEl.style.display =\n",
              "        google.colab.kernel.accessAllowed ? 'block' : 'none';\n",
              "\n",
              "      async function convertToInteractive(key) {\n",
              "        const element = document.querySelector('#df-7595c436-89d1-450e-8079-f2a2d43ee15e');\n",
              "        const dataTable =\n",
              "          await google.colab.kernel.invokeFunction('convertToInteractive',\n",
              "                                                    [key], {});\n",
              "        if (!dataTable) return;\n",
              "\n",
              "        const docLinkHtml = 'Like what you see? Visit the ' +\n",
              "          '<a target=\"_blank\" href=https://colab.research.google.com/notebooks/data_table.ipynb>data table notebook</a>'\n",
              "          + ' to learn more about interactive tables.';\n",
              "        element.innerHTML = '';\n",
              "        dataTable['output_type'] = 'display_data';\n",
              "        await google.colab.output.renderOutput(dataTable, element);\n",
              "        const docLink = document.createElement('div');\n",
              "        docLink.innerHTML = docLinkHtml;\n",
              "        element.appendChild(docLink);\n",
              "      }\n",
              "    </script>\n",
              "  </div>\n",
              "\n",
              "\n",
              "<div id=\"df-82675b2b-4dd1-4094-81ab-ee86931fb8aa\">\n",
              "  <button class=\"colab-df-quickchart\" onclick=\"quickchart('df-82675b2b-4dd1-4094-81ab-ee86931fb8aa')\"\n",
              "            title=\"Suggest charts\"\n",
              "            style=\"display:none;\">\n",
              "\n",
              "<svg xmlns=\"http://www.w3.org/2000/svg\" height=\"24px\"viewBox=\"0 0 24 24\"\n",
              "     width=\"24px\">\n",
              "    <g>\n",
              "        <path d=\"M19 3H5c-1.1 0-2 .9-2 2v14c0 1.1.9 2 2 2h14c1.1 0 2-.9 2-2V5c0-1.1-.9-2-2-2zM9 17H7v-7h2v7zm4 0h-2V7h2v10zm4 0h-2v-4h2v4z\"/>\n",
              "    </g>\n",
              "</svg>\n",
              "  </button>\n",
              "\n",
              "<style>\n",
              "  .colab-df-quickchart {\n",
              "      --bg-color: #E8F0FE;\n",
              "      --fill-color: #1967D2;\n",
              "      --hover-bg-color: #E2EBFA;\n",
              "      --hover-fill-color: #174EA6;\n",
              "      --disabled-fill-color: #AAA;\n",
              "      --disabled-bg-color: #DDD;\n",
              "  }\n",
              "\n",
              "  [theme=dark] .colab-df-quickchart {\n",
              "      --bg-color: #3B4455;\n",
              "      --fill-color: #D2E3FC;\n",
              "      --hover-bg-color: #434B5C;\n",
              "      --hover-fill-color: #FFFFFF;\n",
              "      --disabled-bg-color: #3B4455;\n",
              "      --disabled-fill-color: #666;\n",
              "  }\n",
              "\n",
              "  .colab-df-quickchart {\n",
              "    background-color: var(--bg-color);\n",
              "    border: none;\n",
              "    border-radius: 50%;\n",
              "    cursor: pointer;\n",
              "    display: none;\n",
              "    fill: var(--fill-color);\n",
              "    height: 32px;\n",
              "    padding: 0;\n",
              "    width: 32px;\n",
              "  }\n",
              "\n",
              "  .colab-df-quickchart:hover {\n",
              "    background-color: var(--hover-bg-color);\n",
              "    box-shadow: 0 1px 2px rgba(60, 64, 67, 0.3), 0 1px 3px 1px rgba(60, 64, 67, 0.15);\n",
              "    fill: var(--button-hover-fill-color);\n",
              "  }\n",
              "\n",
              "  .colab-df-quickchart-complete:disabled,\n",
              "  .colab-df-quickchart-complete:disabled:hover {\n",
              "    background-color: var(--disabled-bg-color);\n",
              "    fill: var(--disabled-fill-color);\n",
              "    box-shadow: none;\n",
              "  }\n",
              "\n",
              "  .colab-df-spinner {\n",
              "    border: 2px solid var(--fill-color);\n",
              "    border-color: transparent;\n",
              "    border-bottom-color: var(--fill-color);\n",
              "    animation:\n",
              "      spin 1s steps(1) infinite;\n",
              "  }\n",
              "\n",
              "  @keyframes spin {\n",
              "    0% {\n",
              "      border-color: transparent;\n",
              "      border-bottom-color: var(--fill-color);\n",
              "      border-left-color: var(--fill-color);\n",
              "    }\n",
              "    20% {\n",
              "      border-color: transparent;\n",
              "      border-left-color: var(--fill-color);\n",
              "      border-top-color: var(--fill-color);\n",
              "    }\n",
              "    30% {\n",
              "      border-color: transparent;\n",
              "      border-left-color: var(--fill-color);\n",
              "      border-top-color: var(--fill-color);\n",
              "      border-right-color: var(--fill-color);\n",
              "    }\n",
              "    40% {\n",
              "      border-color: transparent;\n",
              "      border-right-color: var(--fill-color);\n",
              "      border-top-color: var(--fill-color);\n",
              "    }\n",
              "    60% {\n",
              "      border-color: transparent;\n",
              "      border-right-color: var(--fill-color);\n",
              "    }\n",
              "    80% {\n",
              "      border-color: transparent;\n",
              "      border-right-color: var(--fill-color);\n",
              "      border-bottom-color: var(--fill-color);\n",
              "    }\n",
              "    90% {\n",
              "      border-color: transparent;\n",
              "      border-bottom-color: var(--fill-color);\n",
              "    }\n",
              "  }\n",
              "</style>\n",
              "\n",
              "  <script>\n",
              "    async function quickchart(key) {\n",
              "      const quickchartButtonEl =\n",
              "        document.querySelector('#' + key + ' button');\n",
              "      quickchartButtonEl.disabled = true;  // To prevent multiple clicks.\n",
              "      quickchartButtonEl.classList.add('colab-df-spinner');\n",
              "      try {\n",
              "        const charts = await google.colab.kernel.invokeFunction(\n",
              "            'suggestCharts', [key], {});\n",
              "      } catch (error) {\n",
              "        console.error('Error during call to suggestCharts:', error);\n",
              "      }\n",
              "      quickchartButtonEl.classList.remove('colab-df-spinner');\n",
              "      quickchartButtonEl.classList.add('colab-df-quickchart-complete');\n",
              "    }\n",
              "    (() => {\n",
              "      let quickchartButtonEl =\n",
              "        document.querySelector('#df-82675b2b-4dd1-4094-81ab-ee86931fb8aa button');\n",
              "      quickchartButtonEl.style.display =\n",
              "        google.colab.kernel.accessAllowed ? 'block' : 'none';\n",
              "    })();\n",
              "  </script>\n",
              "</div>\n",
              "\n",
              "    </div>\n",
              "  </div>\n"
            ],
            "text/plain": [
              "   rating  weight\n",
              "0       4       2\n",
              "1      10       1\n",
              "2       5       4\n",
              "3       6       2\n",
              "4       5       2"
            ]
          },
          "execution_count": 2,
          "metadata": {},
          "output_type": "execute_result"
        }
      ],
      "source": [
        "barbie_ratings.head()"
      ]
    },
    {
      "cell_type": "markdown",
      "metadata": {
        "id": "UinIBswF7tMT"
      },
      "source": [
        "The dataset `barbie_ratings` has two columns: (1) `rating` which correspond to a rating given by a particular viewer, between 1 and 10; and (2) `weight` which corresponds to the importance of the given rating, between 1 and 4, based on previous data about the user (usefulness of other ratings, peer-voting, etc).\n",
        "\n",
        "**IMPORTANT: Through this lab, it is not necessary that you manually clip the data to the aforementioned bounds. The data is already compliant with the bounds.**"
      ]
    },
    {
      "cell_type": "code",
      "execution_count": 2,
      "metadata": {
        "id": "HECMFt9fspPk"
      },
      "outputs": [],
      "source": [
        "## You may use this variables later:\n",
        "\n",
        "# Upper bound for ratings\n",
        "u = 10\n",
        "\n",
        "# Upper bound for weights\n",
        "wu = 4"
      ]
    },
    {
      "cell_type": "markdown",
      "metadata": {
        "id": "hroFPGc1iYAv"
      },
      "source": [
        "## Question 1 (4 points)\n",
        "\n",
        "The weighted average formula is defined as:\n",
        "\n",
        "$$\n",
        "\\frac{\\sum_{i=1}^n w_i * x_i}{\\sum_{i=1}^n w_i}\n",
        "$$\n",
        "\n",
        "Where $w_i$ and $x_i$ in the ratings dataset corresponds to the the weight and rating of viewer $i$ respectively.\n",
        "(Notice that when all the weights $w_i$ are $1$, the weighted average is equivalent to the regular average)\n",
        "\n",
        "**Write a function that calculates the weighted average of a dataset**:"
      ]
    },
    {
      "cell_type": "code",
      "execution_count": null,
      "metadata": {},
      "outputs": [
        {
          "data": {
            "text/plain": [
              "13629"
            ]
          },
          "execution_count": 6,
          "metadata": {},
          "output_type": "execute_result"
        }
      ],
      "source": []
    },
    {
      "cell_type": "code",
      "execution_count": 8,
      "metadata": {
        "id": "O3D3wSd3l2a_"
      },
      "outputs": [
        {
          "data": {
            "text/plain": [
              "5.484507042253521"
            ]
          },
          "execution_count": 8,
          "metadata": {},
          "output_type": "execute_result"
        }
      ],
      "source": [
        "def weighted_avg(data, weights):\n",
        "    \"\"\"\n",
        "        Parameters:\n",
        "            data (pd.Series): The data to average\n",
        "            weights (pd.Series): The weights to calculate the average\n",
        "        Returns:\n",
        "            The `weights`-weighted average of `data`\n",
        "    \"\"\"\n",
        "    numerador = (data*weights).sum()\n",
        "    denominador = weights.sum()\n",
        "    promedio = numerador / denominador \n",
        "    return promedio\n",
        "\n",
        "weighted_avg(ratings, weights)"
      ]
    },
    {
      "cell_type": "markdown",
      "metadata": {
        "id": "55XNs0SBmYI9"
      },
      "source": [
        "## Question 2 (6 points)\n",
        "\n",
        "Write a differentially private version of `weighted_avg`, using global sensitivity."
      ]
    },
    {
      "cell_type": "code",
      "execution_count": 12,
      "metadata": {
        "id": "QuH0cSQNm6H5"
      },
      "outputs": [
        {
          "data": {
            "text/plain": [
              "4.92946307776455"
            ]
          },
          "execution_count": 12,
          "metadata": {},
          "output_type": "execute_result"
        }
      ],
      "source": [
        "import numpy as np\n",
        "import pandas as pd\n",
        "\n",
        "def laplace_noise(scale):\n",
        "    return np.random.laplace(loc=0.0, scale=scale)\n",
        "\n",
        "def gs_weighted_avg(data, weights, data_ub, weight_ub, epsilon):\n",
        "    \"\"\"\n",
        "        Parameters:\n",
        "            data (pd.Series): The data to average\n",
        "            weights (pd.Series): The weights to calculate the average\n",
        "            data_ub (int): Upper bound of the data values\n",
        "            weight_ub (int): Upper bound of the weights\n",
        "            epsilon (float): Privacy budget (must be > 0)\n",
        "        Returns:\n",
        "           Differentially private weighted average using global sensitivity\n",
        "    \"\"\"\n",
        "    if epsilon <= 0:\n",
        "        raise ValueError(\"Epsilon must be > 0 for differential privacy\")\n",
        "\n",
        "    data_clipped = data.clip(upper=data_ub)\n",
        "    weights_clipped = weights.clip(upper=weight_ub)\n",
        "\n",
        "    numerador = (data_clipped * weights_clipped).sum()\n",
        "    denominador = weights_clipped.sum()\n",
        "\n",
        "    #si cambiamos data solo un registro, la sensibilidad dice que\n",
        "    #el numerador cambiará en exactamente uno multiplicado por\n",
        "    #el peso (porque en el numerador se multiplican). \n",
        "    sens_numerador = data_ub * weight_ub\n",
        "    #mientras que la sensibilidad del denominador no cambia sustancialmente (a lo más \n",
        "    # en el upper bound del peso).\n",
        "    sens_denominador = weight_ub\n",
        "\n",
        "    #dividimos el presupuesto entre el cálculo del numerador y del denominador\n",
        "    epsilon_n = epsilon / 2\n",
        "    epsilon_d = epsilon / 2\n",
        "\n",
        "    numerador_ruidoso = numerador + laplace_noise(sens_numerador / epsilon_n)\n",
        "    denominador_ruidoso = denominador + laplace_noise(sens_denominador / epsilon_d)\n",
        "\n",
        "    return numerador_ruidoso / denominador_ruidoso\n",
        "\n",
        "\n",
        "gs_weighted_avg(ratings, weights, u, wu, 0.1)"
      ]
    },
    {
      "cell_type": "markdown",
      "metadata": {
        "id": "Pnont5rkm92c"
      },
      "source": [
        "**Explain why your implementation is `epsilon`-DP**."
      ]
    },
    {
      "cell_type": "markdown",
      "metadata": {
        "id": "mWjaE-79nIWw"
      },
      "source": [
        "YOUR ANSWER\n",
        "\n",
        "Cada una de las dos sumas tiene ruido calibrado para cumplir \n",
        "$\\varepsilon_n$-DP y $\\varepsilon_d$-DP respectivamente.\n",
        "\n",
        "Como ambas partes de la función (es decir, el numerador como el denominador) operan sobre el mismo conjunto de datos original, podemos aplicar composición secuencial:\n",
        "$$\n",
        "f(D) = \\frac{f_1(D) + \\text{Lap}(\\Delta_1 / \\varepsilon_n)}{f_2(D) + \\text{Lap}(\\Delta_2 / \\varepsilon_d)} \\Rightarrow \\text{es } (\\varepsilon_n + \\varepsilon_d)\\text{-DP}\n",
        "$$\n",
        "pero como dividimos el presupuesto $\\epsilon$ equitativamente entre $\\varepsilon_n$ y $\\varepsilon_d$, podemos decir que la función ´gs_weighted_avg´ es $(\\varepsilon_n + \\varepsilon_d)\\text{-DP}$ o $(\\varepsilon)\\text{-DP}$\n"
      ]
    },
    {
      "cell_type": "markdown",
      "metadata": {
        "id": "lUogUQ8joWFH"
      },
      "source": [
        "## Question 3 (6 points)\n",
        "\n",
        "Calculate the local sensitivity of the weighted average.\n"
      ]
    },
    {
      "cell_type": "markdown",
      "metadata": {
        "id": "rAwP4fI2pDxB"
      },
      "source": [
        "YOUR ANSWER:\n",
        "\n",
        "(Complete the following)\n",
        "\n",
        "Given\n",
        "$$\n",
        "f(x, w) = \\frac{\\sum_{i=1}^n w_i * x_i}{\\sum_{i=1}^n w_i}\n",
        "$$\n",
        "\n",
        "If we add a row:\n",
        "\n",
        "$$\n",
        "\\begin{align}\n",
        "|f(x, w) - f(x', w')| &= |   \\frac{\\sum_{i=1}^n w_i * x_i}{\\sum_{i=1}^n w_i} -          \\frac{\\sum_{i=1}^{n+1} w_i * x_i}{\\sum_{i=1}^{n+1} w_i}  | \\\\\n",
        "\n",
        "                      &\\leq  | \\frac{\\sum_{i=1}^n w_i * x_i}{\\sum_{i=1}^{n+1} w_i} -          \\frac{\\sum_{i=1}^{n+1} w_i * x_i}{\\sum_{i=1}^{n+1} w_i}|\\\\\n",
        "                      &= |\\frac{\\sum_{i=1}^n w_i * x_i - \\sum_{i=1}^{n+1} w_i * x_i}{\\sum_{i=1}^{n+1} w_i}|\\\\\n",
        "                      &= |\\frac{w_{n+1}*x_{n+1}}{\\sum_{i=1}^{n+1} w_i}|\\\\\n",
        "                      &= |\\frac{w_{n+1}*x_{n+1}}{\\sum_{i=1}^n w_i + w_{n+1}}|\\\\\n",
        "                      &= |\\frac{w_{n+1}*x_{n+1}}{\\text{suma}(w) + w_{n+1}}|\\\\\n",
        "                      &\\leq |\\frac{4*10}{\\text{suma}(w) + 4}|\\\\\n",
        "                      &= |\\frac{40}{\\text{suma}(w) + 4}|\n",
        "\\end{align}\n",
        "$$\n",
        "Por lo tanto, podemos ver que la sensibilidad de dicha función depende de la suma de todos los ´weights´ (de la base de datos original, es decir, de aquella que aún no tiene ningún registro nuevo añadido), del peso y rating del nuevo registro $w_{n+1}$ y $x_{n+1}$, respectivamente. En general, es de esperar que dicha sensibilidad no sea muy grande si la ponderación del rating de cada persona es baja en relación a la suma de todos los pesos. Como el peso va entre 1 y 4 y el rating entre 1 y 10, podemos incluso ir más allá en la demostración. Por lo tanto, dicha función no es diferencialmente privada, porque si el analista sabe la sensibilidad local del dataset, puede inferir cosas de él (en el caso de la sensibilidad local)."
      ]
    },
    {
      "cell_type": "markdown",
      "metadata": {
        "id": "UHiLR-N2q_4j"
      },
      "source": [
        "## Question 4 (9 points)\n",
        "\n",
        "As we saw in class, even though local sensitivity gives us a better upper bound than global sensitivity, we cannot directly use it with the mechanisms we have seen (e.g. laplace).\n",
        "\n",
        "We will implement the Propose-Test-Release method for calculating a private weighted average of `barbie_ratings`. In order to do that, follow the next steps:"
      ]
    },
    {
      "cell_type": "markdown",
      "metadata": {
        "id": "X-fFteTtrtni"
      },
      "source": [
        "1. Implement a function to compute the *Maximum Local Sensitivity* at distance k:"
      ]
    },
    {
      "cell_type": "code",
      "execution_count": null,
      "metadata": {
        "id": "wKs1MklosPSc"
      },
      "outputs": [],
      "source": [
        "def ls_at_distance(target_ub, weight_ub, W, k):\n",
        "    \"\"\"\n",
        "        Parameters:\n",
        "            target_ub (int): Upper bound of the target values\n",
        "            weight_ub (int): Upper bound of the weights\n",
        "            W (int): Total sum of weights in the original dataset\n",
        "            k (int): Number of steps away (number of changes)\n",
        "        Returns:\n",
        "            Local sensitivity at distance k\n",
        "    \"\"\"\n",
        "    #el máximo peso añadido será k veces el peso máixmo:\n",
        "    maximo_peso_añadido = k * weight_ub\n",
        "    #como ya demostramos en la parte anterior,\n",
        "    #el promedio máximo posible si agregamos k valores máximos será:\n",
        "    cambio_superior = (target_ub * maximo_peso_añadido) / (W.sum() + maximo_peso_añadido)\n",
        "    #el promedio mínimo posible si agregamos k valores mínimos será 0, porque\n",
        "    #el mínimo de los pesos es cero, y por ende el promedio sería 0, así como \n",
        "    #el denominador:\n",
        "    cambio_inferior = 0\n",
        "\n",
        "    #y asumiendo promedio actual entre 0 y target_ub, evaluamos máximas diferencias\n",
        "    delta_superior = abs(target_ub - cambio_superior)\n",
        "    delta_inferior = abs(0 - cambio_inferior)\n",
        "\n",
        "    return max(delta_superior, delta_inferior)\n"
      ]
    },
    {
      "cell_type": "markdown",
      "metadata": {
        "id": "3SDcHKLuvTaF"
      },
      "source": [
        "2. Implement a function to find the minimum number of steps to achieve a local sensitivity of at least $b$:\n",
        "\n",
        "*Hint: Start by trying with $k=0$, and increment $k$ until the threshold of $b$ is achieved*"
      ]
    },
    {
      "cell_type": "code",
      "execution_count": null,
      "metadata": {
        "id": "DfnuYIV5vhl1"
      },
      "outputs": [],
      "source": [
        "def dist_to_high_ls(target_ub, weight_ub, W, b):\n",
        "    \"\"\"\n",
        "        Parameters:\n",
        "            target_ub (int): The upper bound of the target column\n",
        "            weight_ub (int): The upper bound of the weight column\n",
        "            W (int): The sum of the weights of the origin dataframe\n",
        "            b (float): The proposed bound on local sensitivity\n",
        "        Returns:\n",
        "            The minimum number of steps to achieve a local sensitivity of at least `b`\n",
        "    \"\"\"\n",
        "    #como dice el hint, primero inicializamos k como cero para ir incrementandolo\n",
        "    #hasta que alcanzamos el valor b.\n",
        "    k = 0\n",
        "    while True:\n",
        "        ls = ls_at_distance(target_ub, weight_ub, W, k)\n",
        "        if ls >= b:\n",
        "            return k\n",
        "        k += 1"
      ]
    },
    {
      "cell_type": "markdown",
      "metadata": {
        "id": "6onKa_xpwv4Y"
      },
      "source": [
        "3. Implement the PTR version of weighted average:"
      ]
    },
    {
      "cell_type": "code",
      "execution_count": null,
      "metadata": {
        "id": "OGTMpdIow4CA"
      },
      "outputs": [],
      "source": [
        "def ptr_weighted_avg(data, weights, data_ub, weight_ub, b, epsilon, delta):\n",
        "    \"\"\"\n",
        "        Parameters:\n",
        "            data    (pd.Series): The data to average, in this case, the ratings\n",
        "            weights (pd.Series): The weights to calculate the average\n",
        "            data_ub (int): The upper bound of the target column\n",
        "            weight_ub (int): The upper bound of the weight column\n",
        "            b (float): The proposed bound on local sensitivity\n",
        "            epsilon, delta: The level of privacy\n",
        "        Returns:\n",
        "            The private weighted average using PTR\n",
        "    \"\"\"\n",
        "    data_clipped = data.clip(upper=data_ub)\n",
        "    k = dist_to_high_ls(data_ub, weight_ub, denominador, b)\n",
        "\n",
        "\n",
        "    weights_clipped = weights.clip(upper=weight_ub)\n",
        "\n",
        "    numerador = (data_clipped * weights_clipped).sum()\n",
        "    denominador = weights_clipped.sum()\n",
        "    avg = numerador / denominador\n",
        "\n",
        "\n",
        "    beta = epsilon / (2 * np.log(2 / delta))\n",
        "    smooth_sens = b * np.exp(-beta * k)\n",
        "    noise = laplace_noise(scale=smooth_sens / epsilon)\n",
        "\n",
        "    return avg + noise"
      ]
    },
    {
      "cell_type": "code",
      "execution_count": 23,
      "metadata": {
        "id": "Dp0Qhf3N1Uxa"
      },
      "outputs": [
        {
          "data": {
            "text/plain": [
              "5.464530557116332"
            ]
          },
          "execution_count": 23,
          "metadata": {},
          "output_type": "execute_result"
        }
      ],
      "source": [
        "ptr_weighted_avg(ratings, weights, u, wu, 0.02, 1.0, 10e-6)"
      ]
    },
    {
      "cell_type": "markdown",
      "metadata": {
        "id": "91Ionxsn1N3h"
      },
      "source": [
        "## Question 5 (4 points)\n",
        "\n",
        "The following code plots the relative errors (against the real answer) of global sensitivity and PTR:"
      ]
    },
    {
      "cell_type": "code",
      "execution_count": 19,
      "metadata": {
        "id": "GufhM8ZHuWVE"
      },
      "outputs": [
        {
          "data": {
            "image/png": "[encoded data removed]",
            "text/plain": [
              "<Figure size 640x480 with 1 Axes>"
            ]
          },
          "metadata": {},
          "output_type": "display_data"
        }
      ],
      "source": [
        "epsilon = 1.0\n",
        "delta = 10e-6\n",
        "b = 0.05\n",
        "\n",
        "gs_errors = []\n",
        "ptr_errors = []\n",
        "\n",
        "real_avg = weighted_avg(ratings, weights)\n",
        "\n",
        "for i in range(200):\n",
        "    ptr_result = ptr_weighted_avg(ratings, weights, u, wu, b, epsilon, delta)\n",
        "\n",
        "    gs_result = gs_weighted_avg(ratings, weights, u, wu, epsilon)\n",
        "    gs_errors.append(pct_error(real_avg, gs_result))\n",
        "\n",
        "    if ptr_result is None:\n",
        "        continue\n",
        "\n",
        "    ptr_errors.append(pct_error(real_avg, ptr_result))\n",
        "\n",
        "_, bins, _ = plt.hist(gs_errors, label='Global sensitivity');\n",
        "plt.hist(ptr_errors, alpha=.7, label='PTR', bins=bins);\n",
        "plt.xlabel('Percent Error')\n",
        "plt.ylabel('Number of Trials')\n",
        "plt.legend();"
      ]
    },
    {
      "cell_type": "markdown",
      "metadata": {
        "id": "WMPnM7gdLAkY"
      },
      "source": [
        "1. Compare the accuracies of both methods. Which one is better? Explain how the plot helps justifying your analysis.\n",
        "2. What can you say about the parameter $b$, in terms of the usability of the PTR method? How does this aspect compare to the global sensitivity method?"
      ]
    },
    {
      "cell_type": "markdown",
      "metadata": {
        "id": "pwtW31scitA8"
      },
      "source": [
        "YOUR ANSWER HERE"
      ]
    },
    {
      "cell_type": "markdown",
      "metadata": {
        "id": "v0XC9fkQLuDr"
      },
      "source": [
        "## Question 6 (3 points)\n",
        "\n",
        "Now, we will implement the weighted average using the Smooth Sensitivity framework.\n",
        "\n",
        "First, implement `smooth_ls_at_distance`, which calculates the local sensitivity at distance $k$, smoothed out by an exponential factor of $e^{-\\beta k}$:"
      ]
    },
    {
      "cell_type": "code",
      "execution_count": null,
      "metadata": {
        "id": "9r_SI9iFMXnf"
      },
      "outputs": [],
      "source": [
        "def smooth_ls_at_distance(data_ub, weight_ub, W, k, beta):\n",
        "    \"\"\"\n",
        "        Parameters:\n",
        "            data_ub (int): The upper bound of the target column\n",
        "            weight_ub (int): The upper bound of the weight column\n",
        "            W (int): The sum of the weights of the origin dataframe\n",
        "            k (int): The number of steps away from the origin dataframe\n",
        "            beta (float): The smooth factor\n",
        "        Returns:\n",
        "            The smoothed local sensitivity at distance k\n",
        "    \"\"\"\n",
        "    raise NotImplementedError()"
      ]
    },
    {
      "cell_type": "markdown",
      "metadata": {
        "id": "Gva0jUgjPJwL"
      },
      "source": [
        "## Question 7 (2 points)\n",
        "\n",
        "1. What does the following graph shows?\n",
        "2. What information can we infer from this plot to help us implement a weighted average using smooth sensitivity?"
      ]
    },
    {
      "cell_type": "code",
      "execution_count": null,
      "metadata": {
        "id": "T7QU4ETSM3Iw"
      },
      "outputs": [],
      "source": [
        "beta = 0.05\n",
        "\n",
        "r = [smooth_ls_at_distance(u, wu, weights.sum(), k, beta) for k in range(0, 200)]\n",
        "\n",
        "plt.plot(r);\n",
        "plt.xlabel('Value of k')\n",
        "plt.ylabel('Smoothed-out Local Sensitivity');"
      ]
    },
    {
      "cell_type": "markdown",
      "metadata": {
        "id": "20VBDfy0Pamu"
      },
      "source": [
        "## Question 8 (6 points)\n",
        "\n",
        "Implement the query using Smooth Sensitivity:"
      ]
    },
    {
      "cell_type": "code",
      "execution_count": null,
      "metadata": {
        "id": "yzrMdiL1i7uM"
      },
      "outputs": [],
      "source": [
        "def ss_weighted_avg(data, weights, data_ub, weight_ub, epsilon, delta):\n",
        "    \"\"\"\n",
        "        Parameters:\n",
        "            data    (pd.Series): The data to average\n",
        "            weights (pd.Series): The weights to calculate the average\n",
        "            data_ub (int): The upper bound of the target column\n",
        "            weight_ub (int): The upper bound of the weight column\n",
        "            epsilon, delta: The level of privacy\n",
        "        Returns:\n",
        "            The private weighted average using Smooth Sensitivity\n",
        "    \"\"\"\n",
        "    raise NotImplementedError()\n",
        "\n",
        "ss_weighted_avg(ratings, weights, u, wu, epsilon, delta)"
      ]
    },
    {
      "cell_type": "markdown",
      "metadata": {
        "id": "DB4YF9CwP5Yq"
      },
      "source": [
        "## Question 9 (4 points)\n",
        "\n",
        "The following code plots the relative errors (against the real answer) of global sensitivity and Smooth Sensitivity:"
      ]
    },
    {
      "cell_type": "code",
      "execution_count": null,
      "metadata": {
        "id": "hzYZFumTCkL0"
      },
      "outputs": [],
      "source": [
        "gs_results  = [\n",
        "    pct_error(weighted_avg(ratings, weights),\n",
        "    gs_weighted_avg(ratings, weights, u, wu, epsilon)) for i in range(100)]\n",
        "ptr_results = [\n",
        "    pct_error(weighted_avg(ratings, weights),\n",
        "    ss_weighted_avg(ratings, weights, u, wu, epsilon, delta)) for i in range(100)]\n",
        "\n",
        "_, bins, _ = plt.hist(gs_results, label='Global sensitivity');\n",
        "plt.hist(ptr_results, alpha=.7, label='Smooth sensitivity', bins=bins);\n",
        "plt.xlabel('Percent Error')\n",
        "plt.ylabel('Number of Trials')\n",
        "plt.legend();"
      ]
    },
    {
      "cell_type": "markdown",
      "metadata": {
        "id": "O3xqJxi4i_DQ"
      },
      "source": [
        "1. Compare the accuracies of both methods. Explain how the plot helps justifying your analysis.\n",
        "2. What disadvantage has this method when comparing it with the global sensitivity approach?"
      ]
    },
    {
      "cell_type": "markdown",
      "metadata": {
        "id": "U42lvix6jwZi"
      },
      "source": [
        "## Question 10 (6 points)\n",
        "\n",
        "Let us define a function that receives $k$ results, computed from **disjoint** sets of data, and calculates the clipped (by $l$ and $u$) average between them as follows:\n",
        "\n",
        "$$\n",
        "g_{l,u}(x) = \\frac{\\sum^k_{i=1} \\mathsf{clip}(x_i, l, u)}{k}\n",
        "$$\n",
        "\n",
        "where $x$ is a vector that represent the average of each disjoint set of data.\n",
        "\n",
        "**Calculate the global sensitivity of $g_{l,u}$.**\n",
        "\n",
        "*Hint: Use the fact that the computations x_i are disjoint*"
      ]
    },
    {
      "cell_type": "markdown",
      "metadata": {
        "id": "IU0FB4pDRoi7"
      },
      "source": [
        "Complete:\n",
        "\n",
        "$$\n",
        "\\begin{align*}\n",
        "|g_{l,u}(x) - g_{l,u}(x')| &= \\dots \\\\\n",
        "                           &= \\dots \\\\\n",
        "                           &\\leq \\dots\n",
        "\\end{align*}\n",
        "$$"
      ]
    },
    {
      "cell_type": "markdown",
      "metadata": {
        "id": "fg6VA4u3SJif"
      },
      "source": [
        "## Question 11 (6 points)\n",
        "\n",
        "Implement the Sample & Aggregate framework for weighted averages, using $g$ as your aggregation function.\n",
        "\n",
        "*Hint: Use the function `np.array_split` to divide the dataframe in $k$ chunks.*"
      ]
    },
    {
      "cell_type": "code",
      "execution_count": null,
      "metadata": {
        "id": "ZId4rP0SDoE5"
      },
      "outputs": [],
      "source": [
        "def sa_weighted_avg(data, weights, k, l, u, epsilon):\n",
        "    \"\"\"\n",
        "        Parameters:\n",
        "            data    (pd.Series): The data to average\n",
        "            weights (pd.Series): The weights to calculate the average\n",
        "            k (int): The number of chunks\n",
        "            l, u (int): The clipping parameters for dividing the partial averages\n",
        "            epsilon (float): The privacy budget\n",
        "        Returns:\n",
        "            The private weighted average using Sample & Aggregate\n",
        "    \"\"\"\n",
        "    raise NotImplementedError()\n",
        "\n",
        "sa_weighted_avg(ratings, weights, 200, 2, 8, epsilon)"
      ]
    },
    {
      "cell_type": "markdown",
      "metadata": {
        "id": "FgCfyxqGS1f-"
      },
      "source": [
        "## Question 12 (4 points)\n",
        "\n",
        "The following code plots the relative errors (against the real answer) of global sensitivity and Smooth Sensitivity:"
      ]
    },
    {
      "cell_type": "code",
      "execution_count": null,
      "metadata": {
        "id": "Iupzp8gYGKLa"
      },
      "outputs": [],
      "source": [
        "gs_results  = [\n",
        "    pct_error(weighted_avg(ratings, weights),\n",
        "    gs_weighted_avg(ratings, weights, u, wu, epsilon)) for i in range(100)]\n",
        "ptr_results = [\n",
        "    pct_error(weighted_avg(ratings, weights),\n",
        "    sa_weighted_avg(ratings, weights, 200, 2, 8, epsilon)) for i in range(100)]\n",
        "\n",
        "_, bins, _ = plt.hist(gs_results, label='Global sensitivity');\n",
        "plt.hist(ptr_results, alpha=.7, label='Sam. & Agg.', bins=bins);\n",
        "plt.xlabel('Percent Error')\n",
        "plt.ylabel('Number of Trials')\n",
        "plt.legend();"
      ]
    },
    {
      "cell_type": "markdown",
      "metadata": {
        "id": "VcCCCoemTAuV"
      },
      "source": [
        "1. Compare the accuracies of both methods. Explain how the plot helps justifying your analysis.\n",
        "2. We used bounds of $(2,8)$ as clipping parameters for the intermediate averages. Do you think those are reasonable bounds? Why?"
      ]
    },
    {
      "cell_type": "markdown",
      "metadata": {
        "id": "ADVCfNJSTBfB"
      },
      "source": [
        "YOUR ANSWER"
      ]
    }
  ],
  "metadata": {
    "colab": {
      "provenance": []
    },
    "kernelspec": {
      "display_name": "Python 3",
      "language": "python",
      "name": "python3"
    },
    "language_info": {
      "codemirror_mode": {
        "name": "ipython",
        "version": 3
      },
      "file_extension": ".py",
      "mimetype": "text/x-python",
      "name": "python",
      "nbconvert_exporter": "python",
      "pygments_lexer": "ipython3",
      "version": "3.9.6"
    }
  },
  "nbformat": 4,
  "nbformat_minor": 0
}
