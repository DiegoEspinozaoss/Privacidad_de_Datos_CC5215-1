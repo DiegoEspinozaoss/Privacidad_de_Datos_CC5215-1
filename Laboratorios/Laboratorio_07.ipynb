{
  "cells": [
    {
      "cell_type": "markdown",
      "metadata": {
        "id": "7X7ZwNViRWmT"
      },
      "source": [
        "# CC5215: Privacidad de Datos\n",
        "\n",
        "## Laboratorio 7\n",
        "\n",
        "Integrantes: (trabajé solo porque no pude conseguir un compañero de equipo)\n",
        "\n",
        "- Nombre: Diego Espinoza"
      ]
    },
    {
      "cell_type": "code",
      "execution_count": 1,
      "metadata": {
        "id": "9JmjcAJRRWmW"
      },
      "outputs": [],
      "source": [
        "# Load the data and libraries\n",
        "import pandas as pd\n",
        "import numpy as np\n",
        "import random\n",
        "import matplotlib.pyplot as plt\n",
        "\n",
        "def laplace_mech(v, sensitivity, epsilon):\n",
        "    return v + np.random.laplace(loc=0, scale=sensitivity / epsilon)\n",
        "\n",
        "def pct_error(orig, priv):\n",
        "    return np.abs(orig - priv)/orig * 100.0\n",
        "\n",
        "barbie_ratings = pd.read_csv('https://users.dcc.uchile.cl/~darquez/barbie_ratings.csv')\n",
        "\n",
        "# YOU MAY USE THIS VARIABLES LATER\n",
        "ratings = barbie_ratings['rating']\n",
        "weights = barbie_ratings['weight']"
      ]
    },
    {
      "cell_type": "markdown",
      "metadata": {
        "id": "6xGQeIFqjtjv"
      },
      "source": [
        "## Introduction\n",
        "\n",
        "In this lab we will work with a dataset of user ratings for the Barbie movie. In particular, we will try out different methods of making a weighted average of the ratings private."
      ]
    },
    {
      "cell_type": "code",
      "execution_count": 2,
      "metadata": {
        "colab": {
          "base_uri": "https://localhost:8080/",
          "height": 206
        },
        "id": "0bgPBSKakOmZ",
        "outputId": "81afe092-35b3-4755-e605-88ed12ee1d98"
      },
      "outputs": [
        {
          "data": {
            "text/html": [
              "<div>\n",
              "<style scoped>\n",
              "    .dataframe tbody tr th:only-of-type {\n",
              "        vertical-align: middle;\n",
              "    }\n",
              "\n",
              "    .dataframe tbody tr th {\n",
              "        vertical-align: top;\n",
              "    }\n",
              "\n",
              "    .dataframe thead th {\n",
              "        text-align: right;\n",
              "    }\n",
              "</style>\n",
              "<table border=\"1\" class=\"dataframe\">\n",
              "  <thead>\n",
              "    <tr style=\"text-align: right;\">\n",
              "      <th></th>\n",
              "      <th>rating</th>\n",
              "      <th>weight</th>\n",
              "    </tr>\n",
              "  </thead>\n",
              "  <tbody>\n",
              "    <tr>\n",
              "      <th>0</th>\n",
              "      <td>4</td>\n",
              "      <td>2</td>\n",
              "    </tr>\n",
              "    <tr>\n",
              "      <th>1</th>\n",
              "      <td>10</td>\n",
              "      <td>1</td>\n",
              "    </tr>\n",
              "    <tr>\n",
              "      <th>2</th>\n",
              "      <td>5</td>\n",
              "      <td>4</td>\n",
              "    </tr>\n",
              "    <tr>\n",
              "      <th>3</th>\n",
              "      <td>6</td>\n",
              "      <td>2</td>\n",
              "    </tr>\n",
              "    <tr>\n",
              "      <th>4</th>\n",
              "      <td>5</td>\n",
              "      <td>2</td>\n",
              "    </tr>\n",
              "  </tbody>\n",
              "</table>\n",
              "</div>"
            ],
            "text/plain": [
              "   rating  weight\n",
              "0       4       2\n",
              "1      10       1\n",
              "2       5       4\n",
              "3       6       2\n",
              "4       5       2"
            ]
          },
          "execution_count": 2,
          "metadata": {},
          "output_type": "execute_result"
        }
      ],
      "source": [
        "barbie_ratings.head()"
      ]
    },
    {
      "cell_type": "markdown",
      "metadata": {
        "id": "UinIBswF7tMT"
      },
      "source": [
        "The dataset `barbie_ratings` has two columns: (1) `rating` which correspond to a rating given by a particular viewer, between 1 and 10; and (2) `weight` which corresponds to the importance of the given rating, between 1 and 4, based on previous data about the user (usefulness of other ratings, peer-voting, etc).\n",
        "\n",
        "**IMPORTANT: Through this lab, it is not necessary that you manually clip the data to the aforementioned bounds. The data is already compliant with the bounds.**"
      ]
    },
    {
      "cell_type": "code",
      "execution_count": 3,
      "metadata": {
        "id": "HECMFt9fspPk"
      },
      "outputs": [],
      "source": [
        "## You may use this variables later:\n",
        "\n",
        "# Upper bound for ratings\n",
        "u = 10\n",
        "\n",
        "# Upper bound for weights\n",
        "wu = 4"
      ]
    },
    {
      "cell_type": "markdown",
      "metadata": {
        "id": "hroFPGc1iYAv"
      },
      "source": [
        "## Question 1 (4 points)\n",
        "\n",
        "The weighted average formula is defined as:\n",
        "\n",
        "$$\n",
        "\\frac{\\sum_{i=1}^n w_i * x_i}{\\sum_{i=1}^n w_i}\n",
        "$$\n",
        "\n",
        "Where $w_i$ and $x_i$ in the ratings dataset corresponds to the the weight and rating of viewer $i$ respectively.\n",
        "(Notice that when all the weights $w_i$ are $1$, the weighted average is equivalent to the regular average)\n",
        "\n",
        "**Write a function that calculates the weighted average of a dataset**:"
      ]
    },
    {
      "cell_type": "code",
      "execution_count": null,
      "metadata": {},
      "outputs": [],
      "source": []
    },
    {
      "cell_type": "code",
      "execution_count": 4,
      "metadata": {
        "id": "O3D3wSd3l2a_"
      },
      "outputs": [
        {
          "data": {
            "text/plain": [
              "5.484507042253521"
            ]
          },
          "execution_count": 4,
          "metadata": {},
          "output_type": "execute_result"
        }
      ],
      "source": [
        "def weighted_avg(data, weights):\n",
        "    \"\"\"\n",
        "        Parameters:\n",
        "            data (pd.Series): The data to average\n",
        "            weights (pd.Series): The weights to calculate the average\n",
        "        Returns:\n",
        "            The `weights`-weighted average of `data`\n",
        "    \"\"\"\n",
        "    numerador = (data*weights).sum()\n",
        "    denominador = weights.sum()\n",
        "    promedio = numerador / denominador \n",
        "    return promedio\n",
        "\n",
        "weighted_avg(ratings, weights)"
      ]
    },
    {
      "cell_type": "markdown",
      "metadata": {
        "id": "55XNs0SBmYI9"
      },
      "source": [
        "## Question 2 (6 points)\n",
        "\n",
        "Write a differentially private version of `weighted_avg`, using global sensitivity."
      ]
    },
    {
      "cell_type": "code",
      "execution_count": 5,
      "metadata": {
        "id": "QuH0cSQNm6H5"
      },
      "outputs": [
        {
          "data": {
            "text/plain": [
              "4.967888258823897"
            ]
          },
          "execution_count": 5,
          "metadata": {},
          "output_type": "execute_result"
        }
      ],
      "source": [
        "import numpy as np\n",
        "import pandas as pd\n",
        "\n",
        "def laplace_noise(scale):\n",
        "    return np.random.laplace(loc=0.0, scale=scale)\n",
        "\n",
        "def gs_weighted_avg(data, weights, data_ub, weight_ub, epsilon):\n",
        "    \"\"\"\n",
        "        Parameters:\n",
        "            data (pd.Series): The data to average\n",
        "            weights (pd.Series): The weights to calculate the average\n",
        "            data_ub (int): Upper bound of the data values\n",
        "            weight_ub (int): Upper bound of the weights\n",
        "            epsilon (float): Privacy budget (must be > 0)\n",
        "        Returns:\n",
        "           Differentially private weighted average using global sensitivity\n",
        "    \"\"\"\n",
        "    if epsilon <= 0:\n",
        "        raise ValueError(\"Epsilon must be > 0 for differential privacy\")\n",
        "\n",
        "    data_clipped = data.clip(upper=data_ub)\n",
        "    weights_clipped = weights.clip(upper=weight_ub)\n",
        "\n",
        "    numerador = (data_clipped * weights_clipped).sum()\n",
        "    denominador = weights_clipped.sum()\n",
        "\n",
        "    #si cambiamos data solo un registro, la sensibilidad dice que\n",
        "    #el numerador cambiará en exactamente uno multiplicado por\n",
        "    #el peso (porque en el numerador se multiplican). \n",
        "    sens_numerador = data_ub * weight_ub\n",
        "    #mientras que la sensibilidad del denominador no cambia sustancialmente (a lo más \n",
        "    # en el upper bound del peso).\n",
        "    sens_denominador = weight_ub\n",
        "\n",
        "    #dividimos el presupuesto entre el cálculo del numerador y del denominador\n",
        "    epsilon_n = epsilon / 2\n",
        "    epsilon_d = epsilon / 2\n",
        "\n",
        "    numerador_ruidoso = numerador + laplace_noise(sens_numerador / epsilon_n)\n",
        "    denominador_ruidoso = denominador + laplace_noise(sens_denominador / epsilon_d)\n",
        "\n",
        "    return numerador_ruidoso / denominador_ruidoso\n",
        "\n",
        "\n",
        "gs_weighted_avg(ratings, weights, u, wu, 0.1)"
      ]
    },
    {
      "cell_type": "markdown",
      "metadata": {
        "id": "Pnont5rkm92c"
      },
      "source": [
        "**Explain why your implementation is `epsilon`-DP**."
      ]
    },
    {
      "cell_type": "markdown",
      "metadata": {
        "id": "mWjaE-79nIWw"
      },
      "source": [
        "YOUR ANSWER\n",
        "\n",
        "Cada una de las dos sumas tiene ruido calibrado para cumplir \n",
        "$\\varepsilon_n$-DP y $\\varepsilon_d$-DP respectivamente.\n",
        "\n",
        "Como ambas partes de la función (es decir, el numerador como el denominador) operan sobre el mismo conjunto de datos original, podemos aplicar composición secuencial:\n",
        "$$\n",
        "f(D) = \\frac{f_1(D) + \\text{Lap}(\\Delta_1 / \\varepsilon_n)}{f_2(D) + \\text{Lap}(\\Delta_2 / \\varepsilon_d)} \\Rightarrow \\text{es } (\\varepsilon_n + \\varepsilon_d)\\text{-DP}\n",
        "$$\n",
        "pero como dividimos el presupuesto $\\epsilon$ equitativamente entre $\\varepsilon_n$ y $\\varepsilon_d$, podemos decir que la función ´gs_weighted_avg´ es $(\\varepsilon_n + \\varepsilon_d)\\text{-DP}$ o $(\\varepsilon)\\text{-DP}$\n"
      ]
    },
    {
      "cell_type": "markdown",
      "metadata": {
        "id": "lUogUQ8joWFH"
      },
      "source": [
        "## Question 3 (6 points)\n",
        "\n",
        "Calculate the local sensitivity of the weighted average.\n"
      ]
    },
    {
      "cell_type": "markdown",
      "metadata": {
        "id": "rAwP4fI2pDxB"
      },
      "source": [
        "YOUR ANSWER:\n",
        "\n",
        "(Complete the following)\n",
        "\n",
        "Given\n",
        "$$\n",
        "f(x, w) = \\frac{\\sum_{i=1}^n w_i * x_i}{\\sum_{i=1}^n w_i}\n",
        "$$\n",
        "\n",
        "If we add a row:\n",
        "\n",
        "$$\n",
        "\\begin{align}\n",
        "|f(x, w) - f(x', w')| &= |   \\frac{\\sum_{i=1}^n w_i * x_i}{\\sum_{i=1}^n w_i} -          \\frac{\\sum_{i=1}^{n+1} w_i * x_i}{\\sum_{i=1}^{n+1} w_i}  | \\\\\n",
        "\n",
        "                      &\\leq  | \\frac{\\sum_{i=1}^n w_i * x_i}{\\sum_{i=1}^{n+1} w_i} -          \\frac{\\sum_{i=1}^{n+1} w_i * x_i}{\\sum_{i=1}^{n+1} w_i}|\\\\\n",
        "                      &= |\\frac{\\sum_{i=1}^n w_i * x_i - \\sum_{i=1}^{n+1} w_i * x_i}{\\sum_{i=1}^{n+1} w_i}|\\\\\n",
        "                      &= |\\frac{w_{n+1}*x_{n+1}}{\\sum_{i=1}^{n+1} w_i}|\\\\\n",
        "                      &= |\\frac{w_{n+1}*x_{n+1}}{\\sum_{i=1}^n w_i + w_{n+1}}|\\\\\n",
        "                      &= |\\frac{w_{n+1}*x_{n+1}}{\\text{suma}(w) + w_{n+1}}|\\\\\n",
        "                      &\\leq |\\frac{4*10}{\\text{suma}(w) + 4}|\\\\\n",
        "                      &= |\\frac{40}{\\text{suma}(w) + 4}|\n",
        "\\end{align}\n",
        "$$\n",
        "Por lo tanto, podemos ver que la sensibilidad de dicha función depende de la suma de todos los ´weights´ (de la base de datos original, es decir, de aquella que aún no tiene ningún registro nuevo añadido), del peso y rating del nuevo registro $w_{n+1}$ y $x_{n+1}$, respectivamente. En general, es de esperar que dicha sensibilidad no sea muy grande si la ponderación del rating de cada persona es baja en relación a la suma de todos los pesos. Como el peso va entre 1 y 4 y el rating entre 1 y 10, podemos incluso ir más allá en la demostración. Por lo tanto, dicha función no es diferencialmente privada, porque si el analista sabe la sensibilidad local del dataset, puede inferir cosas de él (en el caso de la sensibilidad local)."
      ]
    },
    {
      "cell_type": "markdown",
      "metadata": {
        "id": "UHiLR-N2q_4j"
      },
      "source": [
        "## Question 4 (9 points)\n",
        "\n",
        "As we saw in class, even though local sensitivity gives us a better upper bound than global sensitivity, we cannot directly use it with the mechanisms we have seen (e.g. laplace).\n",
        "\n",
        "We will implement the Propose-Test-Release method for calculating a private weighted average of `barbie_ratings`. In order to do that, follow the next steps:"
      ]
    },
    {
      "cell_type": "markdown",
      "metadata": {
        "id": "X-fFteTtrtni"
      },
      "source": [
        "1. Implement a function to compute the *Maximum Local Sensitivity* at distance k:"
      ]
    },
    {
      "cell_type": "code",
      "execution_count": 104,
      "metadata": {
        "id": "wKs1MklosPSc"
      },
      "outputs": [],
      "source": [
        "def ls_at_distance(target_ub, weight_ub, W, k):\n",
        "    \"\"\"\n",
        "        Parameters:\n",
        "            target_ub (int): Upper bound of the target values\n",
        "            weight_ub (int): Upper bound of the weights\n",
        "            W (int): Total sum of weights in the original dataset\n",
        "            k (int): Number of steps away (number of changes)\n",
        "        Returns:\n",
        "            Local sensitivity at distance k\n",
        "    \"\"\"\n",
        "    #el máximo peso añadido será k veces el peso máixmo:\n",
        "    maximo_peso_añadido = k * weight_ub\n",
        "    #como ya demostramos en la parte anterior,\n",
        "    #el promedio máximo posible si agregamos k valores máximos será:\n",
        "    cambio_superior = (target_ub * maximo_peso_añadido) / (W.sum() + maximo_peso_añadido)\n",
        "    #el promedio mínimo posible si agregamos k valores mínimos será 0, porque\n",
        "    #el mínimo de los pesos es cero, y por ende el promedio sería 0, así como \n",
        "    #el denominador:\n",
        "    cambio_inferior = 0\n",
        "\n",
        "    #y asumiendo promedio actual entre 0 y target_ub, evaluamos máximas diferencias\n",
        "    delta_superior = abs(target_ub - cambio_superior)\n",
        "    delta_inferior = abs(0 - cambio_inferior)\n",
        "\n",
        "    return max(delta_superior, delta_inferior)\n"
      ]
    },
    {
      "cell_type": "markdown",
      "metadata": {
        "id": "3SDcHKLuvTaF"
      },
      "source": [
        "2. Implement a function to find the minimum number of steps to achieve a local sensitivity of at least $b$:\n",
        "\n",
        "*Hint: Start by trying with $k=0$, and increment $k$ until the threshold of $b$ is achieved*"
      ]
    },
    {
      "cell_type": "code",
      "execution_count": 105,
      "metadata": {
        "id": "DfnuYIV5vhl1"
      },
      "outputs": [],
      "source": [
        "def dist_to_high_ls(target_ub, weight_ub, W, b):\n",
        "    \"\"\"\n",
        "        Parameters:\n",
        "            target_ub (int): The upper bound of the target column\n",
        "            weight_ub (int): The upper bound of the weight column\n",
        "            W (int): The sum of the weights of the origin dataframe\n",
        "            b (float): The proposed bound on local sensitivity\n",
        "        Returns:\n",
        "            The minimum number of steps to achieve a local sensitivity of at least `b`\n",
        "    \"\"\"\n",
        "    #como dice el hint, primero inicializamos k como cero para ir incrementandolo\n",
        "    #hasta que alcanzamos el valor b.\n",
        "    k = 0\n",
        "    while True:\n",
        "        ls = ls_at_distance(target_ub, weight_ub, W, k)\n",
        "        if ls >= b:\n",
        "            return k\n",
        "        k += 1"
      ]
    },
    {
      "cell_type": "markdown",
      "metadata": {
        "id": "6onKa_xpwv4Y"
      },
      "source": [
        "3. Implement the PTR version of weighted average:"
      ]
    },
    {
      "cell_type": "code",
      "execution_count": 119,
      "metadata": {
        "id": "OGTMpdIow4CA"
      },
      "outputs": [],
      "source": [
        "def ptr_weighted_avg(data, weights, data_ub, weight_ub, b, epsilon, delta):\n",
        "    \"\"\"\n",
        "        Parameters:\n",
        "            data    (pd.Series): The data to average, in this case, the ratings\n",
        "            weights (pd.Series): The weights to calculate the average\n",
        "            data_ub (int): The upper bound of the target column\n",
        "            weight_ub (int): The upper bound of the weight column\n",
        "            b (float): The proposed bound on local sensitivity\n",
        "            epsilon, delta: The level of privacy\n",
        "        Returns:\n",
        "            The private weighted average using PTR\n",
        "    \"\"\"\n",
        "    data_clipped = data.clip(upper=data_ub)\n",
        "    weights_clipped = weights.clip(upper=weight_ub)\n",
        "    numerador = (data_clipped * weights_clipped).sum()\n",
        "    denominador = weights_clipped.sum()\n",
        "    avg = numerador / denominador\n",
        "    D = dist_to_high_ls(data_ub, weight_ub, denominador, b)\n",
        "\n",
        "    noisy_distance = laplace_mech(D, 1, epsilon)\n",
        "    threshold = (np.log(2/delta)) / (2*epsilon)\n",
        "    noise_avg = laplace_noise(scale=b / epsilon)\n",
        "    if noisy_distance >= threshold:\n",
        "        return avg + noise_avg\n"
      ]
    },
    {
      "cell_type": "code",
      "execution_count": 120,
      "metadata": {
        "id": "Dp0Qhf3N1Uxa"
      },
      "outputs": [],
      "source": [
        "ptr_weighted_avg(ratings, weights, u, wu, 0.02, 1.0, 10e-6)"
      ]
    },
    {
      "cell_type": "markdown",
      "metadata": {
        "id": "91Ionxsn1N3h"
      },
      "source": [
        "## Question 5 (4 points)\n",
        "\n",
        "The following code plots the relative errors (against the real answer) of global sensitivity and PTR:"
      ]
    },
    {
      "cell_type": "code",
      "execution_count": null,
      "metadata": {
        "id": "GufhM8ZHuWVE"
      },
      "outputs": [
        {
          "data": {
            "text/plain": [
              "<matplotlib.legend.Legend at 0x136ec78b0>"
            ]
          },
          "execution_count": 127,
          "metadata": {},
          "output_type": "execute_result"
        },
        {
          "data": {
            "image/png": "[encoded data removed]",
            "text/plain": [
              "<Figure size 640x480 with 1 Axes>"
            ]
          },
          "metadata": {},
          "output_type": "display_data"
        }
      ],
      "source": [
        "epsilon = 1.0\n",
        "delta = 10e-6\n",
        "b = 0.02\n",
        "\n",
        "gs_errors = []\n",
        "ptr_errors = []\n",
        "\n",
        "real_avg = weighted_avg(ratings, weights)\n",
        "\n",
        "for i in range(200):\n",
        "    ptr_result = ptr_weighted_avg(ratings, weights, u, wu, b, epsilon, delta)\n",
        "\n",
        "    gs_result = gs_weighted_avg(ratings, weights, u, wu, epsilon)\n",
        "    gs_errors.append(pct_error(real_avg, gs_result))\n",
        "\n",
        "    if ptr_result is None:\n",
        "        continue\n",
        "\n",
        "    ptr_errors.append(pct_error(real_avg, ptr_result))\n",
        "\n",
        "_, bins, _ = plt.hist(gs_errors, label='Global sensitivity')\n",
        "plt.hist(ptr_errors, alpha=.7, label='PTR', bins=bins)\n",
        "plt.xlabel('Percent Error')\n",
        "plt.ylabel('Number of Trials')\n",
        "plt.legend()"
      ]
    },
    {
      "cell_type": "markdown",
      "metadata": {
        "id": "WMPnM7gdLAkY"
      },
      "source": [
        "1. Compare the accuracies of both methods. Which one is better? Explain how the plot helps justifying your analysis.\n",
        "2. What can you say about the parameter $b$, in terms of the usability of the PTR method? How does this aspect compare to the global sensitivity method?"
      ]
    },
    {
      "cell_type": "markdown",
      "metadata": {
        "id": "pwtW31scitA8"
      },
      "source": [
        "1. Como implementé mal la función PTR, no se pueden comparar ambos métodos. Sin embargo, ESPERAMOS que el histograma de errores de Global Sensitivity (GS) suele ser más ancho y con valores más altos (porque el ruido es mayor), mientras que el histograma de errores de PTR (cuando devuelve valor) debería ser más angosto y centrado en 0, mostrando mejor precisión.\n",
        "\n",
        "2. En este caso, el método PTR no logró devolver ningún resultado porque la sensibilidad local a todas las distancias era demasiado alta en relación con el límite elegido b = 0.02. Esto hizo que el mecanismo Propose-Test-Release rechazara liberar un valor privado en cada intento. Esto demuestra que, aunque PTR puede producir resultados más precisos cuando tiene éxito, requiere un ajuste cuidadoso del parámetro b para asegurar su utilidad. Por otro lado, el método de Sensibilidad Global siempre devuelve un valor, pero a costa de un ruido mayor y una precisión reducida."
      ]
    },
    {
      "cell_type": "markdown",
      "metadata": {
        "id": "v0XC9fkQLuDr"
      },
      "source": [
        "## Question 6 (3 points)\n",
        "\n",
        "Now, we will implement the weighted average using the Smooth Sensitivity framework.\n",
        "\n",
        "First, implement `smooth_ls_at_distance`, which calculates the local sensitivity at distance $k$, smoothed out by an exponential factor of $e^{-\\beta k}$:"
      ]
    },
    {
      "cell_type": "code",
      "execution_count": 95,
      "metadata": {
        "id": "9r_SI9iFMXnf"
      },
      "outputs": [],
      "source": [
        "import numpy as np\n",
        "\n",
        "def smooth_ls_at_distance(data_ub, weight_ub, W, k, beta):\n",
        "    \"\"\"\n",
        "        Parameters:\n",
        "            data_ub (int): Upper bound of the target column\n",
        "            weight_ub (int): Upper bound of the weight column\n",
        "            W (float): Sum of the weights of the original data\n",
        "            k (int): Distance from the original dataset\n",
        "            beta (float): Smoothness parameter\n",
        "        Returns:\n",
        "            The smoothed local sensitivity at distance k\n",
        "    \"\"\"\n",
        "    ls = ls_at_distance(data_ub, weight_ub, W, k)  # local sensitivity at distance k\n",
        "    smooth_ls = ls * np.exp(-beta * k)\n",
        "    return smooth_ls\n"
      ]
    },
    {
      "cell_type": "markdown",
      "metadata": {
        "id": "Gva0jUgjPJwL"
      },
      "source": [
        "## Question 7 (2 points)\n",
        "\n",
        "1. What does the following graph shows?\n",
        "2. What information can we infer from this plot to help us implement a weighted average using smooth sensitivity?"
      ]
    },
    {
      "cell_type": "code",
      "execution_count": 96,
      "metadata": {
        "id": "T7QU4ETSM3Iw"
      },
      "outputs": [
        {
          "data": {
            "image/png": "[encoded data removed]",
            "text/plain": [
              "<Figure size 640x480 with 1 Axes>"
            ]
          },
          "metadata": {},
          "output_type": "display_data"
        }
      ],
      "source": [
        "beta = 0.05\n",
        "\n",
        "r = [smooth_ls_at_distance(u, wu, weights.sum(), k, beta) for k in range(0, 200)]\n",
        "\n",
        "plt.plot(r)\n",
        "plt.xlabel('Value of k')\n",
        "plt.ylabel('Smoothed-out Local Sensitivity');"
      ]
    },
    {
      "cell_type": "markdown",
      "metadata": {},
      "source": [
        "1. El gráfico muestra cómo varía la sensibilidad local suavizada en función de la distancia k desde el conjunto de datos original. Es decir, para cada valor de k (que representa el número de cambios o perturbaciones en el dataset), se calcula la sensibilidad local máxima suavizada por un factor exponencial \n",
        "$e^{\\beta k}$. Esta suavización atenúa el impacto de distancias grandes, dando más peso a las sensibilidades locales cercanas. Además, podemos dver que la sensibilidad tiene un máximo en k=25, lo que nos podría servir para elegir bien un valor de $\\beta$ o factor de suavizado.\n",
        "\n",
        "2. Además, del gráfico podemos identificar para qué valores de k la sensibilidad local es significativa y cuándo se vuelve despreciable. Podemos también seleccionar un parámetro $\\beta$ adecuado para controlar la tasa de decaimiento de la sensibilidad suavizada. En tercer lugar, podemos calcular la sensibilidad suave máxima (smooth sensitivity) evaluando todas las sensibilidades locales suavizadas y usando esta como el nivel de ruido a añadir en la consulta privada, logrando así un balance óptimo entre privacidad y precisión, por ende mejorando la utilidad del promedio ponderado al evitar usar la sensibilidad global, que es más conservadora y genera más ruido."
      ]
    },
    {
      "cell_type": "markdown",
      "metadata": {
        "id": "20VBDfy0Pamu"
      },
      "source": [
        "## Question 8 (6 points)\n",
        "\n",
        "Implement the query using Smooth Sensitivity:"
      ]
    },
    {
      "cell_type": "code",
      "execution_count": 128,
      "metadata": {
        "id": "yzrMdiL1i7uM"
      },
      "outputs": [
        {
          "data": {
            "text/plain": [
              "62.04851218864974"
            ]
          },
          "execution_count": 128,
          "metadata": {},
          "output_type": "execute_result"
        }
      ],
      "source": [
        "def ss_weighted_avg(data, weights, data_ub, weight_ub, epsilon, delta):\n",
        "    \"\"\"\n",
        "        Parameters:\n",
        "            data    (pd.Series): The data to average\n",
        "            weights (pd.Series): The weights to calculate the average\n",
        "            data_ub (int): Upper bound for clipping data\n",
        "            weight_ub (int): Upper bound for clipping weights\n",
        "            epsilon (float): Privacy parameter\n",
        "            delta (float): Privacy parameter\n",
        "        Returns:\n",
        "            The private weighted average using Smooth Sensitivity\n",
        "    \"\"\"\n",
        "    data_clipped = data.clip(upper=data_ub)\n",
        "    weights_clipped = weights.clip(upper=weight_ub)\n",
        "\n",
        "    W = weights_clipped.sum()\n",
        "    avg = (data_clipped * weights_clipped).sum() / W\n",
        "\n",
        "    beta = epsilon / (2 * np.log(2 / delta))\n",
        "\n",
        "    n = len(data_clipped)\n",
        "    smooth_sensitivities = [\n",
        "        smooth_ls_at_distance(data_ub, weight_ub, W, k, beta)\n",
        "        for k in range(n + 1)\n",
        "    ]\n",
        "    S = max(smooth_sensitivities)\n",
        "\n",
        "    noise = np.random.laplace(loc=0, scale=2 * S / epsilon)\n",
        "\n",
        "    return avg + noise\n",
        "\n",
        "\n",
        "ss_weighted_avg(ratings, weights, u, wu, epsilon, delta)"
      ]
    },
    {
      "cell_type": "markdown",
      "metadata": {
        "id": "DB4YF9CwP5Yq"
      },
      "source": [
        "## Question 9 (4 points)\n",
        "\n",
        "The following code plots the relative errors (against the real answer) of global sensitivity and Smooth Sensitivity:"
      ]
    },
    {
      "cell_type": "code",
      "execution_count": 130,
      "metadata": {
        "id": "hzYZFumTCkL0"
      },
      "outputs": [
        {
          "data": {
            "text/plain": [
              "<matplotlib.legend.Legend at 0x137f1f7c0>"
            ]
          },
          "execution_count": 130,
          "metadata": {},
          "output_type": "execute_result"
        },
        {
          "data": {
            "image/png": "[encoded data removed]",
            "text/plain": [
              "<Figure size 640x480 with 1 Axes>"
            ]
          },
          "metadata": {},
          "output_type": "display_data"
        }
      ],
      "source": [
        "gs_results  = [\n",
        "    pct_error(weighted_avg(ratings, weights),\n",
        "    gs_weighted_avg(ratings, weights, u, wu, epsilon)) for i in range(100)]\n",
        "ptr_results = [\n",
        "    pct_error(weighted_avg(ratings, weights),\n",
        "    ss_weighted_avg(ratings, weights, u, wu, epsilon, delta)) for i in range(100)]\n",
        "\n",
        "_, bins, _ = plt.hist(gs_results, label='Global sensitivity')\n",
        "plt.hist(ptr_results, alpha=.7, label='Smooth sensitivity', bins=bins)\n",
        "plt.xlabel('Percent Error')\n",
        "plt.ylabel('Number of Trials')\n",
        "plt.legend()"
      ]
    },
    {
      "cell_type": "markdown",
      "metadata": {
        "id": "O3xqJxi4i_DQ"
      },
      "source": [
        "1. Compare the accuracies of both methods. Explain how the plot helps justifying your analysis.\n",
        "2. What disadvantage has this method when comparing it with the global sensitivity approach?"
      ]
    },
    {
      "cell_type": "markdown",
      "metadata": {},
      "source": [
        "1. La sensibilidad suave (Smooth Sensitivity) generalmente produce resultados más precisos que la sensibilidad global porque añade menos ruido, adaptándose mejor a la estructura local de los datos. El gráfico muestra que los errores con Smooth Sensitivity suelen ser menores y más concentrados cerca de cero, mientras que con sensibilidad global los errores son mayores y más dispersos.\n",
        "\n",
        "2. Es más complejo y costoso computacionalmente (tenemos que iterar sobre todos los posibles k), requiere ajustar parámetros con cuidado y puede ser menos robusto si no se calcula bien. En cambio, la sensibilidad global es más simple y siempre funciona, aunque con menor precisión por añadir más ruido. Además, como se vio en clases, es dicha sensibilidad es siempre mayor que la sensibilidad local y la global (por un factor de 2).\n"
      ]
    },
    {
      "cell_type": "markdown",
      "metadata": {
        "id": "U42lvix6jwZi"
      },
      "source": [
        "## Question 10 (6 points)\n",
        "\n",
        "Let us define a function that receives $k$ results, computed from **disjoint** sets of data, and calculates the clipped (by $l$ and $u$) average between them as follows:\n",
        "\n",
        "$$\n",
        "g_{l,u}(x) = \\frac{\\sum^k_{i=1} \\mathsf{clip}(x_i, l, u)}{k}\n",
        "$$\n",
        "\n",
        "### Answer:\n",
        "\n",
        "The **global sensitivity** of a function is defined as the maximum change in the function’s output when a single entry in the input dataset is changed, assuming neighboring datasets.\n",
        "\n",
        "Since each $x_i$ comes from a disjoint dataset, changing one $x_i$ affects at most one term in the sum.\n",
        "\n",
        "Moreover, due to clipping, the maximum change in any $x_i$ is bounded by $|u - l|$. This change is divided by $k$ in the average.\n",
        "\n",
        "Therefore, the global sensitivity of $g_{l,u}$ is:\n",
        "\n",
        "$$\n",
        "\\Delta g_{l,u} = \\frac{u - l}{k}\n",
        "$$\n"
      ]
    },
    {
      "cell_type": "markdown",
      "metadata": {
        "id": "IU0FB4pDRoi7"
      },
      "source": [
        "Then:\n",
        "\n",
        "$$\n",
        "\\begin{align*}\n",
        "|g_{l,u}(x) - g_{l,u}(x')| \n",
        "&= \\left| \\frac{1}{k} \\sum_{i=1}^k \\mathsf{clip}(x_i, l, u) - \\frac{1}{k} \\sum_{i=1}^k \\mathsf{clip}(x_i', l, u) \\right| \\\\\n",
        "&= \\left| \\frac{1}{k} \\left( \\mathsf{clip}(x_j, l, u) - \\mathsf{clip}(x_j', l, u) \\right) \\right| \\\\\n",
        "&= \\frac{1}{k} \\left| \\mathsf{clip}(x_j, l, u) - \\mathsf{clip}(x_j', l, u) \\right| \\\\\n",
        "&\\leq \\frac{1}{k} (u - l)\n",
        "\\end{align*}\n",
        "$$\n",
        "\n",
        "### Therefore, the global sensitivity of $g_{l,u}$ is:\n",
        "\n",
        "$$\n",
        "\\Delta g_{l,u} = \\frac{u - l}{k}\n",
        "$$"
      ]
    },
    {
      "cell_type": "markdown",
      "metadata": {
        "id": "fg6VA4u3SJif"
      },
      "source": [
        "## Question 11 (6 points)\n",
        "\n",
        "Implement the Sample & Aggregate framework for weighted averages, using $g$ as your aggregation function.\n",
        "\n",
        "*Hint: Use the function `np.array_split` to divide the dataframe in $k$ chunks.*"
      ]
    },
    {
      "cell_type": "code",
      "execution_count": 99,
      "metadata": {
        "id": "ZId4rP0SDoE5"
      },
      "outputs": [
        {
          "data": {
            "text/plain": [
              "5.119661047883503"
            ]
          },
          "execution_count": 99,
          "metadata": {},
          "output_type": "execute_result"
        }
      ],
      "source": [
        "from numpy.random import laplace\n",
        "def sa_weighted_avg(data, weights, k, l, u, epsilon):\n",
        "    \"\"\"\n",
        "        Parameters:\n",
        "            data    (pd.Series): The data to average\n",
        "            weights (pd.Series): The weights to calculate the average\n",
        "            k (int): The number of chunks\n",
        "            l, u (int): The clipping bounds for partial averages\n",
        "            epsilon (float): The privacy budget\n",
        "        Returns:\n",
        "            The private weighted average using Sample & Aggregate\n",
        "    \"\"\"\n",
        "    indices = np.arange(len(data))\n",
        "    np.random.shuffle(indices)\n",
        "    chunks = np.array_split(indices, k)\n",
        "    \n",
        "    partial_avgs = []\n",
        "    for chunk in chunks:\n",
        "        if len(chunk) == 0:\n",
        "            continue\n",
        "        d = data.iloc[chunk]\n",
        "        w = weights.iloc[chunk]\n",
        "        avg = (d * w).sum() / w.sum()\n",
        "        clipped_avg = np.clip(avg, l, u)\n",
        "        partial_avgs.append(clipped_avg)\n",
        "    \n",
        "    g = np.mean(partial_avgs)\n",
        "    \n",
        "    sensitivity = (u - l) / k\n",
        "    \n",
        "    noise = laplace(scale=sensitivity / epsilon)\n",
        "    \n",
        "    return g + noise\n",
        "\n",
        "\n",
        "sa_weighted_avg(ratings, weights, 200, 2, 8, epsilon)"
      ]
    },
    {
      "cell_type": "markdown",
      "metadata": {
        "id": "FgCfyxqGS1f-"
      },
      "source": [
        "## Question 12 (4 points)\n",
        "\n",
        "The following code plots the relative errors (against the real answer) of global sensitivity and Sam. & Agg.:"
      ]
    },
    {
      "cell_type": "code",
      "execution_count": null,
      "metadata": {
        "id": "Iupzp8gYGKLa"
      },
      "outputs": [
        {
          "data": {
            "image/png": "[encoded data removed]",
            "text/plain": [
              "<Figure size 640x480 with 1 Axes>"
            ]
          },
          "metadata": {},
          "output_type": "display_data"
        }
      ],
      "source": [
        "gs_results  = [\n",
        "    pct_error(weighted_avg(ratings, weights),\n",
        "    gs_weighted_avg(ratings, weights, u, wu, epsilon)) for i in range(100)]\n",
        "ptr_results = [\n",
        "    pct_error(weighted_avg(ratings, weights),\n",
        "    sa_weighted_avg(ratings, weights, 200, 2, 8, epsilon)) for i in range(100)]\n",
        "\n",
        "_, bins, _ = plt.hist(gs_results, label='Global sensitivity');\n",
        "plt.hist(ptr_results, alpha=.7, label='Sam. & Agg.', bins=bins);\n",
        "plt.xlabel('Percent Error')\n",
        "plt.ylabel('Number of Trials')\n",
        "plt.legend()"
      ]
    },
    {
      "cell_type": "markdown",
      "metadata": {
        "id": "VcCCCoemTAuV"
      },
      "source": [
        "1. Compare the accuracies of both methods. Explain how the plot helps justifying your analysis.\n",
        "2. We used bounds of $(2,8)$ as clipping parameters for the intermediate averages. Do you think those are reasonable bounds? Why?"
      ]
    },
    {
      "cell_type": "markdown",
      "metadata": {
        "id": "ADVCfNJSTBfB"
      },
      "source": [
        "YOUR ANSWER\n",
        "\n",
        "1. El método más preciso es Sample & Aggregation, porque la mayoría de sus errores están concentrados en torno a cero y tiene menor dispersión que la Sensibilidad Global. Sin embargo, nos podemos acercar bastante al método que usa la Global Sensitivity si elegimos bien el k\n",
        "\n",
        "2. Sí, los valores de corte (2, 8) parecen razonables porque limitan adecuadamente los promedios intermedios sin eliminar información útil ni permitir valores extremos que aumenten la sensibilidad; esto ayuda a mantener un buen equilibrio entre precisión y privacidad. Si los límites fueran muy estrechos, se recortaría demasiada información relevante, y si fueran demasiado amplios, se requeriría añadir más ruido para proteger la privacidad, disminuyendo así la utilidad del resultado. Además, logramos una cuota notable de representatividad, que al fin y al cabo tiene que ver con utilidad (porque querríamos saber cualquier cosa de los ratings, que obviamente van entre 0 y 10)."
      ]
    },
    {
      "cell_type": "markdown",
      "metadata": {},
      "source": [
        "# Resumen"
      ]
    },
    {
      "cell_type": "markdown",
      "metadata": {},
      "source": [
        "| Método                        | Tipo de Sensibilidad         | Fórmula de Sensibilidad                                                                                                               | Características Principales                                                                 | Precisión Esperada      | Ventajas                                                                 | Desventajas                                                              |\n",
        "|------------------------------|-------------------------------|----------------------------------------------------------------------------------------------------------------------------------------|---------------------------------------------------------------------------------------------|-------------------------|--------------------------------------------------------------------------|---------------------------------------------------------------------------|\n",
        "| Global Sensitivity (GS)      | Global Sensitivity            | $\\mathrm{GS} = \\dfrac{\\text{data\\_ub} \\times \\text{weight\\_ub}}{\\sum w_i}$                                                             | Usa una cota fija del peor caso posible                                                     | Baja                    | Siempre retorna un resultado                                              | Mucho ruido; menor utilidad cuando los datos reales tienen baja variabilidad |\n",
        "| Smooth Sensitivity (SS)      | Smoothed Local Sensitivity    | $S^\\beta = \\max_k \\left( e^{-\\beta k} \\cdot \\mathrm{LS}_k \\right), \\quad \\beta = \\dfrac{\\varepsilon}{2 \\log(2/\\delta)}$                | Ajusta la sensibilidad al contexto de los datos reales, suavizando la peor sensibilidad     | Alta (si es factible)  | Menor ruido que GS; más preciso en la práctica                           | Más costoso computacionalmente; puede fallar si sensitividades son muy altas |\n",
        "| PTR (Propose-Test-Release)   | Local Sensitivity             | $ \\text{LS} = \\max_{\\text{neighbour}}$ | $\\text{avg}_{\\text{orig}} - \\text{avg}_{\\text{neigh}}$| $\\quad \\text{verificado con umbral } b$ | Alta (cuando aplica)|Evalúa si la sensibilidad local está por debajo de un umbral b                                | Muy preciso si pasa el test; poco ruido agregado                         | Puede no liberar ningún resultado si la sensibilidad excede el umbral       |\n",
        "| Sam. & Agg. (Sample & Aggregate) | Controlada mediante clipping | $\\mathrm{GS} = \\dfrac{(\\text{clip\\_data\\_max} - \\text{clip\\_data\\_min}) \\cdot (\\text{clip\\_weight\\_max} - \\text{clip\\_weight\\_min})}{\\text{group size}}$ | Divide los datos, promedia, clippea y agrega ruido Laplace sobre el promedio final         | Media/Alta             | Flexible y adaptable; puede controlar sensibilidad con clipping          | Depende del número de particiones y valores de clipping; precisión variable |\n"
      ]
    }
  ],
  "metadata": {
    "colab": {
      "provenance": []
    },
    "kernelspec": {
      "display_name": "Python 3",
      "language": "python",
      "name": "python3"
    },
    "language_info": {
      "codemirror_mode": {
        "name": "ipython",
        "version": 3
      },
      "file_extension": ".py",
      "mimetype": "text/x-python",
      "name": "python",
      "nbconvert_exporter": "python",
      "pygments_lexer": "ipython3",
      "version": "3.9.6"
    }
  },
  "nbformat": 4,
  "nbformat_minor": 0
}
