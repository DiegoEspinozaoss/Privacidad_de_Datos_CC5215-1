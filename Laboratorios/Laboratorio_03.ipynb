{
  "cells": [
    {
      "cell_type": "markdown",
      "metadata": {
        "id": "uxqwGXZJ0mv6"
      },
      "source": [
        "# CC5215: Privacidad de Datos\n",
        "## Laboratorio 3\n",
        "**Integrantes**\n",
        "\n",
        "- Nombre apellido"
      ]
    },
    {
      "cell_type": "code",
      "execution_count": null,
      "metadata": {
        "id": "Cju0ltHw0mv9"
      },
      "outputs": [],
      "source": [
        "# Load the data and libraries\n",
        "import pandas as pd\n",
        "import numpy as np\n",
        "from scipy import stats\n",
        "import matplotlib.pyplot as plt\n",
        "from unittest.mock import patch\n",
        "\n",
        "plt.style.use('seaborn-v0_8-whitegrid')\n",
        "\n",
        "def laplace_mech(v, sensitivity, epsilon):\n",
        "    return v + np.random.laplace(loc=0, scale=sensitivity / epsilon)\n",
        "\n",
        "adult = pd.read_csv('https://users.dcc.uchile.cl/~mtoro/cursos/cc5215/adult_with_pii.csv')\n",
        "adult = adult.dropna()"
      ]
    },
    {
      "cell_type": "code",
      "source": [
        "adult.head()"
      ],
      "metadata": {
        "id": "XQDiArx42Q4c"
      },
      "execution_count": null,
      "outputs": []
    },
    {
      "cell_type": "markdown",
      "metadata": {
        "id": "wO4vdsOM0mv-"
      },
      "source": [
        "## Question 1 (5 points)\n",
        "\n",
        "Write code to answer the query: \"how many participants have never been married?\"\n",
        "\n",
        "*Hint*: filter the `adult` dataframe to contain only participants who were never married, then return the  `len` of the filtered dataframe."
      ]
    },
    {
      "cell_type": "code",
      "execution_count": null,
      "metadata": {
        "deletable": false,
        "nbgrader": {
          "cell_type": "code",
          "checksum": "8f1f7e0158a3e66d86f5d3d51a7ed30f",
          "grade": false,
          "grade_id": "cell-975eb03979d78eaf",
          "locked": false,
          "schema_version": 3,
          "solution": true,
          "task": false
        },
        "id": "AxQkiREh0mv-"
      },
      "outputs": [],
      "source": [
        "def never_married_count_query():\n",
        "    # YOUR CODE HERE\n",
        "    raise NotImplementedError()\n",
        "\n",
        "never_married_count_query()"
      ]
    },
    {
      "cell_type": "code",
      "execution_count": null,
      "metadata": {
        "deletable": false,
        "editable": false,
        "nbgrader": {
          "cell_type": "code",
          "checksum": "674e4c2da585cbb9e92ee8a546628647",
          "grade": true,
          "grade_id": "cell-c5ba2c93a46e8c5e",
          "locked": true,
          "points": 10,
          "schema_version": 3,
          "solution": false,
          "task": false
        },
        "id": "EOxZcw2p0mv-"
      },
      "outputs": [],
      "source": [
        "# TEST CASE for question 1\n",
        "assert never_married_count_query() == 9726"
      ]
    },
    {
      "cell_type": "markdown",
      "metadata": {
        "id": "4ZZQuVNJ0mv_"
      },
      "source": [
        "## Question 2 (5 points)\n",
        "\n",
        "In 2-5 sentences, answer the following:\n",
        "- What is the sensitivity of `never_married_count_query`, and why?"
      ]
    },
    {
      "cell_type": "markdown",
      "metadata": {
        "deletable": false,
        "nbgrader": {
          "cell_type": "markdown",
          "checksum": "a49f719e7bbff7b4331d41682658d904",
          "grade": true,
          "grade_id": "cell-fb1c7b0533f933f7",
          "locked": false,
          "points": 5,
          "schema_version": 3,
          "solution": true,
          "task": false
        },
        "id": "5FODwxJw0mv_"
      },
      "source": [
        "\n",
        "ANSWER:"
      ]
    },
    {
      "cell_type": "markdown",
      "metadata": {
        "id": "mZgI1KG40mv_"
      },
      "source": [
        "## Question 3 (5 points)\n",
        "\n",
        "Use the implementation of `laplace_mech` to produce a differentially private answer to `never_married_count_query`, with `epsilon = 0.1`."
      ]
    },
    {
      "cell_type": "code",
      "execution_count": null,
      "metadata": {
        "deletable": false,
        "nbgrader": {
          "cell_type": "code",
          "checksum": "0e27ddd40ababa8eee863cbbeb1961b2",
          "grade": false,
          "grade_id": "cell-80d3c108ba0f75d5",
          "locked": false,
          "schema_version": 3,
          "solution": true,
          "task": false
        },
        "id": "WYpCdTl00mv_"
      },
      "outputs": [],
      "source": [
        "def dp_never_married_count_query(epsilon):\n",
        "    # YOUR CODE HERE\n",
        "    raise NotImplementedError()\n",
        "\n",
        "dp_never_married_count_query(0.1)"
      ]
    },
    {
      "cell_type": "code",
      "execution_count": null,
      "metadata": {
        "deletable": false,
        "editable": false,
        "nbgrader": {
          "cell_type": "code",
          "checksum": "4f93d4f28b6a3727ed76df8885baeb8a",
          "grade": true,
          "grade_id": "cell-93eab43d27806309",
          "locked": true,
          "points": 10,
          "schema_version": 3,
          "solution": false,
          "task": false
        },
        "id": "yXMT1Kdd0mv_"
      },
      "outputs": [],
      "source": [
        "# TEST CASE for question 3\n",
        "dp_results = [dp_never_married_count_query(0.1) for _ in range(100)]\n",
        "spec = [np.random.laplace(loc=9726, scale=1/0.1) for _ in range(100)]\n",
        "assert stats.wasserstein_distance(dp_results, spec) < 10"
      ]
    },
    {
      "cell_type": "markdown",
      "source": [
        "# Question 4 (10 points)\n",
        "\n",
        "Write the implementation of a class `DPPrinter` that collects the results of differentially private computations along with the used epsilon. Also, implement the method `print` that prints the results collected along with the total epsilon."
      ],
      "metadata": {
        "id": "6MAF-EfSTjHa"
      }
    },
    {
      "cell_type": "code",
      "source": [
        "class DPPrinter():\n",
        "    results = []\n",
        "    epsilon = 0\n",
        "\n",
        "    def push(self, result, eps):\n",
        "        \"\"\"\n",
        "        Receives a differentially private result and the epsilon used to\n",
        "        privatize the original result, and it stores them in the class\n",
        "        \"\"\"\n",
        "        # YOUR CODE HERE\n",
        "        raise NotImplementedError()\n",
        "\n",
        "    def print(self):\n",
        "        \"\"\"\n",
        "        Prints the results collected so far and the total epsilon\n",
        "        \"\"\"\n",
        "        # YOUR CODE HERE\n",
        "        raise NotImplementedError()\n",
        "\n",
        "printer = DPPrinter()\n",
        "\n",
        "printer.push(dp_never_married_count_query(0.1), 0.1)\n",
        "printer.push(dp_never_married_count_query(1.0), 1.0)\n",
        "printer.push(dp_never_married_count_query(0.1), 0.1)\n",
        "\n",
        "printer.print()"
      ],
      "metadata": {
        "id": "02E6Prt-RGP6"
      },
      "execution_count": null,
      "outputs": []
    },
    {
      "cell_type": "code",
      "source": [
        "assert len(printer.results) == 3\n",
        "assert np.isclose(printer.epsilon, 1.2)"
      ],
      "metadata": {
        "id": "DMXoX9TrUDqk"
      },
      "execution_count": null,
      "outputs": []
    },
    {
      "cell_type": "markdown",
      "metadata": {
        "id": "g8qA1Z2B0mv_"
      },
      "source": [
        "## Question 5 (10 points)\n",
        "\n",
        "The `pct_error` function, defined below, returns the percent relative error between an original query result and a differentially private result for the same query.\n",
        "\n",
        "Implement a function `graph_error_never_married` that:\n",
        "\n",
        "- Calculates 1000 differentially private answers to `dp_never_married_count_query`\n",
        "- Calculates the percent error for each one of these answers against the original (non-private) answer\n",
        "- Graphs the distribution of errors using a histogram\n",
        "\n",
        "*Hint*: use `plt.hist(..., bins=20)`.\n",
        "\n",
        "The given code will use your function to plot errors for `epsilon=0.1` and `epsilon=1.0`."
      ]
    },
    {
      "cell_type": "code",
      "execution_count": null,
      "metadata": {
        "id": "Vb9Lvp530mwA"
      },
      "outputs": [],
      "source": [
        "def pct_error(orig, priv):\n",
        "    return np.abs(orig - priv)/orig * 100.0"
      ]
    },
    {
      "cell_type": "code",
      "execution_count": null,
      "metadata": {
        "deletable": false,
        "nbgrader": {
          "cell_type": "code",
          "checksum": "e0629316da63126e9cb985ce2dd54c40",
          "grade": false,
          "grade_id": "cell-da0c198a1cf9a866",
          "locked": false,
          "schema_version": 3,
          "solution": true,
          "task": false
        },
        "id": "V4F1l8CT0mwA"
      },
      "outputs": [],
      "source": [
        "def graph_error_never_married(epsilon):\n",
        "    # YOUR CODE HERE\n",
        "    raise NotImplementedError()\n",
        "\n",
        "graph_error_never_married(0.1)\n",
        "graph_error_never_married(1.0)"
      ]
    },
    {
      "cell_type": "code",
      "execution_count": null,
      "metadata": {
        "deletable": false,
        "editable": false,
        "nbgrader": {
          "cell_type": "code",
          "checksum": "3361b8760594145c039d41479c981de4",
          "grade": true,
          "grade_id": "cell-eda6bc27840a9067",
          "locked": true,
          "points": 10,
          "schema_version": 3,
          "solution": false,
          "task": false
        },
        "id": "ZmSxrxZv0mwA"
      },
      "outputs": [],
      "source": [
        "error_spec = 100.0 * np.abs(np.random.laplace(loc=0, scale=1, size=1000)) / never_married_count_query()\n",
        "\n",
        "with patch('matplotlib.pyplot.hist') as mock_hist:\n",
        "    graph_error_never_married(1.0)\n",
        "\n",
        "args, kwargs = mock_hist.call_args\n",
        "assert stats.wasserstein_distance(error_spec, args[0]) < 0.001"
      ]
    },
    {
      "cell_type": "markdown",
      "metadata": {
        "id": "IOIW7sB10mwA"
      },
      "source": [
        "## Question 6 (10 points)\n",
        "\n",
        "In 2-5 sentences, answer the following:\n",
        "\n",
        "1. How does the histogram of relative errors for $\\epsilon = 0.1$ differ from the one for $\\epsilon = 1.0$?\n",
        "2. What do the two histograms tell you about the effect of $\\epsilon$ on relative error?\n",
        "\n",
        "**HINT**: Pay close attention to which color represents which value of $\\epsilon$!"
      ]
    },
    {
      "cell_type": "markdown",
      "metadata": {
        "deletable": false,
        "nbgrader": {
          "cell_type": "markdown",
          "checksum": "ce2bae13a992d9010fab785450105fd6",
          "grade": true,
          "grade_id": "cell-075013c43cc4cc1d",
          "locked": false,
          "points": 10,
          "schema_version": 3,
          "solution": true,
          "task": false
        },
        "id": "FsfS-Al50mwA"
      },
      "source": [
        "ANSWER 1:\n",
        "\n",
        "ANSWER 2:"
      ]
    },
    {
      "cell_type": "markdown",
      "metadata": {
        "id": "r1__03OQ0mwB"
      },
      "source": [
        "## Question 7 (5 points)\n",
        "\n",
        "Consider `over_60_count_query`, which asks how many people in the dataset are over the age of 60."
      ]
    },
    {
      "cell_type": "code",
      "execution_count": null,
      "metadata": {
        "id": "GzNKFR9u0mwB"
      },
      "outputs": [],
      "source": [
        "def over_60_count_query():\n",
        "    return len(adult[adult['Age'] > 60])"
      ]
    },
    {
      "cell_type": "markdown",
      "metadata": {
        "id": "68QjJB8b0mwB"
      },
      "source": [
        "Implement `dp_over_60_count_query`, a differentially private version of `over_60_count_query` (as in question 3), and `graph_error_over_60`, which graphs relative error for `dp_over_60_count_query` (as in question 5)."
      ]
    },
    {
      "cell_type": "code",
      "execution_count": null,
      "metadata": {
        "deletable": false,
        "nbgrader": {
          "cell_type": "code",
          "checksum": "aa2b1a0e097669458441b4208bdb099e",
          "grade": false,
          "grade_id": "cell-1c15ba7324d807a4",
          "locked": false,
          "schema_version": 3,
          "solution": true,
          "task": false
        },
        "id": "iiynjnjR0mwB"
      },
      "outputs": [],
      "source": [
        "def dp_over_60_count_query(epsilon):\n",
        "    # YOUR CODE HERE\n",
        "    raise NotImplementedError()\n",
        "\n",
        "def graph_error_over_60(epsilon):\n",
        "    # YOUR CODE HERE\n",
        "    raise NotImplementedError()\n",
        "\n",
        "# we plot both errors for never_married_count_query and over_60_count_query\n",
        "# at the same epsilon, to compare\n",
        "graph_error_over_60(1.0)\n",
        "graph_error_never_married(1.0)"
      ]
    },
    {
      "cell_type": "code",
      "execution_count": null,
      "metadata": {
        "deletable": false,
        "editable": false,
        "nbgrader": {
          "cell_type": "code",
          "checksum": "015fdbec71d505db6698ac9ebb460e18",
          "grade": true,
          "grade_id": "cell-239ae948aa08f924",
          "locked": true,
          "points": 10,
          "schema_version": 3,
          "solution": false,
          "task": false
        },
        "id": "tqmvhS4K0mwB"
      },
      "outputs": [],
      "source": [
        "error_spec = 100.0 * np.abs(np.random.laplace(loc=0, scale=1, size=1000)) / over_60_count_query()\n",
        "\n",
        "with patch('matplotlib.pyplot.hist') as mock_hist:\n",
        "    graph_error_over_60(1.0)\n",
        "\n",
        "args, kwargs = mock_hist.call_args\n",
        "assert stats.wasserstein_distance(error_spec, args[0]) < 0.01"
      ]
    },
    {
      "cell_type": "markdown",
      "metadata": {
        "id": "12fnhWNM0mwB"
      },
      "source": [
        "## Question 8 (10 points)\n",
        "\n",
        "In 2-5 sentences, answer the following:\n",
        "\n",
        "1. Given the graph from question 5, how does relative error differ between `dp_never_married_count_query` and `dp_over_60_count_query` for the same value of $\\epsilon$?\n",
        "2. What property of the query causes the difference in relative errors between `dp_never_married_count_query` and `dp_over_60_count_query`?"
      ]
    },
    {
      "cell_type": "markdown",
      "metadata": {
        "deletable": false,
        "nbgrader": {
          "cell_type": "markdown",
          "checksum": "36649d5ca3c4a6845f7caa5d7952d216",
          "grade": true,
          "grade_id": "cell-be5745d92a22154c",
          "locked": false,
          "points": 10,
          "schema_version": 3,
          "solution": true,
          "task": false
        },
        "id": "aZb6_A3u0mwB"
      },
      "source": [
        "ANSWER 1:\n",
        "\n",
        "ANSWER 2:"
      ]
    }
  ],
  "metadata": {
    "kernelspec": {
      "display_name": "Python 3",
      "language": "python",
      "name": "python3"
    },
    "language_info": {
      "codemirror_mode": {
        "name": "ipython",
        "version": 3
      },
      "file_extension": ".py",
      "mimetype": "text/x-python",
      "name": "python",
      "nbconvert_exporter": "python",
      "pygments_lexer": "ipython3",
      "version": "3.10.8 (main, Oct 13 2022, 09:48:40) [Clang 14.0.0 (clang-1400.0.29.102)]"
    },
    "vscode": {
      "interpreter": {
        "hash": "b0fa6594d8f4cbf19f97940f81e996739fb7646882a419484c72d19e05852a7e"
      }
    },
    "colab": {
      "provenance": []
    }
  },
  "nbformat": 4,
  "nbformat_minor": 0
}