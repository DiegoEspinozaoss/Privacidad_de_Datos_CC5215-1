{
  "cells": [
    {
      "cell_type": "markdown",
      "metadata": {
        "id": "UxJqW41eNfM6"
      },
      "source": [
        "# CC5215: Privacidad de Datos\n",
        "## Laboratorio 4\n",
        "\n",
        "Integrantes:\n",
        "\n",
        "- Diego Espinoza"
      ]
    },
    {
      "cell_type": "code",
      "execution_count": 57,
      "metadata": {
        "id": "kiGC_6YYNfM7"
      },
      "outputs": [],
      "source": [
        "# Load the data and libraries\n",
        "import pandas as pd\n",
        "import numpy as np\n",
        "from scipy import stats\n",
        "import matplotlib.pyplot as plt\n",
        "plt.style.use('seaborn-v0_8-whitegrid')\n",
        "\n",
        "def laplace_mech(v, sensitivity, epsilon):\n",
        "    return v + np.random.laplace(loc=0, scale=sensitivity / epsilon)\n",
        "\n",
        "def pct_error(orig, priv):\n",
        "    return np.abs(orig - priv)/orig * 100.0\n",
        "\n",
        "adult = pd.read_csv('https://users.dcc.uchile.cl/~mtoro/cursos/cc5215/adult_with_pii.csv')\n",
        "adult = adult.dropna()"
      ]
    },
    {
      "cell_type": "code",
      "execution_count": 58,
      "metadata": {
        "id": "tKDb9lQdNfM8"
      },
      "outputs": [
        {
          "data": {
            "text/html": [
              "<div>\n",
              "<style scoped>\n",
              "    .dataframe tbody tr th:only-of-type {\n",
              "        vertical-align: middle;\n",
              "    }\n",
              "\n",
              "    .dataframe tbody tr th {\n",
              "        vertical-align: top;\n",
              "    }\n",
              "\n",
              "    .dataframe thead th {\n",
              "        text-align: right;\n",
              "    }\n",
              "</style>\n",
              "<table border=\"1\" class=\"dataframe\">\n",
              "  <thead>\n",
              "    <tr style=\"text-align: right;\">\n",
              "      <th></th>\n",
              "      <th>Name</th>\n",
              "      <th>DOB</th>\n",
              "      <th>SSN</th>\n",
              "      <th>Zip</th>\n",
              "      <th>Age</th>\n",
              "      <th>Workclass</th>\n",
              "      <th>fnlwgt</th>\n",
              "      <th>Education</th>\n",
              "      <th>Education-Num</th>\n",
              "      <th>Marital Status</th>\n",
              "      <th>Occupation</th>\n",
              "      <th>Relationship</th>\n",
              "      <th>Race</th>\n",
              "      <th>Sex</th>\n",
              "      <th>Capital Gain</th>\n",
              "      <th>Capital Loss</th>\n",
              "      <th>Hours per week</th>\n",
              "      <th>Country</th>\n",
              "      <th>Target</th>\n",
              "    </tr>\n",
              "  </thead>\n",
              "  <tbody>\n",
              "    <tr>\n",
              "      <th>0</th>\n",
              "      <td>Karrie Trusslove</td>\n",
              "      <td>9/7/1967</td>\n",
              "      <td>732-14-6110</td>\n",
              "      <td>64152</td>\n",
              "      <td>39</td>\n",
              "      <td>State-gov</td>\n",
              "      <td>77516</td>\n",
              "      <td>Bachelors</td>\n",
              "      <td>13</td>\n",
              "      <td>Never-married</td>\n",
              "      <td>Adm-clerical</td>\n",
              "      <td>Not-in-family</td>\n",
              "      <td>White</td>\n",
              "      <td>Male</td>\n",
              "      <td>2174</td>\n",
              "      <td>0</td>\n",
              "      <td>40</td>\n",
              "      <td>United-States</td>\n",
              "      <td>&lt;=50K</td>\n",
              "    </tr>\n",
              "    <tr>\n",
              "      <th>1</th>\n",
              "      <td>Brandise Tripony</td>\n",
              "      <td>6/7/1988</td>\n",
              "      <td>150-19-2766</td>\n",
              "      <td>61523</td>\n",
              "      <td>50</td>\n",
              "      <td>Self-emp-not-inc</td>\n",
              "      <td>83311</td>\n",
              "      <td>Bachelors</td>\n",
              "      <td>13</td>\n",
              "      <td>Married-civ-spouse</td>\n",
              "      <td>Exec-managerial</td>\n",
              "      <td>Husband</td>\n",
              "      <td>White</td>\n",
              "      <td>Male</td>\n",
              "      <td>0</td>\n",
              "      <td>0</td>\n",
              "      <td>13</td>\n",
              "      <td>United-States</td>\n",
              "      <td>&lt;=50K</td>\n",
              "    </tr>\n",
              "    <tr>\n",
              "      <th>2</th>\n",
              "      <td>Brenn McNeely</td>\n",
              "      <td>8/6/1991</td>\n",
              "      <td>725-59-9860</td>\n",
              "      <td>95668</td>\n",
              "      <td>38</td>\n",
              "      <td>Private</td>\n",
              "      <td>215646</td>\n",
              "      <td>HS-grad</td>\n",
              "      <td>9</td>\n",
              "      <td>Divorced</td>\n",
              "      <td>Handlers-cleaners</td>\n",
              "      <td>Not-in-family</td>\n",
              "      <td>White</td>\n",
              "      <td>Male</td>\n",
              "      <td>0</td>\n",
              "      <td>0</td>\n",
              "      <td>40</td>\n",
              "      <td>United-States</td>\n",
              "      <td>&lt;=50K</td>\n",
              "    </tr>\n",
              "    <tr>\n",
              "      <th>3</th>\n",
              "      <td>Dorry Poter</td>\n",
              "      <td>4/6/2009</td>\n",
              "      <td>659-57-4974</td>\n",
              "      <td>25503</td>\n",
              "      <td>53</td>\n",
              "      <td>Private</td>\n",
              "      <td>234721</td>\n",
              "      <td>11th</td>\n",
              "      <td>7</td>\n",
              "      <td>Married-civ-spouse</td>\n",
              "      <td>Handlers-cleaners</td>\n",
              "      <td>Husband</td>\n",
              "      <td>Black</td>\n",
              "      <td>Male</td>\n",
              "      <td>0</td>\n",
              "      <td>0</td>\n",
              "      <td>40</td>\n",
              "      <td>United-States</td>\n",
              "      <td>&lt;=50K</td>\n",
              "    </tr>\n",
              "    <tr>\n",
              "      <th>4</th>\n",
              "      <td>Dick Honnan</td>\n",
              "      <td>9/16/1951</td>\n",
              "      <td>220-93-3811</td>\n",
              "      <td>75387</td>\n",
              "      <td>28</td>\n",
              "      <td>Private</td>\n",
              "      <td>338409</td>\n",
              "      <td>Bachelors</td>\n",
              "      <td>13</td>\n",
              "      <td>Married-civ-spouse</td>\n",
              "      <td>Prof-specialty</td>\n",
              "      <td>Wife</td>\n",
              "      <td>Black</td>\n",
              "      <td>Female</td>\n",
              "      <td>0</td>\n",
              "      <td>0</td>\n",
              "      <td>40</td>\n",
              "      <td>Cuba</td>\n",
              "      <td>&lt;=50K</td>\n",
              "    </tr>\n",
              "  </tbody>\n",
              "</table>\n",
              "</div>"
            ],
            "text/plain": [
              "               Name        DOB          SSN    Zip  Age         Workclass  \\\n",
              "0  Karrie Trusslove   9/7/1967  732-14-6110  64152   39         State-gov   \n",
              "1  Brandise Tripony   6/7/1988  150-19-2766  61523   50  Self-emp-not-inc   \n",
              "2     Brenn McNeely   8/6/1991  725-59-9860  95668   38           Private   \n",
              "3       Dorry Poter   4/6/2009  659-57-4974  25503   53           Private   \n",
              "4       Dick Honnan  9/16/1951  220-93-3811  75387   28           Private   \n",
              "\n",
              "   fnlwgt  Education  Education-Num      Marital Status         Occupation  \\\n",
              "0   77516  Bachelors             13       Never-married       Adm-clerical   \n",
              "1   83311  Bachelors             13  Married-civ-spouse    Exec-managerial   \n",
              "2  215646    HS-grad              9            Divorced  Handlers-cleaners   \n",
              "3  234721       11th              7  Married-civ-spouse  Handlers-cleaners   \n",
              "4  338409  Bachelors             13  Married-civ-spouse     Prof-specialty   \n",
              "\n",
              "    Relationship   Race     Sex  Capital Gain  Capital Loss  Hours per week  \\\n",
              "0  Not-in-family  White    Male          2174             0              40   \n",
              "1        Husband  White    Male             0             0              13   \n",
              "2  Not-in-family  White    Male             0             0              40   \n",
              "3        Husband  Black    Male             0             0              40   \n",
              "4           Wife  Black  Female             0             0              40   \n",
              "\n",
              "         Country Target  \n",
              "0  United-States  <=50K  \n",
              "1  United-States  <=50K  \n",
              "2  United-States  <=50K  \n",
              "3  United-States  <=50K  \n",
              "4           Cuba  <=50K  "
            ]
          },
          "execution_count": 58,
          "metadata": {},
          "output_type": "execute_result"
        }
      ],
      "source": [
        "adult.head()"
      ]
    },
    {
      "cell_type": "markdown",
      "metadata": {
        "id": "MteU4VP8WicM"
      },
      "source": [
        "### Question 1 (10 points)\n",
        "\n",
        "As you can imagine, the column Capital Gain does not have an obvious upper bound. Therefore, in order to compute a differentially private sum of that column, we need to clip the column.\n",
        "\n",
        "Complete the function `find_sensitivity_clipping_cgain` that plots the sum of 'Capital Gain' for different clipping parameters. Your function should not use more of a privacy budget than `epsilon`.\n",
        "\n",
        "_Hint_: Explore different cliping parameters using a step of `10000` and a reasonable number of iterations."
      ]
    },
    {
      "cell_type": "code",
      "execution_count": 59,
      "metadata": {
        "id": "dfV0q2Z1QjTK"
      },
      "outputs": [
        {
          "data": {
            "image/png": "[encoded data removed]",
            "text/plain": [
              "<Figure size 1000x600 with 1 Axes>"
            ]
          },
          "metadata": {},
          "output_type": "display_data"
        }
      ],
      "source": [
        "def find_sensitivity_clipping_cgain(epsilon):\n",
        "    \"\"\"Esta funcion lo que hace es probar diferentes \"generalizaciones\"\n",
        "    de la columna Capital Gain del dataframe adult para ver cómo cambia \n",
        "    el valor de la consulta diferencialmente privada de la suma. \n",
        "\n",
        "    Args:\n",
        "        epsilon (_type_): este es el presupuesto de privacidad\n",
        "    \"\"\"\n",
        "    #ahora defino un arreglo que contiene diez mil valores diferentes.\n",
        "    valores_de_clipping = np.arange(1000, 1000001, 1000)\n",
        "    sumas_dif_privadas = []\n",
        "\n",
        "    for clip in valores_de_clipping:\n",
        "        #aplicamos el df_clippeado\n",
        "        df_clippeado = np.clip(adult['Capital Gain'], 0, clip)\n",
        "\n",
        "        #evidentemente, si hacemos clip con 1000, por ejemplo, la cantidad de datos puede\n",
        "        #cambiar a lo más 1000, por lo que la sensibilidad viene a ser igual al valor\n",
        "        #del clip.\n",
        "        sensibilidad = clip\n",
        "\n",
        "        #Ahora aplicamos el mecanismo de Laplace para agregar ruido a la suma de la columna.\n",
        "        noise = np.random.laplace(loc=0.0, scale=sensibilidad/epsilon)\n",
        "        suma_dif_privada = df_clippeado.sum() + noise\n",
        "\n",
        "        #vamos guardando las sumas diferencialmente_privadas.\n",
        "        sumas_dif_privadas.append(suma_dif_privada)\n",
        "\n",
        "    plt.figure(figsize=(10, 6))\n",
        "    plt.plot(valores_de_clipping, sumas_dif_privadas, marker='o')\n",
        "    plt.title('DP Sum of Capital Gain vs Clipping Threshold (Límite de clipping)')\n",
        "    plt.xlabel('Clipping Threshold')\n",
        "    plt.ylabel('Differentially Private Sum')\n",
        "    plt.grid(True)\n",
        "    plt.show()\n",
        "\n",
        "CLIPPING_EPSILON = 1.0\n",
        "\n",
        "find_sensitivity_clipping_cgain(CLIPPING_EPSILON)"
      ]
    },
    {
      "cell_type": "code",
      "execution_count": 60,
      "metadata": {
        "id": "PnXYmHUbAq-h"
      },
      "outputs": [],
      "source": [
        "# Define this variable for the next question\n",
        "\n",
        "CAPGAIN_UPPER_BOUND = None"
      ]
    },
    {
      "cell_type": "markdown",
      "metadata": {
        "id": "a7YQNwaVuQF8"
      },
      "source": [
        "### Question 2 (10 points)\n",
        "\n",
        "- What is a reasonable clipping parameter? and why?\n",
        "- What was the privacy budget (`epsilon`) for each iteration?"
      ]
    },
    {
      "cell_type": "markdown",
      "metadata": {
        "id": "S2igTt6bu2nu"
      },
      "source": [
        "\n",
        "- ANSWER 1: Como sabemos de antemano (no de este dataset en específico), la distribución de los sueldos de las personas suele ser con una cola muy larga hacia la derecha, es decir, con un skewness tal que se diferencia de una distribución simétrica. Esto implica que habrán valores muy alejados de la moda, en particular, que la media estará alejada de la mediana, y por consecuencia es necesario tomar valores de clipping mas o menos altos (como en este caso probablemente hablamos de dolares, tiene sentido pensar que 100 mil dolares es mucho más que la mediana de los datos, mediana que representa el sueldo de la mayoría de la clase \"media\"). Por otro lado, si hacemos clipping con valores muy bajos, corremos el riesgo de perder mucha utilidad puesto que quizas la mayoria de las personas son de bajos ingresos. Por último, podemos decir que el 100 mil es bueno porque es el balance entre intermedia sensibilidad (un clipping intermedio) y una suma intermedia (es decir, el ruido del mecanismo de Laplace no afecta mucho como para perder mucha utilidad). Como podemos ver por otro lado, justo en 100 mil el valor de la suma se estabiliza, por lo que hacer clipping con valores se vuelve innecesario porque se quita utilidad.\n",
        "\n",
        "- ANSWER 2: El epsilon para cada iteración fue el mismo (en este caso de 0.1) porque de otra manera no se podría saber del gráfico si la diferencia de sumas viene dado por el parámetro epsilon (que por ejemplo vendría dado por el teorema de composicion) o bien por el parámetro sensibilidad (que viene dado mas bien por el valor del clip).\n"
      ]
    },
    {
      "cell_type": "markdown",
      "metadata": {
        "id": "R-d8oxK4NfM8"
      },
      "source": [
        "### Question 3 (10 points)\n",
        "\n",
        "Complete the definition of `dp_sum_capgain` below, using the clipping parameter you previously found. Your definition should compute a differentially private sum of the \"Capital Gain\" column of the `adult` dataset, and have a total privacy cost of `epsilon`.\n",
        "\n",
        "_Hint_: Remember that you already used some of the privacy budget for finding the clipping parameter."
      ]
    },
    {
      "cell_type": "code",
      "execution_count": 61,
      "metadata": {
        "deletable": false,
        "id": "b_xzC82CNfM8",
        "nbgrader": {
          "cell_type": "code",
          "checksum": "6080971c67250edb52282f4b23cd5b88",
          "grade": false,
          "grade_id": "cell-6a369f61d8eef943",
          "locked": false,
          "schema_version": 3,
          "solution": true,
          "task": false
        }
      },
      "outputs": [
        {
          "data": {
            "text/plain": [
              "32966881.04877428"
            ]
          },
          "execution_count": 61,
          "metadata": {},
          "output_type": "execute_result"
        }
      ],
      "source": [
        "def dp_sum_capgain(epsilon):\n",
        "    \"\"\"Resumen\n",
        "\n",
        "    Args:\n",
        "        epsilon (float): este parametro es el presupuesto\n",
        "        total de privacidad\n",
        "\n",
        "    Returns:\n",
        "        suma_con_ruido (float): suma con ruido de Laplace\n",
        "        luego de aplicar clipping con el valor encontrado en la parte anterior \n",
        "    \"\"\"\n",
        "    valor_clip = 100000\n",
        "    epsilon_cota = CLIPPING_EPSILON\n",
        "    #pero como ya usamos una parte del presupuesto de privacidad para \n",
        "    #encontrar el valor del clipping óptimo, entonces tenemos menos\n",
        "    #presupuesto, porque El epsilon_suma = epsilon_max - epsilon_cota\n",
        "    epsilon_suma = epsilon - epsilon_cota\n",
        "\n",
        "    ganancia_de_capital_clippeada = adult[\"Capital Gain\"].clip(upper=valor_clip)\n",
        "\n",
        "    suma_verdadera = ganancia_de_capital_clippeada.sum()\n",
        "\n",
        "    sensibilidad = valor_clip\n",
        "    ruido = np.random.laplace(loc=0.0, scale = sensibilidad / epsilon_suma)\n",
        "\n",
        "    return suma_verdadera + ruido\n",
        "\n",
        "dp_sum_capgain(2.0)"
      ]
    },
    {
      "cell_type": "code",
      "execution_count": 62,
      "metadata": {
        "deletable": false,
        "editable": false,
        "id": "VJFRaV7RNfM8",
        "nbgrader": {
          "cell_type": "code",
          "checksum": "ff9fcd394127b5d73aac00552e7e7ab4",
          "grade": true,
          "grade_id": "cell-e5b1229ba2249f71",
          "locked": true,
          "points": 10,
          "schema_version": 3,
          "solution": false,
          "task": false
        }
      },
      "outputs": [
        {
          "name": "stdout",
          "output_type": "stream",
          "text": [
            "Average errors: 0.31558932944873197 0.03619344126298674 0.007791753952982769\n"
          ]
        }
      ],
      "source": [
        "# TEST CASES for question 3\n",
        "\n",
        "real_sum = adult['Capital Gain'].sum()\n",
        "r1 = np.mean([pct_error(real_sum, dp_sum_capgain(2.0)) for _ in range(100)])\n",
        "r2 = np.mean([pct_error(real_sum, dp_sum_capgain(10.0)) for _ in range(100)])\n",
        "r3 = np.mean([pct_error(real_sum, dp_sum_capgain(40.0)) for _ in range(100)])\n",
        "\n",
        "print(\"Average errors:\", r1, r2, r3)\n",
        "\n",
        "assert r1 > 0\n",
        "assert r2 > 0\n",
        "assert r3 > 0\n",
        "assert r1 < 0.5\n",
        "assert r2 < 0.05\n",
        "assert r3 < 0.01"
      ]
    },
    {
      "cell_type": "markdown",
      "metadata": {
        "id": "QVATxIL6NfM8"
      },
      "source": [
        "### Question 4 (10 points)\n",
        "\n",
        "In 2-5 sentences each, answer the following:\n",
        "\n",
        "- What was the sensitivity of the query you used in `dp_sum_capgain`, and how is it bounded?\n",
        "- Argue that your definition of `dp_sum_capgain` has a total privacy cost of `epsilon`\n",
        "- Is it necessary to do the sum again after computing the `CAPGAIN_UPPER_BOUND`? Can we do better?"
      ]
    },
    {
      "cell_type": "markdown",
      "metadata": {
        "deletable": false,
        "id": "ncobxRZLNfM9",
        "nbgrader": {
          "cell_type": "markdown",
          "checksum": "6cfdb579dfcf330b8e9e9cfd697fe494",
          "grade": true,
          "grade_id": "cell-986eec754f32c072",
          "locked": false,
          "points": 10,
          "schema_version": 3,
          "solution": true,
          "task": false
        }
      },
      "source": [
        "- ANSWER 1: La sensibilidad que usé en la consulta dp_sum_capgain fue igual al valor del clip, y esta no cambia porque en esencia es igual al valor del clipping que encontré en la primera parte. Además, incluso si agregáramos un individuo de altos ingresos a la base de datos, su sueldo o ingresos estarían limitados por el límite superior, y por lo tanto la sensibilidad seguiría siendo igual al valor del clipping, porque el valor de la suma podría cambiar a lo sumo en ese mismo valor. \n",
        "\n",
        "- ANSWER 2: Dado que la operación que consiste en encontrar el valor del clip tiene una privacidad de \"epsilon_cota\" y dado que la privacidad de la funcion dp_sum_capgain tiene una privacidad de \"epsilon - epsilon_cota\", se deduce por el teorema de composición que la privacidad total es igual a \"epsilon cota\" + \"epsilon - epsilon_cota\" = \"epsilon\". Es decir, por la forma en que está definida la función es la razón por la que se cumple privacidad \"epsilon\".\n",
        "\n",
        "- ANSWER 3: Es necesario hacer el cálculo de la suma porque el cálculo del valor del clipping por sí mismo no nos dice nada de la suma en sí. Sin embargo, podemos con información auxiliar evitar el uso de parte de nuestro presupuesto de privacidad en el cálculo del límite superior del clipping, y por lo tanto podríamos dedicar todo el presupuesto de privacidad a la suma de la consulta de arriba. Esto se puede hacer por ejemplo, estimando dicho parámetro en conocimiento a priori o bien en información o estadísticas públicas (es decir, que pertenecen a bases de datos públicas). "
      ]
    },
    {
      "cell_type": "markdown",
      "metadata": {
        "id": "gg31ssK9NfM9"
      },
      "source": [
        "### Question 5 (10 points)\n",
        "\n",
        "Complete the definition of `dp_avg_capgain` below. Your definition should compute a differentially private average (mean) of the \"Capital Gain\" column of the adult dataset, and have a **total privacy cost of epsilon**.\n",
        "\n",
        "_Hint_: Use 10% of the privacy budget for computing the count, and the rest for the sum"
      ]
    },
    {
      "cell_type": "code",
      "execution_count": 63,
      "metadata": {
        "deletable": false,
        "id": "4xXM3MLMNfM9",
        "nbgrader": {
          "cell_type": "code",
          "checksum": "99b884a40ae754582e5d08c98abb1fda",
          "grade": false,
          "grade_id": "cell-93f2a5153dca0e95",
          "locked": false,
          "schema_version": 3,
          "solution": true,
          "task": false
        }
      },
      "outputs": [
        {
          "data": {
            "text/plain": [
              "1087.3557713540793"
            ]
          },
          "execution_count": 63,
          "metadata": {},
          "output_type": "execute_result"
        }
      ],
      "source": [
        "def dp_avg_capgain(epsilon):\n",
        "    \"\"\"Resumen: Esta función aplica mecanismo de Laplace con  diferentes \n",
        "    sensibilidades y epsilon para poder cumplir con el presupuesto de priva\n",
        "    cidad y tambien con la definición de sensibilidad de cada operación. \n",
        "\n",
        "    Args:\n",
        "        epsilon (float): este es el presupuesto total, que se dividirá\n",
        "        entre el epsilon del conteo y el epsilon de la suma, 10 y 90% \n",
        "        respectivamente.\n",
        "\n",
        "    Returns:\n",
        "        promedio_dif_privado (float):\n",
        "        este promedio se calcula como la división de dos cosas ruidosas:\n",
        "        la suma y el conteo.\n",
        "    \"\"\"\n",
        "    epsilon_conteo = 0.1*epsilon\n",
        "    epsilon_suma = epsilon - epsilon_conteo\n",
        "    CLIP_VALUE = 100000\n",
        "    \n",
        "    adult_clipped = adult[\"Capital Gain\"].clip(upper=CLIP_VALUE)\n",
        "\n",
        "\n",
        "    conteo = len(adult_clipped)\n",
        "    conteo_ruidoso = conteo + np.random.laplace(loc=0.0, scale=1.0 / epsilon_conteo)\n",
        "\n",
        "    suma_real = adult_clipped.sum()\n",
        "    suma_ruidosa = suma_real + np.random.laplace(loc=0.0, scale=CLIP_VALUE / epsilon_suma)\n",
        "\n",
        "    promedio_dif_privado = suma_ruidosa / conteo_ruidoso\n",
        "\n",
        "    return promedio_dif_privado\n",
        "\n",
        "dp_avg_capgain(2.0)"
      ]
    },
    {
      "cell_type": "code",
      "execution_count": 64,
      "metadata": {
        "deletable": false,
        "editable": false,
        "id": "FZRk7dQFNfM9",
        "nbgrader": {
          "cell_type": "code",
          "checksum": "f1b47ee125ecebaab842c8677f424806",
          "grade": true,
          "grade_id": "cell-ef77b325b5c58908",
          "locked": true,
          "points": 10,
          "schema_version": 3,
          "solution": false,
          "task": false
        }
      },
      "outputs": [
        {
          "name": "stdout",
          "output_type": "stream",
          "text": [
            "Average errors: 0.1707453254111995 0.035010723216904543 0.009598972496586014\n"
          ]
        }
      ],
      "source": [
        "# TEST CASE for question 5\n",
        "\n",
        "real_avg = adult['Capital Gain'].mean()\n",
        "r1 = np.mean([pct_error(real_avg, dp_avg_capgain(2.0)) for _ in range(100)])\n",
        "r2 = np.mean([pct_error(real_avg, dp_avg_capgain(10.0)) for _ in range(100)])\n",
        "r3 = np.mean([pct_error(real_avg, dp_avg_capgain(40.0)) for _ in range(100)])\n",
        "\n",
        "print(\"Average errors:\", r1, r2, r3)\n",
        "\n",
        "assert r1 > 0\n",
        "assert r2 > 0\n",
        "assert r3 > 0\n",
        "assert r1 < 0.5\n",
        "assert r2 < 0.05\n",
        "assert r3 < 0.01"
      ]
    },
    {
      "cell_type": "markdown",
      "metadata": {
        "id": "kldbBq-yNfM9"
      },
      "source": [
        "### Question 6 (10 points)\n",
        "\n",
        "In 2-5 sentences each, answer the following:\n",
        "\n",
        "- Argue that your definition of `dp_avg_capgain` has a total privacy cost of `epsilon`\n",
        "- For sums and averages, which seems to be more important for accuracy - the value of the clipping parameter $b$ or the scale of the noise added? Why?\n",
        "- Do you think the answer to the previous point will be true for every dataset? Why or why not?"
      ]
    },
    {
      "cell_type": "markdown",
      "metadata": {
        "deletable": false,
        "id": "xURSckbXNfM9",
        "nbgrader": {
          "cell_type": "markdown",
          "checksum": "1bdbfc10631a501c5a7fb556dd93b78b",
          "grade": true,
          "grade_id": "cell-7ea16016366529bd",
          "locked": false,
          "points": 10,
          "schema_version": 3,
          "solution": true,
          "task": false
        }
      },
      "source": [
        "- ANSWER 1: De la misma manera que en la parte anterior, usando el hint de la pregunta, definí el dp_avg_capgain como usando un 10% de la privacidad para el cálculo de la cantidad de filas de la columna, y el otro 90% para el cálculo de la suma. Por lo que epsilon_promedio = 0.1 * epsilon + 0.9 * epsilon = epsilon, por lo que la definición de la función cumple con un costo total de privacidad de \"epsilon\". Además, se suman los epsilon porque están trabajando sobre la misma base de datos (aplicamos composición secuencial, y por ende suma de epsilon's). \n",
        "\n",
        "- ANSWER 2: El parámetro b de clipping es proporcional a la sensibilidad de la consulta de la suma, pero no para el del conteo total. por otro lado, la que tiene mayor epsilon es la suma (por ende menor ruido proporcionalmente) que la del conteo. Por lo tanto, un b más grande reduce el sesgo (menos clipping) pero incrementa el ruido. En general, el que tiene más importancia para la precisión es el valor de B porque incrementa el ruido. \n",
        "\n",
        "- ANSWER 3: En datasets pequeños cualquier cantidad de ruido es muy ruidosa, por lo que da lo mismo la comparación entre ambos parámetros (aquí lo que importa es elegir un epsilon pequeño que nos permita disminuir el ruido). En datasets de tamaño mediano, la escala del ruido puede importar más y en los datasets con colas largas es importante o más crucial el clipping. Sin embargo, en cuanto a los que son intermedios o que son uniformemente distribuidos, hacer un clipping no ayuda nada porque no hay muchos outliers ni colas asimétricas necesariamente. Por lo tanto, depende del dataset. "
      ]
    },
    {
      "cell_type": "markdown",
      "metadata": {
        "id": "u6eDvdsI-X7Z"
      },
      "source": [
        "### Question 7 (10 points)\n",
        "\n",
        "Write a function `dp_age_hist` that plots a histogram for the column Age where the count is performed in a differentially private manner. The histogram should show 10 bins.\n",
        "\n",
        "_Hint 1_: Do not use the function `.hist()` directly. Instead, compute the count for each bin, make it private, and the use `.plot(kind='bar')`\n",
        "\n",
        "_Hint 2_: You can use the parameter `bins=[n1, ..., n]` of the method `value_counts` to count the values of a column within bins of size 10, from 0 to 150"
      ]
    },
    {
      "cell_type": "code",
      "execution_count": 70,
      "metadata": {
        "id": "2PJixMT07K9X"
      },
      "outputs": [
        {
          "data": {
            "image/png": "[encoded data removed]",
            "text/plain": [
              "<Figure size 1000x500 with 1 Axes>"
            ]
          },
          "metadata": {},
          "output_type": "display_data"
        },
        {
          "data": {
            "text/plain": [
              "[Series([], Name: count, dtype: float64),\n",
              " (9.999, 19.0]    1370.360239\n",
              " Name: count, dtype: float64,\n",
              " (19.999, 29.0]    7416.014056\n",
              " Name: count, dtype: float64,\n",
              " (29.999, 39.0]    8210.847056\n",
              " Name: count, dtype: float64,\n",
              " (39.999, 49.0]    6903.846522\n",
              " Name: count, dtype: float64,\n",
              " (49.999, 59.0]    4185.127983\n",
              " Name: count, dtype: float64,\n",
              " (59.999, 69.0]    1635.945962\n",
              " Name: count, dtype: float64,\n",
              " (69.999, 79.0]    355.351059\n",
              " Name: count, dtype: float64,\n",
              " (79.999, 89.0]    58.039543\n",
              " Name: count, dtype: float64,\n",
              " (89.999, 99.0]    34.812731\n",
              " Name: count, dtype: float64]"
            ]
          },
          "execution_count": 70,
          "metadata": {},
          "output_type": "execute_result"
        }
      ],
      "source": [
        "def dp_age_hist(epsilon):\n",
        "    #si fuera composición secuencial (conjuntos no disjuntos de a pares) entonces \n",
        "    #el epsilon sería epsilon/10 para cada bin. Pero como cada bin es disjunto de otro\n",
        "    #entonces no importa que el epsilon de cada bin sea igual al presupuesto total de \n",
        "    #privacidad (y por ende sin violar la privacidad total del sistema).  \n",
        "    epsilon_bin = epsilon\n",
        "    #la sensibilidad es 1 porque si agregamos una persona a un bin, el conteo \n",
        "    #cambia a lo más en uno.\n",
        "    sensibilidad = 1\n",
        "    \n",
        "    bins = [(10*i, 10*i + 9) for i in range(10)]\n",
        "    conteos_ruidosos = []\n",
        "    for i in range(10):\n",
        "        bins = [int(10*i),10 * i + 9]\n",
        "        conteo = adult['Age'].value_counts(bins = bins)\n",
        "        conteo_ruidoso_bin = conteo + np.random.laplace(loc=0.0, scale = sensibilidad / epsilon_bin)\n",
        "        conteos_ruidosos.append(conteo_ruidoso_bin)\n",
        "        \n",
        "    etiquetas = [f\"{10*i}-{10*i + 9}\" for i in range(10)]\n",
        "    \n",
        "    valores = [c.values[0] if not c.empty else 0 for c in conteos_ruidosos]\n",
        "\n",
        "    df_hist = pd.Series(valores, index=etiquetas)\n",
        "    df_hist.plot(kind='bar', color='skyblue', figsize=(10,5), \n",
        "                 title=f\"Histograma DP de Edad (ε = {epsilon})\")\n",
        "    plt.xlabel(\"Rango de Edad\")\n",
        "    plt.ylabel(\"Conteo ruidoso\")\n",
        "    plt.tight_layout()\n",
        "    plt.show()\n",
        "\n",
        "    return conteos_ruidosos\n",
        "\n",
        "\n",
        "\n",
        "dp_age_hist(1.0)"
      ]
    },
    {
      "cell_type": "markdown",
      "metadata": {
        "id": "J1rl5JP9_zDO"
      },
      "source": [
        "- Argue why your definition of `dp_age_hist` is `epsilon`-differential private\n",
        "- If we change the resulting negative values to zero, does the post-processed result still satisfy `epsilon`-differential private?"
      ]
    },
    {
      "cell_type": "markdown",
      "metadata": {
        "id": "usTNZ_5sAFEh"
      },
      "source": [
        "- ANSWER 1: Como se dijo en la definición de la función, es diferencialmente privada porque por composición paralela, dado que los bins son conjuntos disjuntos, podemos decir que el costo total de privacidad no será la suma de las privacidades sino el máximo de todas ellas. Pero como nos conviene usar todo el presupuesto para cada bin, simplemente asumimos el máximo (no una fracción de epsilon) sino todo epsilon. Por lo tanto es epsilon-diferencialmente privada.\n",
        "\n",
        "- ANSWER 2: Si cambiamos los valores resultantes negativos a cero, entonces esto podría afectar a la precisión de los resultados, ya que los valores negativos son parte del ruido Laplaciano. El resultado post-procesamiento seguirá siendo epsilon diferencialmente privado porque por el teorema de post-procesamiento sabemos que si un algoritmo o función cumple con la privacidad diferencial, entonces cualquier postprocesamiento de los resultados también mantendrá la privacidad diferencial, ya sea que se cambien valores negativos por ceros o cualquier otro proceso. "
      ]
    }
  ],
  "metadata": {
    "colab": {
      "provenance": []
    },
    "kernelspec": {
      "display_name": "Python 3",
      "language": "python",
      "name": "python3"
    },
    "language_info": {
      "codemirror_mode": {
        "name": "ipython",
        "version": 3
      },
      "file_extension": ".py",
      "mimetype": "text/x-python",
      "name": "python",
      "nbconvert_exporter": "python",
      "pygments_lexer": "ipython3",
      "version": "3.9.6"
    }
  },
  "nbformat": 4,
  "nbformat_minor": 0
}
