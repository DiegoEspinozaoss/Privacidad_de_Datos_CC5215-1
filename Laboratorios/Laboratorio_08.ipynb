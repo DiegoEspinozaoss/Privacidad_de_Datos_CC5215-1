{
  "cells": [
    {
      "cell_type": "markdown",
      "metadata": {
        "id": "7X7ZwNViRWmT"
      },
      "source": [
        "# CC5215: Privacidad de Datos\n",
        "\n",
        "## Laboratorio 8\n",
        "\n",
        "Integrantes:\n",
        "\n",
        "- Nombre: Diego Espinoza"
      ]
    },
    {
      "cell_type": "code",
      "execution_count": 1,
      "metadata": {
        "id": "9JmjcAJRRWmW"
      },
      "outputs": [],
      "source": [
        "# Load the data and libraries\n",
        "import pandas as pd\n",
        "import numpy as np\n",
        "import random\n",
        "from scipy import stats\n",
        "import matplotlib.pyplot as plt\n",
        "\n",
        "def laplace_mech(v, sensitivity, epsilon):\n",
        "    return v + np.random.laplace(loc=0, scale=sensitivity / epsilon)\n",
        "\n",
        "def pct_error(orig, priv):\n",
        "    return np.abs(orig - priv)/orig * 100.0\n",
        "\n",
        "adult = pd.read_csv('https://users.dcc.uchile.cl/~mtoro/cursos/cc5215/adult_with_pii.csv')"
      ]
    },
    {
      "cell_type": "markdown",
      "metadata": {
        "id": "2DN9AAekEaWR"
      },
      "source": [
        "## Randomized response"
      ]
    },
    {
      "cell_type": "markdown",
      "metadata": {
        "id": "9dsUkP_MiTr6"
      },
      "source": [
        "## Question 1 (5 points)\n",
        "\n",
        "Complete the definition of `encode_rand_resp_yes_no`. The true response should be returned with probability `p`, otherwise the result should be a coin flip."
      ]
    },
    {
      "cell_type": "code",
      "execution_count": null,
      "metadata": {
        "id": "juoQfxefiZ7n"
      },
      "outputs": [
        {
          "name": "stdout",
          "output_type": "stream",
          "text": [
            "Randomized response: True\n",
            "Randomized response: 0\n",
            "Randomized response: 1\n",
            "Randomized response: 1\n",
            "Randomized response: 1\n"
          ]
        }
      ],
      "source": [
        "def encode_rand_resp_yes_no(p, true_response):\n",
        "    \"\"\"devuelve la verdadera respuesta con probabilidad p, y\n",
        "    devuelve cualquier cosa con el complemento de la probabilidad 1-p\n",
        "\n",
        "    Args:\n",
        "        p: probabilidad de obtener la verdadera respuesta\n",
        "        true_response: verdadera respuesta\n",
        "\n",
        "    Returns:\n",
        "        respuesta: nos da la respuesta que antes se describió\n",
        "    \"\"\"\n",
        "    if np.random.rand() < p:#con probabilidad p devolvemos la verdadera respuesta a la consulta.\n",
        "        return true_response\n",
        "    else:\n",
        "        return np.random.randint(0, 2)#ponemos 2 porque es desde el 0 hasta el 1, sin contar el 2\n",
        "for _ in range(5):\n",
        "    print('Randomized response:', encode_rand_resp_yes_no(0.2, True))"
      ]
    },
    {
      "cell_type": "markdown",
      "metadata": {
        "id": "cs4T-con4vDk"
      },
      "source": [
        "## Question 2 (10 points)\n",
        "\n",
        "Find the equation to calculate the privacy level, $\\epsilon$, of the randomized response algorithm."
      ]
    },
    {
      "cell_type": "markdown",
      "metadata": {},
      "source": [
        "El mecanismo de respuesta aleatorizada consiste en que un individuo responde una pregunta binaria $x \\in \\{0, 1\\}$ de la siguiente manera:\n",
        "\n",
        "- Con probabilidad $p$, dice la **verdad**.\n",
        "- Con probabilidad $1-p$, responde de forma aleatoria: 0 o 1 con igual probabilidad $\\frac{1}{2}$.\n",
        "\n",
        "Se desea calcular el nivel de privacidad $\\varepsilon$ garantizado por este mecanismo, en el sentido de privacidad diferencial.\n",
        "\n",
        "Recordamos la definición de privacidad diferencial:\n",
        "\n",
        "$$\n",
        "Pr[M(x_1) \\in A_0] \\leq e^{\\varepsilon} \\cdot Pr[M(x_2) \\in A_0]\n",
        "$$\n",
        "\n",
        "En este caso, hay solo dos posibles valores (0 y 1), por lo que podemos considerar como evento $A_0 = \\{1\\}$ y estudiar:\n",
        "\n",
        "- Si la respuesta verdadera es 1, la probabilidad de que el mecanismo devuelva 1 es:\n",
        "\n",
        "$$\n",
        "Pr[y = 1 \\mid x = 1] = p + (1 - p) \\cdot \\frac{1}{2} = \\frac{1 + p}{2}\n",
        "$$\n",
        "\n",
        "- Mientras que si la respuesta verdadera es 0, la probabilidad de que el mecanismo devuelva 1 es:\n",
        "\n",
        "$$\n",
        "Pr[y = 1 \\mid x = 0] = (1 - p) \\cdot \\frac{1}{2} = \\frac{1 - p}{2}\n",
        "$$\n",
        "\n",
        "Entonces, usando la definición de privacidad diferencial:\n",
        "\n",
        "$$\n",
        "\\frac{Pr[y = 1 \\mid x = 1]}{Pr[y = 1 \\mid x = 0]} = \\frac{(1 + p)/2}{(1 - p)/2} = \\frac{1 + p}{1 - p}\n",
        "$$\n",
        "\n",
        "Por lo tanto, el nivel de privacidad $\\varepsilon$ está dado por:\n",
        "\n",
        "$$\n",
        "\\boxed{\\varepsilon = \\ln \\left( \\frac{1 + p}{1 - p} \\right)}\n",
        "$$\n"
      ]
    },
    {
      "cell_type": "markdown",
      "metadata": {
        "id": "8hJNEWI6yn53"
      },
      "source": [
        "First, provide an intuition for the following questions:\n",
        "\n",
        "- What do you think the value of `epsilon` should be if `p` is 0?\n",
        "- What do you think the value of `epsilon` should be if `p` is 1?"
      ]
    },
    {
      "cell_type": "markdown",
      "metadata": {
        "id": "e8lsVKfcy0Ap"
      },
      "source": [
        "- YOUR ANSWER HERE:  Si p es 0, entonces la $\\varepsilon$ tiende a 0, lo que quiere decir que hay máxima privacidad porque no se dice nunca la verdad y no hay utilidad.\n",
        "- YOUR ANSWER HERE: Por otro lado, si p es 1, entonces $\\varepsilon$ tiende a infinito y por ende la utilidad es máxima y la privacidad nula."
      ]
    },
    {
      "cell_type": "markdown",
      "metadata": {
        "id": "-7_6II68y8z0"
      },
      "source": [
        "Second, explain your reasoning and complete the definition of `rr_epsilon`:"
      ]
    },
    {
      "cell_type": "markdown",
      "metadata": {
        "id": "o0DIbLim5MFT"
      },
      "source": [
        "YOUR ANSWER HERE"
      ]
    },
    {
      "cell_type": "code",
      "execution_count": 20,
      "metadata": {
        "id": "04G_9rxL5NkE"
      },
      "outputs": [],
      "source": [
        "def rr_epsilon(p):\n",
        "    #el razonamiento proviene de la demostración que realicé en la seccion anterior\n",
        "    return np.log((1 + p) / (1 - p))"
      ]
    },
    {
      "cell_type": "code",
      "execution_count": 8,
      "metadata": {
        "id": "dXDLuYn65Xi0"
      },
      "outputs": [],
      "source": [
        "# TESTS\n",
        "assert np.isclose(rr_epsilon(0.3), 0.619039)\n",
        "assert np.isclose(rr_epsilon(0.5), 1.098612)\n",
        "assert np.isclose(rr_epsilon(0.8), 2.197224)"
      ]
    },
    {
      "cell_type": "markdown",
      "metadata": {
        "id": "AVIsegWAyLaz"
      },
      "source": [
        "\n",
        "## Question 3 (6 points)\n",
        "\n",
        "Write the code to plot the level of privacy for 1000 samples of probabilities between 0 and 1."
      ]
    },
    {
      "cell_type": "code",
      "execution_count": 13,
      "metadata": {
        "id": "UeNg5owLzIe6"
      },
      "outputs": [
        {
          "data": {
            "image/png": "[encoded data removed]",
            "text/plain": [
              "<Figure size 500x300 with 1 Axes>"
            ]
          },
          "metadata": {},
          "output_type": "display_data"
        }
      ],
      "source": [
        "# YOUR CODE HERE\n",
        "\n",
        "p_vals = np.linspace(0.001, 0.999, 1000)\n",
        "\n",
        "epsilons = rr_epsilon(p_vals)\n",
        "\n",
        "plt.figure(figsize=(5, 3))\n",
        "plt.plot(p_vals, epsilons, label=r'$\\varepsilon = \\ln\\left(\\frac{1 + p}{1 - p}\\right)$', color='blue')\n",
        "plt.xlabel('Probabilidad de decir la verdad (p)',fontsize=15)\n",
        "plt.ylabel('Nivel de privacidad ($\\epsilon$)',fontsize=15)\n",
        "plt.title('Privacidad diferencial en Randomized Response')\n",
        "plt.grid(True)\n",
        "plt.legend()\n",
        "plt.tight_layout()\n",
        "plt.show()"
      ]
    },
    {
      "cell_type": "markdown",
      "metadata": {
        "id": "JQy-mUWh1Wb1"
      },
      "source": [
        "\n",
        "\n",
        "- Describe the obtained plot in a few sentences. Does the plot coincides with your intuitions given in the previous question? How does increasing the probability $p$ affects the privacy level of the algorithm?"
      ]
    },
    {
      "cell_type": "markdown",
      "metadata": {
        "id": "XHhEqXqJ5oyI"
      },
      "source": [
        "- YOUR ANSWER HERE\n",
        "\n",
        "En efecto, a medida que crece la probabilidad de decir la verdad de la respuesta, el nivel de privacidad $\\varepsilon$ tiende a infinito, lo que quiere decir que la privacidad no existe, y viceversa, si la probabilidad de decir la verdad tiende a cero, entonces la privacidad es perfecta en 0. Por lo que este gráfico coincide con nuestra intuición de la parte anterior."
      ]
    },
    {
      "cell_type": "markdown",
      "metadata": {
        "id": "dwvjAHIxiwwo"
      },
      "source": [
        "## Question 4 (15 points)\n",
        "\n",
        "Implement `decode_rand_resp_yes_no` that computes the unbiased estimator of `encode_rand_resp_yes_no`. Notice that this function is also parametrized by `p`, so the result seen in class 11 must be generalized from 0.5 to p.\n",
        "\n",
        "_HINT_: (class 12, slide 15) -> What are the new values of `P[resp SI | ventas]` and `P[resp SI | no-ventas]`?"
      ]
    },
    {
      "cell_type": "markdown",
      "metadata": {},
      "source": [
        "La fórmula que utilicé fue (utilizando p en vez de 0,5 para las probabilidades en el árbol de probabilidades):\n",
        "$$\\text{Pr}[\\text{resp SI}| \\text{ventas}]\\cdot \\text{Pr}[\\text{ventas}]+ \\text{Pr}[\\text{resp SI}| \\text{ no-ventas}]\\cdot \\text{Pr}[\\text{no-ventas}] = \\text{Pr}[\\text{resp SI}]$$\n",
        "$$\\text{Pr}[\\text{resp SI}| \\text{ventas}]\\cdot \\text{Pr}[\\text{ventas}]+ \\text{Pr}[\\text{resp SI}| \\text{ no-ventas}]\\cdot (1-\\text{Pr}[\\text{ventas}]) = \\text{Pr}[\\text{resp SI}]$$\n",
        "$$\\frac{N_{\\text{actual SI}}}{N_{\\text{total}}} \\frac{1+p}{2} + \\frac{(1-p)}{2}\\cdot(1 - \\frac{N_{\\text{actual SI}}}{N_{\\text{total}}})= \\frac{N_{\\text{reported SI}}}{N_{\\text{total}}}$$\n",
        "$$N_{\\text{actual SI}} \\frac{1+p}{2} + \\frac{(1-p)}{2}\\cdot( N_{\\text{total}} - N_{\\text{actual SI}})= N_{\\text{reported SI}}$$\n",
        "$$N_{\\text{actual SI}} (\\frac{1+p}{2}-\\frac{1-p}{2}) + \\frac{(1-p)}{2}\\cdot N_{\\text{total}} = N_{\\text{reported SI}} $$\n",
        "$$N_{\\text{actual SI}} (\\frac{2p}{2}) = N_{\\text{reported SI}} - \\frac{(1-p)}{2}\\cdot N_{\\text{total}}$$\n",
        "$$N_{\\text{actual SI}} = \\frac{N_{\\text{reported SI}} - \\frac{(1-p)}{2}\\cdot N_{\\text{total}}}{p}$$"
      ]
    },
    {
      "cell_type": "code",
      "execution_count": null,
      "metadata": {
        "id": "HwAZkgPAix5l"
      },
      "outputs": [
        {
          "name": "stdout",
          "output_type": "stream",
          "text": [
            "Number of \"True\" yesses: 1000\n",
            "Decoded randomized response yesses: 1006.25\n"
          ]
        }
      ],
      "source": [
        "def decode_rand_resp_yes_no(p, responses):\n",
        "    \"\"\"Esta función lo que hace es darnos el conteo \n",
        "    como un estimador insesgado de la cantidad de respuestas \n",
        "    positivas actuales\n",
        "\n",
        "    Args:\n",
        "        p: probabilidad de dar la respuesta correcta\n",
        "        responses: respuestas correctas\n",
        "\n",
        "    Returns:\n",
        "        n_actual / p : estimador insesgado del conteo\n",
        "    \"\"\"\n",
        "    n_total = len(responses) \n",
        "    n_reported = np.sum(responses)\n",
        "    n_actual = n_reported - ((1-p)/2)*n_total\n",
        "    return n_actual / p\n",
        "\n",
        "# Example: 1000 \"yesses\" and 500 \"nos\"\n",
        "true_responses = [True for _ in range(1000)] + [False for _ in range(500)]\n",
        "print('Number of \"True\" yesses:', np.sum(true_responses))\n",
        "\n",
        "# Randomized responses\n",
        "# Each response satisfies 1.09-differential privacy\n",
        "rand_responses = [encode_rand_resp_yes_no(0.8, r) for r in true_responses]\n",
        "\n",
        "# Decode the responses by subtracting \"fake\" yesses\n",
        "print('Decoded randomized response yesses:', decode_rand_resp_yes_no(0.8, rand_responses))"
      ]
    },
    {
      "cell_type": "code",
      "execution_count": 19,
      "metadata": {
        "id": "3UvAGCFllPK8"
      },
      "outputs": [],
      "source": [
        "BASIC_P = 0.5\n",
        "\n",
        "# TEST CASE\n",
        "true_responses = [True for _ in range(1000)] + [False for _ in range(500)]\n",
        "\n",
        "# Randomized responses\n",
        "# Each response satisfies 1.09-differential privacy, QUE DE HECHO ES EL LOGARITMO NATURAL DE 3! como se dijo en clases\n",
        "rand_responses = [encode_rand_resp_yes_no(BASIC_P, r) for r in true_responses]\n",
        "\n",
        "# Decode the responses by subtracting \"fake\" yesses\n",
        "assert decode_rand_resp_yes_no(BASIC_P, rand_responses) < 1100\n",
        "assert decode_rand_resp_yes_no(BASIC_P, rand_responses) > 900"
      ]
    },
    {
      "cell_type": "markdown",
      "metadata": {
        "id": "9Ns1xC40vwBx"
      },
      "source": [
        "## Question 5 (5 points)\n",
        "\n",
        "Implement the function `calc_rand_responses` that computes the unbiased estimator of the randomized response algorithm over a list of truthful responses. Additionally, implement `generate_rr_errors` that produces a list of length `n`, of percentual errors of RR."
      ]
    },
    {
      "cell_type": "code",
      "execution_count": 24,
      "metadata": {
        "id": "LR3S98P78xU7"
      },
      "outputs": [],
      "source": [
        "def calc_rand_responses(p, true_responses):\n",
        "    \"\"\"Para cada respuesta en true_responses, se calcula la respuesta codificada\n",
        "    y luego se calcula la suma de todas ellas, y el estimador insesgado, devolviendo\n",
        "    un vector o lista de respuestas\n",
        "    Input: \n",
        "        p: probabilidad de dar la respuesta correcta\n",
        "        true_responses: respuestas correctas\n",
        "    Output:\n",
        "        n_actual_estimated: estimador estimado insesgado o unbiased\"\"\"\n",
        "    n_total = len(true_responses)\n",
        "    rand_responses = [encode_rand_resp_yes_no(p, r) for r in true_responses]\n",
        "    n_reported_yes = np.sum(rand_responses)\n",
        "    \n",
        "    n_actual_estimated = (n_reported_yes - ((1 - p) / 2) * n_total) / p\n",
        "    return n_actual_estimated\n",
        "\n",
        "def generate_rr_errors(n, p, true_responses):\n",
        "    \"\"\"Esta función devuelve una lista con los errores porcentuales de \n",
        "    la cantidad de respuestas SÍ que la funcion calc_rand_responses da con\n",
        "    respecto a las verdaderas respuestas.\n",
        "    Input:\n",
        "        n: cantidad de respuestas\n",
        "        p: probabilidad de dar la verdadera respuesta\n",
        "        true_responses: respuestas correctas\n",
        "    Output: \n",
        "        errors: errores porcentuales de la cantidad total de sí's\"\"\"\n",
        "    true_yes = np.sum(true_responses)\n",
        "    errors = []\n",
        "\n",
        "    for _ in range(n):\n",
        "        estimated_yes = calc_rand_responses(p, true_responses)\n",
        "        error_percent = abs(estimated_yes - true_yes) / true_yes * 100\n",
        "        errors.append(error_percent)\n",
        "\n",
        "    return errors"
      ]
    },
    {
      "cell_type": "markdown",
      "metadata": {
        "id": "FIT2nksx84hY"
      },
      "source": [
        "## Question 6 (4 points)\n",
        "\n",
        "Observe the following plot:\n"
      ]
    },
    {
      "cell_type": "code",
      "execution_count": 22,
      "metadata": {
        "id": "VeM8CxY5vvVz"
      },
      "outputs": [
        {
          "name": "stdout",
          "output_type": "stream",
          "text": [
            "Average error for p=0.25: 6.087999999999999\n",
            "Average error for p=0.5: 2.747\n",
            "Average error for p=0.75: 1.3003333333333333\n"
          ]
        },
        {
          "data": {
            "text/plain": [
              "<matplotlib.legend.Legend at 0x303929f40>"
            ]
          },
          "execution_count": 22,
          "metadata": {},
          "output_type": "execute_result"
        },
        {
          "data": {
            "image/png": "[encoded data removed]",
            "text/plain": [
              "<Figure size 640x480 with 1 Axes>"
            ]
          },
          "metadata": {},
          "output_type": "display_data"
        }
      ],
      "source": [
        "probabilities = [0.25, 0.5, 0.75]\n",
        "\n",
        "bins = 20\n",
        "\n",
        "for p in probabilities:\n",
        "    errors = generate_rr_errors(400, p, true_responses)\n",
        "\n",
        "    print(\"Average error for p=\" + str(p) + \":\", np.mean(errors))\n",
        "\n",
        "    _, binsp, _ = plt.hist(errors, bins=bins, label='p=' + str(p) + '; eps=' + str(rr_epsilon(p))[0:5], alpha=0.8)\n",
        "\n",
        "    bins = binsp\n",
        "\n",
        "plt.legend()"
      ]
    },
    {
      "cell_type": "markdown",
      "metadata": {
        "id": "ZrIYvrIN2kyB"
      },
      "source": [
        "\n",
        "\n",
        "- Describe the plot in a few sentences\n",
        "- What properties of the randomized response algorithm can you observe?"
      ]
    },
    {
      "cell_type": "markdown",
      "metadata": {
        "id": "H3Ky5lGJ24o0"
      },
      "source": [
        "- YOUR ANSWER HERE: Podemos ver del gráfico que, el $\\varepsilon$ aumenta cuando aumenta la probabilidad aumenta, y también el error promedio disminuye cuando aumenta la probabilidad de dar la respuesta correcta. Es decir, cuando aumenta la probabilidad hay más casos en los que se obtienen valores o respuestas con errores menores al 5%, pero para una probabilidad de 75% (bastante alto!). \n",
        "- YOUR ANSWER HERE: La propiedad que podemos ver es el trade-off entre privacidad y utilidad: a medida que aumenta p aumenta también $\\varepsilon$ (disminuye la privacidad). También, la propiedad que podemos ver es la de la distribución o dispersión de los errores: a mayor precisión en la respuesta (osea p más alta) tenemos menos privacidad y menor dispersión de errores (errores más bajos), pero cuando hay menos precisión en la respuesta (osea p más bajo) tenemos más privacidad y mayor dispersión de errores, osea, errores más grandes. "
      ]
    },
    {
      "cell_type": "markdown",
      "metadata": {
        "id": "QgPp0SfX2Sf6"
      },
      "source": [
        "## Unary enconding\n",
        "\n",
        "These are the definitions provided in class:"
      ]
    },
    {
      "cell_type": "code",
      "execution_count": 25,
      "metadata": {
        "id": "fO31xUiX2SN9"
      },
      "outputs": [],
      "source": [
        "domain = adult['Occupation'].dropna().unique()\n",
        "\n",
        "p, q = .75, .25\n",
        "\n",
        "def encode(response):\n",
        "    return [1 if d == response else 0 for d in domain]\n",
        "\n",
        "def perturb(p, q, encoded_response):\n",
        "    return [perturb_bit(p, q, b) for b in encoded_response]\n",
        "\n",
        "def perturb_bit(p, q, bit):\n",
        "    sample = np.random.random()\n",
        "    if bit == 1:\n",
        "        if sample <= p:\n",
        "            return 1\n",
        "        else:\n",
        "            return 0\n",
        "    elif bit == 0:\n",
        "        if sample <= q:\n",
        "            return 1\n",
        "        else:\n",
        "            return 0\n",
        "\n",
        "def aggregate(p, q, responses):\n",
        "    sums = np.sum(responses, axis=0)\n",
        "    n = len(responses)\n",
        "\n",
        "    return [(v - n*q) / (p-q) for v in sums]\n",
        "\n",
        "def unary_epsilon(p, q):\n",
        "    return np.log((p*(1-q)) / ((1-p)*q))"
      ]
    },
    {
      "cell_type": "markdown",
      "metadata": {
        "id": "Ktq8Y1VjEvvH"
      },
      "source": [
        "## Question 7 (5 points)\n",
        "\n",
        "Complete the definition of `unary_sales_count`, that returns a private answer to how many people work in 'Sales', using the unary encoding algorithm."
      ]
    },
    {
      "cell_type": "code",
      "execution_count": 72,
      "metadata": {
        "id": "DBnm_6xA7xYK"
      },
      "outputs": [
        {
          "data": {
            "text/plain": [
              "3673.0"
            ]
          },
          "execution_count": 72,
          "metadata": {},
          "output_type": "execute_result"
        }
      ],
      "source": [
        "def unary_sales_count(p, q):\n",
        "    \"\"\"Esta función me da el estimador insesgado de la cantidad de personas\n",
        "    que trabajan en ventas, usando el algoritmo Unary Coding. Recordar: \n",
        "    Este algoritmo es epsilon-Local Diferencialmente Privado\n",
        "    Input:\n",
        "        p: probabilidad de decir las personas que trabajan en ventas.\n",
        "        q: probabilidad de no decir las personas que trabajan en ventas.\n",
        "    Output: \n",
        "        conteo_privado: cantidad de personas que trabajan en ventas\"\"\"\n",
        "    #En esta función primero filtramos las respuestas verdaderas para \"Sales\"\n",
        "    verdaderas_respuestas = adult['Occupation'].dropna()\n",
        "    #A continuación los pasos de la función o algoritmo:\n",
        "    #Paso 1: Codificamos cada respuesta en vector unario, es decir, con 1's y 0's,\n",
        "    #con la función encode\n",
        "    respuestas_codificadas = [encode(r) for r in verdaderas_respuestas]\n",
        "    \n",
        "    #Paso 2: Perturbamos cada vector codificado con la función perturb\n",
        "    respuestas_perturbadas = [perturb(p, q, er) for er in respuestas_codificadas]\n",
        "    \n",
        "    #Paso 3: Agregamos(deshacer el ruido) para obtener estimación privada de conteo,\n",
        "    #con la función aggregate\n",
        "    conteos_agregados = aggregate(p, q, respuestas_perturbadas)\n",
        "    \n",
        "    indice_de_venta = np.where(domain == 'Sales')[0][0]\n",
        "    conteo_privado = conteos_agregados[indice_de_venta]\n",
        "\n",
        "    return conteo_privado\n",
        "unary_sales_count(p, q)#probamos para ver si funciona bien"
      ]
    },
    {
      "cell_type": "markdown",
      "metadata": {
        "id": "5Lm48vNVFwGy"
      },
      "source": [
        "## Question 8 (6 points)\n",
        "\n",
        "Write a script that plots the relative errors for 50 iterations of the laplace mechanism and the unary mechanism. Additionally, print the average error for both mechanisms.\n",
        "\n",
        "_HINT_: Use `plt.subplot` to make 2 plots side-by-side."
      ]
    },
    {
      "cell_type": "code",
      "execution_count": 69,
      "metadata": {
        "id": "AcPPHhAwFd4I"
      },
      "outputs": [
        {
          "name": "stdout",
          "output_type": "stream",
          "text": [
            "3650\n"
          ]
        }
      ],
      "source": [
        "errores_Laplace = []\n",
        "errores_Unary_Coding = []\n",
        "\n",
        "sensitivity = 1#la sensibilidad es 1 porque es un conteo.\n",
        "epsilon = unary_epsilon(p,q)#usamos el mismo epsilon para ser justos.\n",
        "\n",
        "Ocupaciones = adult['Occupation'].dropna()\n",
        "verdadera_respuesta = np.sum(Ocupaciones == 'Sales')\n",
        "print(verdadera_respuesta)\n",
        "\n",
        "for i in range(50):\n",
        "    resultado_Laplace = laplace_mech(verdadera_respuesta, sensitivity, epsilon)\n",
        "    resultado_Unary_Coding = unary_sales_count(p, q)\n",
        "    \n",
        "    errores_Laplace.append(100 * abs(resultado_Laplace - verdadera_respuesta) / verdadera_respuesta)\n",
        "    errores_Unary_Coding.append(100 * abs(resultado_Unary_Coding - verdadera_respuesta) / verdadera_respuesta)\n"
      ]
    },
    {
      "cell_type": "code",
      "execution_count": 73,
      "metadata": {},
      "outputs": [
        {
          "data": {
            "image/png": "[encoded data removed]",
            "text/plain": [
              "<Figure size 1400x600 with 2 Axes>"
            ]
          },
          "metadata": {},
          "output_type": "display_data"
        },
        {
          "name": "stdout",
          "output_type": "stream",
          "text": [
            "Error promedio Laplace: 0.01%\n",
            "Error promedio Unary Coding: 3.55%\n"
          ]
        }
      ],
      "source": [
        "#Hacemos boxplots para poder comparar la mediana (cuartil 2) con los máximos, mínimos y outliers.\n",
        "fig, axs = plt.subplots(1, 2, figsize=(14, 6))\n",
        "\n",
        "axs[0].boxplot(errores_Laplace, patch_artist=True)\n",
        "axs[0].set_title('Errores relativos Laplace (50 iteraciones)')\n",
        "axs[0].set_ylabel('Error relativo (%)')\n",
        "\n",
        "axs[1].boxplot(errores_Unary_Coding, patch_artist=True)\n",
        "axs[1].set_title('Errores relativos Unary Coding (50 iteraciones)')\n",
        "\n",
        "plt.tight_layout()\n",
        "plt.show()\n",
        "\n",
        "print(f\"Error promedio Laplace: {np.mean(errores_Laplace):.2f}%\")\n",
        "print(f\"Error promedio Unary Coding: {np.mean(errores_Unary_Coding):.2f}%\")"
      ]
    },
    {
      "cell_type": "markdown",
      "metadata": {
        "id": "Ltye2RVfGEoq"
      },
      "source": [
        "## Question 9 (4 points)\n",
        "\n",
        "Analyze the plot of the previous question:\n",
        "\n",
        "- How do the accuracies of both mechanisms compare?\n",
        "- Besides the difference of accuracy between the two mechanisms, what is the primary guarantee that unary encoding offers over the laplace mechanism?"
      ]
    },
    {
      "cell_type": "markdown",
      "metadata": {
        "id": "JeC6cHI6GITA"
      },
      "source": [
        "YOUR ANSWER HERE\n",
        "1) En general el mecanismo de Laplace es más preciso para el mismo epsilon, aunque el mecanismo de Unary Coding no usa el parámetro de sensibilidad. El primero tiene un error promedio de 0.01%, dos órdenes de magnitud más pequeño que el de Unary Coding (3.55%). Igualmente ambos son muy bajos (y por ende muy precisos). Como podemos ver, el mecanismo de Laplace presenta algunos outliers, mientras que el mecanismo Unary Coding, no. \n",
        "\n",
        "2) Lo que tiene de bueno Unary Coding es que está diseñado para operar bajo el modelo de privacidad diferencial local, donde cada usuario perturba su propio dato antes de enviarlo a un servidor o analista. Esto significa que no se requiere confiar en un servidor central para garantizar privacidad, a diferencia del mecanismo de Laplace, que típicamente se aplica en un entorno centralizado donde los datos se recogen primero y luego se agregan con ruido.\n",
        "\n",
        "Además es especialmente útil para datos categóricos con múltiples categorías (como ocupaciones, preferencias, etc.). Codifica cada categoría como un vector binario (one-hot) y perturba cada bit, permitiendo estimar distribuciones sobre categorías, mientras que Laplace se suele aplicar directamente a conteos numéricos.\n",
        "\n",
        "Al no compartir el dato real sino una versión aleatoriamente perturbada localmente, Unary Coding protege mejor la privacidad de cada usuario incluso si el servidor es malicioso o vulnerado (es decir, aún con el mismo presupuesto $\\varepsilon$ hay mayor privacidad).\n",
        "\n",
        "En sistemas con millones de usuarios, Unary Coding permite recopilar datos con privacidad local sin comprometer la escalabilidad o confianza en el servidor central. Por ende, si bien tenemos un poco menos de utilidad, no es mucho menos considerando que queremos mantener la privacidad, porque la privacidad es más necesaria. \n",
        " \n",
        "*** *Es decir, es mejor un poco más de privacidad que un poco más de utilidad.* ***"
      ]
    }
  ],
  "metadata": {
    "colab": {
      "provenance": []
    },
    "kernelspec": {
      "display_name": "Python 3",
      "language": "python",
      "name": "python3"
    },
    "language_info": {
      "codemirror_mode": {
        "name": "ipython",
        "version": 3
      },
      "file_extension": ".py",
      "mimetype": "text/x-python",
      "name": "python",
      "nbconvert_exporter": "python",
      "pygments_lexer": "ipython3",
      "version": "3.9.6"
    }
  },
  "nbformat": 4,
  "nbformat_minor": 0
}
