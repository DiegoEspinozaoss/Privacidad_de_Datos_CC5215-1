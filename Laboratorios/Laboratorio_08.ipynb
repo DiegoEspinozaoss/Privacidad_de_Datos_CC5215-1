{
  "cells": [
    {
      "cell_type": "markdown",
      "metadata": {
        "id": "7X7ZwNViRWmT"
      },
      "source": [
        "# CC5215: Privacidad de Datos\n",
        "\n",
        "## Laboratorio 8\n",
        "\n",
        "Integrantes:\n",
        "\n",
        "- Nombre"
      ]
    },
    {
      "cell_type": "code",
      "execution_count": null,
      "metadata": {
        "id": "9JmjcAJRRWmW"
      },
      "outputs": [],
      "source": [
        "# Load the data and libraries\n",
        "import pandas as pd\n",
        "import numpy as np\n",
        "import random\n",
        "from scipy import stats\n",
        "import matplotlib.pyplot as plt\n",
        "\n",
        "def laplace_mech(v, sensitivity, epsilon):\n",
        "    return v + np.random.laplace(loc=0, scale=sensitivity / epsilon)\n",
        "\n",
        "def pct_error(orig, priv):\n",
        "    return np.abs(orig - priv)/orig * 100.0\n",
        "\n",
        "adult = pd.read_csv('https://users.dcc.uchile.cl/~mtoro/cursos/cc5215/adult_with_pii.csv')"
      ]
    },
    {
      "cell_type": "markdown",
      "metadata": {
        "id": "2DN9AAekEaWR"
      },
      "source": [
        "## Randomized response"
      ]
    },
    {
      "cell_type": "markdown",
      "metadata": {
        "id": "9dsUkP_MiTr6"
      },
      "source": [
        "## Question 1 (5 points)\n",
        "\n",
        "Complete the definition of `encode_rand_resp_yes_no`. The true response should be returned with probability `p`, otherwise the result should be a coin flip."
      ]
    },
    {
      "cell_type": "code",
      "execution_count": null,
      "metadata": {
        "id": "juoQfxefiZ7n"
      },
      "outputs": [],
      "source": [
        "def encode_rand_resp_yes_no(p, true_response):\n",
        "    raise NotImplementedError()\n",
        "\n",
        "for _ in range(5):\n",
        "    print('Randomized response:', encode_rand_resp_yes_no(0.2, True))"
      ]
    },
    {
      "cell_type": "markdown",
      "metadata": {
        "id": "cs4T-con4vDk"
      },
      "source": [
        "## Question 2 (10 points)\n",
        "\n",
        "Find the equation to calculate the privacy level, $\\epsilon$, of the randomized response algorithm."
      ]
    },
    {
      "cell_type": "markdown",
      "metadata": {
        "id": "8hJNEWI6yn53"
      },
      "source": [
        "First, provide an intuition for the following questions:\n",
        "\n",
        "- What do you think the value of `epsilon` should be if `p` is 0?\n",
        "- What do you think the value of `epsilon` should be if `p` is 1?"
      ]
    },
    {
      "cell_type": "markdown",
      "metadata": {
        "id": "e8lsVKfcy0Ap"
      },
      "source": [
        "- YOUR ANSWER HERE\n",
        "- YOUR ANSWER HERE"
      ]
    },
    {
      "cell_type": "markdown",
      "metadata": {
        "id": "-7_6II68y8z0"
      },
      "source": [
        "Second, explain your reasoning and complete the definition of `rr_epsilon`:"
      ]
    },
    {
      "cell_type": "markdown",
      "metadata": {
        "id": "o0DIbLim5MFT"
      },
      "source": [
        "YOUR ANSWER HERE"
      ]
    },
    {
      "cell_type": "code",
      "execution_count": null,
      "metadata": {
        "id": "04G_9rxL5NkE"
      },
      "outputs": [],
      "source": [
        "def rr_epsilon(p):\n",
        "    raise NotImplementedError()"
      ]
    },
    {
      "cell_type": "code",
      "execution_count": null,
      "metadata": {
        "id": "dXDLuYn65Xi0"
      },
      "outputs": [],
      "source": [
        "# TESTS\n",
        "\n",
        "assert np.isclose(rr_epsilon(0.3), 0.619039)\n",
        "assert np.isclose(rr_epsilon(0.5), 1.098612)\n",
        "assert np.isclose(rr_epsilon(0.8), 2.197224)"
      ]
    },
    {
      "cell_type": "markdown",
      "metadata": {
        "id": "AVIsegWAyLaz"
      },
      "source": [
        "\n",
        "## Question 3 (6 points)\n",
        "\n",
        "Write the code to plot the level of privacy for 1000 samples of probabilities between 0 and 1."
      ]
    },
    {
      "cell_type": "code",
      "execution_count": null,
      "metadata": {
        "id": "UeNg5owLzIe6"
      },
      "outputs": [],
      "source": [
        "# YOUR CODE HERE"
      ]
    },
    {
      "cell_type": "markdown",
      "metadata": {
        "id": "JQy-mUWh1Wb1"
      },
      "source": [
        "\n",
        "\n",
        "- Describe the obtained plot in a few sentences. Does the plot coincides with your intuitions given in the previous question? How does increasing the probability $p$ affects the privacy level of the algorithm?"
      ]
    },
    {
      "cell_type": "markdown",
      "metadata": {
        "id": "XHhEqXqJ5oyI"
      },
      "source": [
        "- YOUR ANSWER HERE"
      ]
    },
    {
      "cell_type": "markdown",
      "metadata": {
        "id": "dwvjAHIxiwwo"
      },
      "source": [
        "## Question 4 (15 points)\n",
        "\n",
        "Implement `decode_rand_resp_yes_no` that computes the unbiased estimator of `encode_rand_resp_yes_no`. Notice that this function is also parametrized by `p`, so the result seen in class 11 must be generalized from 0.5 to p.\n",
        "\n",
        "_HINT_: (class 12, slide 15) -> What are the new values of `P[resp SI | ventas]` and `P[resp SI | no-ventas]`?"
      ]
    },
    {
      "cell_type": "code",
      "execution_count": null,
      "metadata": {
        "id": "HwAZkgPAix5l"
      },
      "outputs": [],
      "source": [
        "def decode_rand_resp_yes_no(p, responses):\n",
        "    raise NotImplementedError()\n",
        "\n",
        "# Example: 1000 \"yesses\" and 500 \"nos\"\n",
        "true_responses = [True for _ in range(1000)] + [False for _ in range(500)]\n",
        "print('Number of \"True\" yesses:', np.sum(true_responses))\n",
        "\n",
        "# Randomized responses\n",
        "# Each response satisfies 1.09-differential privacy\n",
        "rand_responses = [encode_rand_resp_yes_no(0.8, r) for r in true_responses]\n",
        "\n",
        "# Decode the responses by subtracting \"fake\" yesses\n",
        "print('Decoded randomized response yesses:', decode_rand_resp_yes_no(0.8, rand_responses))"
      ]
    },
    {
      "cell_type": "code",
      "execution_count": null,
      "metadata": {
        "id": "3UvAGCFllPK8"
      },
      "outputs": [],
      "source": [
        "BASIC_P = 0.5\n",
        "\n",
        "# TEST CASE\n",
        "true_responses = [True for _ in range(1000)] + [False for _ in range(500)]\n",
        "\n",
        "# Randomized responses\n",
        "# Each response satisfies 1.09-differential privacy\n",
        "rand_responses = [encode_rand_resp_yes_no(BASIC_P, r) for r in true_responses]\n",
        "\n",
        "# Decode the responses by subtracting \"fake\" yesses\n",
        "assert decode_rand_resp_yes_no(BASIC_P, rand_responses) < 1100\n",
        "assert decode_rand_resp_yes_no(BASIC_P, rand_responses) > 900"
      ]
    },
    {
      "cell_type": "markdown",
      "metadata": {
        "id": "9Ns1xC40vwBx"
      },
      "source": [
        "## Question 5 (5 points)\n",
        "\n",
        "Implement the function `calc_rand_responses` that computes the unbiased estimator of the randomized response algorithm over a list of truthful responses. Additionally, implement `generate_rr_errors` that produces a list of length `n`, of percentual errors of RR."
      ]
    },
    {
      "cell_type": "code",
      "execution_count": null,
      "metadata": {
        "id": "LR3S98P78xU7"
      },
      "outputs": [],
      "source": [
        "def calc_rand_responses(p, true_responses):\n",
        "    raise NotImplementedError()\n",
        "\n",
        "def generate_rr_errors(n, p, true_responses):\n",
        "    raise NotImplementedError()"
      ]
    },
    {
      "cell_type": "markdown",
      "metadata": {
        "id": "FIT2nksx84hY"
      },
      "source": [
        "## Question 6 (4 points)\n",
        "\n",
        "Observe the following plot:\n"
      ]
    },
    {
      "cell_type": "code",
      "execution_count": null,
      "metadata": {
        "id": "VeM8CxY5vvVz"
      },
      "outputs": [],
      "source": [
        "probabilities = [0.25, 0.5, 0.75]\n",
        "\n",
        "bins = 20\n",
        "\n",
        "for p in probabilities:\n",
        "    errors = generate_rr_errors(400, p, true_responses)\n",
        "\n",
        "    print(\"Average error for p=\" + str(p) + \":\", np.mean(errors))\n",
        "\n",
        "    _, binsp, _ = plt.hist(errors, bins=bins, label='p=' + str(p) + '; eps=' + str(rr_epsilon(p))[0:5], alpha=0.8)\n",
        "\n",
        "    bins = binsp\n",
        "\n",
        "plt.legend()"
      ]
    },
    {
      "cell_type": "markdown",
      "metadata": {
        "id": "ZrIYvrIN2kyB"
      },
      "source": [
        "\n",
        "\n",
        "- Describe the plot in a few sentences\n",
        "- What properties of the randomized response algorithm can you observe?"
      ]
    },
    {
      "cell_type": "markdown",
      "metadata": {
        "id": "H3Ky5lGJ24o0"
      },
      "source": [
        "- YOUR ANSWER HERE\n",
        "- YOUR ANSWER HERE"
      ]
    },
    {
      "cell_type": "markdown",
      "metadata": {
        "id": "QgPp0SfX2Sf6"
      },
      "source": [
        "## Unary enconding\n",
        "\n",
        "These are the definitions provided in class:"
      ]
    },
    {
      "cell_type": "code",
      "execution_count": null,
      "metadata": {
        "id": "fO31xUiX2SN9"
      },
      "outputs": [],
      "source": [
        "domain = adult['Occupation'].dropna().unique()\n",
        "\n",
        "p, q = .75, .25\n",
        "\n",
        "def encode(response):\n",
        "    return [1 if d == response else 0 for d in domain]\n",
        "\n",
        "def perturb(p, q, encoded_response):\n",
        "    return [perturb_bit(p, q, b) for b in encoded_response]\n",
        "\n",
        "def perturb_bit(p, q, bit):\n",
        "    sample = np.random.random()\n",
        "    if bit == 1:\n",
        "        if sample <= p:\n",
        "            return 1\n",
        "        else:\n",
        "            return 0\n",
        "    elif bit == 0:\n",
        "        if sample <= q:\n",
        "            return 1\n",
        "        else:\n",
        "            return 0\n",
        "\n",
        "def aggregate(p, q, responses):\n",
        "    sums = np.sum(responses, axis=0)\n",
        "    n = len(responses)\n",
        "\n",
        "    return [(v - n*q) / (p-q) for v in sums]\n",
        "\n",
        "def unary_epsilon(p, q):\n",
        "    return np.log((p*(1-q)) / ((1-p)*q))"
      ]
    },
    {
      "cell_type": "markdown",
      "metadata": {
        "id": "Ktq8Y1VjEvvH"
      },
      "source": [
        "## Question 7 (5 points)\n",
        "\n",
        "Complete the definition of `unary_sales_count`, that returns a private answer to how many people work in 'Sales', using the unary encoding algorithm."
      ]
    },
    {
      "cell_type": "code",
      "execution_count": null,
      "metadata": {
        "id": "DBnm_6xA7xYK"
      },
      "outputs": [],
      "source": [
        "def unary_sales_count(p, q):\n",
        "    raise NotImplementedError()"
      ]
    },
    {
      "cell_type": "markdown",
      "metadata": {
        "id": "5Lm48vNVFwGy"
      },
      "source": [
        "## Question 8 (6 points)\n",
        "\n",
        "Write a script that plots the relative errors for 50 iterations of the laplace mechanism and the unary mechanism. Additionally, print the average error for both mechanisms.\n",
        "\n",
        "_HINT_: Use `plt.subplot` to make 2 plots side-by-side."
      ]
    },
    {
      "cell_type": "code",
      "execution_count": null,
      "metadata": {
        "id": "AcPPHhAwFd4I"
      },
      "outputs": [],
      "source": [
        "# YOUR CODE HERE"
      ]
    },
    {
      "cell_type": "markdown",
      "metadata": {
        "id": "Ltye2RVfGEoq"
      },
      "source": [
        "## Question 9 (4 points)\n",
        "\n",
        "Analyze the plot of the previous question:\n",
        "\n",
        "- How do the accuracies of both mechanisms compare?\n",
        "- Besides the difference of accuracy between the two mechanisms, what is the primary guarantee that unary encoding offers over the laplace mechanism?"
      ]
    },
    {
      "cell_type": "markdown",
      "metadata": {
        "id": "JeC6cHI6GITA"
      },
      "source": [
        "YOUR ANSWER HERE"
      ]
    }
  ],
  "metadata": {
    "colab": {
      "provenance": []
    },
    "kernelspec": {
      "display_name": "Python 3 (ipykernel)",
      "language": "python",
      "name": "python3"
    },
    "language_info": {
      "codemirror_mode": {
        "name": "ipython",
        "version": 3
      },
      "file_extension": ".py",
      "mimetype": "text/x-python",
      "name": "python",
      "nbconvert_exporter": "python",
      "pygments_lexer": "ipython3",
      "version": "3.10.4"
    }
  },
  "nbformat": 4,
  "nbformat_minor": 0
}
