{
  "cells": [
    {
      "cell_type": "markdown",
      "metadata": {
        "id": "7X7ZwNViRWmT"
      },
      "source": [
        "# CC5215: Privacidad de Datos\n",
        "\n",
        "## Laboratorio 6\n",
        "\n",
        "Integrantes:\n",
        "\n",
        "- Diego Espinoza \n",
        "\n",
        "PD: (trabajé solo, porque debido a que trabajo fuera de la u, no pude ir a clases y ver a mi compañero de siempre, que por lo demás está haciendo su tesis y tampoco parece ser que ha ido a las ultimas clases)."
      ]
    },
    {
      "cell_type": "code",
      "execution_count": 1,
      "metadata": {
        "id": "9JmjcAJRRWmW"
      },
      "outputs": [],
      "source": [
        "# Load the data and libraries\n",
        "import pandas as pd\n",
        "import numpy as np\n",
        "import random\n",
        "from scipy import stats\n",
        "import matplotlib.pyplot as plt\n",
        "\n",
        "def laplace_mech(v, sensitivity, epsilon):\n",
        "    return v + np.random.laplace(loc=0, scale=sensitivity / epsilon)\n",
        "\n",
        "def pct_error(orig, priv):\n",
        "    return np.abs(orig - priv)/orig * 100.0\n",
        "\n",
        "adult = pd.read_csv('https://users.dcc.uchile.cl/~mtoro/cursos/cc5215/adult_with_pii.csv')"
      ]
    },
    {
      "cell_type": "markdown",
      "metadata": {
        "id": "hroFPGc1iYAv"
      },
      "source": [
        "## Question 1 (6 points)\n",
        "\n",
        "- Implement the Gaussian mechanism.\n",
        "- How do the Laplace and Gaussian mechanisms compare in terms of relative error on the query \"how many individuals are over 50 years old\" with $\\epsilon = 1$ and $\\delta = 10^{-5}$?"
      ]
    },
    {
      "cell_type": "code",
      "execution_count": 2,
      "metadata": {
        "id": "HldVUT89jgIg"
      },
      "outputs": [],
      "source": [
        "def gaussian_mech(v, sensitivity, epsilon, delta):\n",
        "    sigma = np.sqrt(2*np.log(1.25 / delta)) * 1 / epsilon\n",
        "    noisy_query = v + np.random.normal(loc=0, scale=sigma)\n",
        "    return noisy_query"
      ]
    },
    {
      "cell_type": "code",
      "execution_count": 3,
      "metadata": {
        "id": "rlLus-FhiLFv"
      },
      "outputs": [
        {
          "data": {
            "text/plain": [
              "<matplotlib.legend.Legend at 0x1351ef8c0>"
            ]
          },
          "execution_count": 3,
          "metadata": {},
          "output_type": "execute_result"
        },
        {
          "data": {
            "image/png": "[encoded data removed]",
            "text/plain": [
              "<Figure size 640x480 with 1 Axes>"
            ]
          },
          "metadata": {},
          "output_type": "display_data"
        }
      ],
      "source": [
        "true_answer = len(adult[adult['Age'] > 50])\n",
        "\n",
        "laplace_answers = [laplace_mech(true_answer, 1, 1) for _ in range(200)]\n",
        "gaussian_answers = [gaussian_mech(true_answer, 1, 1, 10e-5) for _ in range(200)]\n",
        "\n",
        "laplace_error = [pct_error(true_answer, a) for a in laplace_answers]\n",
        "gaussian_error = [pct_error(true_answer, a) for a in gaussian_answers]\n",
        "\n",
        "_, bins, _ = plt.hist(gaussian_error, bins=20, label='Gaussian')\n",
        "plt.hist(laplace_error, bins=bins, label='Laplace', alpha=0.5)\n",
        "plt.legend()"
      ]
    },
    {
      "cell_type": "markdown",
      "metadata": {
        "id": "pwtW31scitA8"
      },
      "source": [
        "YOUR ANSWER HERE\n",
        "Como podemos ver, para la consulta de saber cuántos adultos mayores a 50 con un presupuesto de privacidad $\\epsilon$ igual a 1 y un $\\delta$ de 0.00001, la dispersión de los errores del mecanismo Gaussiano es mayor que la dispersión de los errores del meceanismo de laplace (la desviación estándar). Además, podemos ver que la cantidad de datos en el caso del mecanismo de Laplace se acumulan en torno a cero, lo que quiere decir que tiene menor error (haciendo 200 consultas sobre la cantidad de personas mayores a 50 años) en promedio. "
      ]
    },
    {
      "cell_type": "markdown",
      "metadata": {
        "id": "3ySsgckoi-NE"
      },
      "source": [
        "## Question 2 (4 points)\n",
        "\n",
        "The function `age_cdf` calculates the cumulative distribution function (CDF) of the ages in the adult dataset, expressed as a vector of counts.\n",
        "\n",
        "What is the **L1 global sensitivity** of `age_cdf`? Justify your answer using the definition of the L1 norm, and the sensitivity of vectors."
      ]
    },
    {
      "cell_type": "code",
      "execution_count": null,
      "metadata": {
        "id": "yzrMdiL1i7uM"
      },
      "outputs": [],
      "source": [
        "def age_cdf():\n",
        "    a = adult['Age']\n",
        "    return [len(a[a < i]) for i in range(100)]\n",
        "\n",
        "plt.plot(age_cdf());\n",
        "print('Length of CDF vector:', len(age_cdf()))"
      ]
    },
    {
      "cell_type": "markdown",
      "metadata": {
        "id": "O3xqJxi4i_DQ"
      },
      "source": [
        "YOUR ANSWER HERE"
      ]
    },
    {
      "cell_type": "markdown",
      "metadata": {
        "id": "U42lvix6jwZi"
      },
      "source": [
        "## Question 3 (4 points)\n",
        "\n",
        "- What is the **L2 global sensitivity** of `age_cdf`? Justify your answer using the definition of the L2 norm, and the sensitivity of vectors.\n",
        "- How does the L2 global sensitivity compares to the L1 norm sensitivity of `age_cdf`?"
      ]
    },
    {
      "cell_type": "markdown",
      "metadata": {
        "id": "IprLMebLRWmY"
      },
      "source": [
        "## Range Queries\n",
        "\n",
        "A *range query* counts the number of rows in the dataset which have a value lying in a given range. For example, \"how many participants are between the ages of 21 and 33?\" is a range query. A *workload* of range queries is just a list of range queries. The code below generates 100 random range queries over ages in the adult dataset."
      ]
    },
    {
      "cell_type": "code",
      "execution_count": null,
      "metadata": {
        "id": "g5hEPsFGRWmY"
      },
      "outputs": [],
      "source": [
        "def range_query(df, col, a, b):\n",
        "    return len(df[(df[col] >= a) & (df[col] < b)])\n",
        "\n",
        "random_lower_bounds = [random.randint(1, 70) for _ in range(100)]\n",
        "random_workload = [(lb, random.randint(lb, 100)) for lb in random_lower_bounds]\n",
        "real_answers = [range_query(adult, 'Age', lb, ub) for (lb, ub) in random_workload]\n",
        "\n",
        "print('First 5 queries: ', random_workload[:5])"
      ]
    },
    {
      "cell_type": "markdown",
      "metadata": {
        "id": "asQrnmHjRWmZ"
      },
      "source": [
        "## Question 4 (4 points)\n",
        "\n",
        "Write code to answer a workload of range queries using `laplace_mech` and sequential composition. Your solution should have a **total privacy cost of epsilon**."
      ]
    },
    {
      "cell_type": "code",
      "execution_count": null,
      "metadata": {
        "deletable": false,
        "id": "OcLWuB1rRWmZ",
        "nbgrader": {
          "cell_type": "code",
          "checksum": "3344a9270e0563ce9739dd80ce9470b0",
          "grade": false,
          "grade_id": "cell-91ba0020d4ea347e",
          "locked": false,
          "schema_version": 3,
          "solution": true,
          "task": false
        }
      },
      "outputs": [],
      "source": [
        "def workload_laplace(workload, epsilon):\n",
        "    raise NotImplementedError()\n",
        "\n",
        "print('First 4 answers:', workload_laplace(random_workload, 1.0)[:4])"
      ]
    },
    {
      "cell_type": "code",
      "execution_count": null,
      "metadata": {
        "deletable": false,
        "editable": false,
        "id": "UQPMoe_BRWmZ",
        "nbgrader": {
          "cell_type": "code",
          "checksum": "b1e1dac532e728396cdc5206fe98fc96",
          "grade": true,
          "grade_id": "cell-3fdb7419fcfc0cea",
          "locked": true,
          "points": 10,
          "schema_version": 3,
          "solution": false,
          "task": false
        }
      },
      "outputs": [],
      "source": [
        "errors = [abs(r_a - l_a) for (r_a, l_a) in zip(real_answers, workload_laplace(random_workload, 1.0))]\n",
        "print('Average absolute error:', np.mean(errors))\n",
        "assert np.mean(errors) > 50\n",
        "assert np.mean(errors) < 200"
      ]
    },
    {
      "cell_type": "markdown",
      "metadata": {
        "id": "T6sL6ixZRWmZ"
      },
      "source": [
        "## Question 5 (8 points)\n",
        "\n",
        "Write code to answer a workload using `laplace_mech`. Your solution should *not* use sequential composition, and should have a total privacy cost of `epsilon`, justified by the vector-valued Laplace mechanism.\n",
        "\n",
        "*Hint*: remember to use L1 global sensitivity."
      ]
    },
    {
      "cell_type": "code",
      "execution_count": null,
      "metadata": {
        "deletable": false,
        "id": "Gd3T2OkSRWma",
        "nbgrader": {
          "cell_type": "code",
          "checksum": "f9cd70c7dfbdff699f0a6137e93d8cbf",
          "grade": false,
          "grade_id": "cell-e4e3cdb5562933b8",
          "locked": false,
          "schema_version": 3,
          "solution": true,
          "task": false
        }
      },
      "outputs": [],
      "source": [
        "def workload_laplace_vec(workload, epsilon):\n",
        "    raise NotImplementedError()\n",
        "\n",
        "print('First 4 answers:', workload_laplace_vec(random_workload, 1.0)[:4])"
      ]
    },
    {
      "cell_type": "code",
      "execution_count": null,
      "metadata": {
        "deletable": false,
        "editable": false,
        "id": "VI0vzEayRWma",
        "nbgrader": {
          "cell_type": "code",
          "checksum": "7a4865fc2f687dd41b814f4b19861429",
          "grade": true,
          "grade_id": "cell-68af547658adcdcd",
          "locked": true,
          "points": 10,
          "schema_version": 3,
          "solution": false,
          "task": false
        }
      },
      "outputs": [],
      "source": [
        "errors = [abs(r_a - l_a) for (r_a, l_a) in zip(real_answers, workload_laplace_vec(random_workload, 1.0))]\n",
        "print('Average absolute error:', np.mean(errors))\n",
        "assert np.mean(errors) > 50\n",
        "assert np.mean(errors) < 200"
      ]
    },
    {
      "cell_type": "markdown",
      "metadata": {
        "id": "I7zAT-rIRWma"
      },
      "source": [
        "## Question 6 (4 points)\n",
        "\n",
        "In 2-5 sentences, answer the following:\n",
        "- Did the two solutions differ in terms of their accuracy?\n",
        "- How do they differ in terms of their use of composition properties of differential privacy?"
      ]
    },
    {
      "cell_type": "markdown",
      "metadata": {
        "deletable": false,
        "id": "p7LKUNJfRWma",
        "nbgrader": {
          "cell_type": "markdown",
          "checksum": "8f6fa31ff93b1b2150a7e6005bbe69dc",
          "grade": true,
          "grade_id": "cell-0da21812c3f96147",
          "locked": false,
          "points": 10,
          "schema_version": 3,
          "solution": true,
          "task": false
        }
      },
      "source": [
        "YOUR ANSWER HERE"
      ]
    },
    {
      "cell_type": "markdown",
      "metadata": {
        "id": "JttGsUvbRWma"
      },
      "source": [
        "## Question 7 (8 points)\n",
        "\n",
        "Write code to answer a workload using `gaussian_mech_vec` - the version of the Gaussian mechanism for vector-valued queries. Your solution should not use sequential composition, should satisfy $(\\epsilon, \\delta)$-differential privacy, and should have a total privacy cost of (`epsilon`, `delta`).\n",
        "\n",
        "*Hint*: remember to use L2 sensitivity."
      ]
    },
    {
      "cell_type": "code",
      "execution_count": null,
      "metadata": {
        "deletable": false,
        "id": "sGIflcjJRWmb",
        "nbgrader": {
          "cell_type": "code",
          "checksum": "7266a83328b9ae66be525ace3bf8b0f9",
          "grade": false,
          "grade_id": "cell-217b044c0cd1697e",
          "locked": false,
          "schema_version": 3,
          "solution": true,
          "task": false
        }
      },
      "outputs": [],
      "source": [
        "def workload_gaussian_vec(workload, epsilon, delta):\n",
        "    raise NotImplementedError()\n",
        "\n",
        "print('First 4 answers:', workload_gaussian_vec(random_workload, 1.0, 1e-5)[:4])"
      ]
    },
    {
      "cell_type": "code",
      "execution_count": null,
      "metadata": {
        "deletable": false,
        "editable": false,
        "id": "50rf-BhDRWmb",
        "nbgrader": {
          "cell_type": "code",
          "checksum": "5ab7b2afd61878be18570dbc4862c17e",
          "grade": true,
          "grade_id": "cell-7c4c4d2ed403ea72",
          "locked": true,
          "points": 10,
          "schema_version": 3,
          "solution": false,
          "task": false
        }
      },
      "outputs": [],
      "source": [
        "errors = [abs(r_a - l_a) for (r_a, l_a) in zip(real_answers, workload_gaussian_vec(random_workload, 1.0, 1e-5))]\n",
        "print('Average absolute error:', np.mean(errors))\n",
        "assert np.mean(errors) > 10\n",
        "assert np.mean(errors) < 100"
      ]
    },
    {
      "cell_type": "markdown",
      "metadata": {
        "id": "bMVJbhwkRWmb"
      },
      "source": [
        "## Question 8 (6 points)\n",
        "\n",
        "In 2-5 sentences, answer the following:\n",
        "- Of your solutions in questions (4,5,7), which ones rely on *sequential composition*?\n",
        "- Which solution offers the best accuracy?\n",
        "- Why does this particular solution yield the best accuracy?"
      ]
    },
    {
      "cell_type": "markdown",
      "metadata": {
        "deletable": false,
        "id": "z1LVleZgRWmb",
        "nbgrader": {
          "cell_type": "markdown",
          "checksum": "a1558eeb9acc82746ab9a8e1cdb0a48c",
          "grade": true,
          "grade_id": "cell-d505748348979709",
          "locked": false,
          "points": 10,
          "schema_version": 3,
          "solution": true,
          "task": false
        }
      },
      "source": [
        "YOUR ANSWER HERE"
      ]
    },
    {
      "cell_type": "markdown",
      "metadata": {
        "id": "n2vuj32GDQ1v"
      },
      "source": [
        "## Question 9 (10 points)\n",
        "\n",
        "Use advanced composition to achieve $(1, 10^{-5})$-DP using the laplace mechanism. Write code to calculate the $\\epsilon_i$ for each iteration. Then, complete the function `workload_advcom_laplace` that receives the `epsilon_i` **for each iteration** (not the total epsilon).\n",
        "\n",
        "_Hint_: You will have to calculate the $\\epsilon_i$ for each iteration using the advanced composition theorem fixing $\\delta' = 10^{-5}$ and $\\epsilon' = 1$."
      ]
    },
    {
      "cell_type": "code",
      "execution_count": null,
      "metadata": {
        "id": "FtUVmYA55NBV"
      },
      "outputs": [],
      "source": [
        "# COMPLETE\n",
        "delta_p = None\n",
        "epsilon_p = None\n",
        "k = None\n",
        "\n",
        "epsilon_i = None\n",
        "\n",
        "print('epsilon for each iteration:', epsilon_i)"
      ]
    },
    {
      "cell_type": "code",
      "execution_count": null,
      "metadata": {
        "id": "T5AtK5N_9So-"
      },
      "outputs": [],
      "source": [
        "def workload_advcomp_laplace(workload, epsilon_i):\n",
        "    raise NotImplementedError()\n",
        "\n",
        "advcomp_answers = workload_advcomp_laplace(random_workload, epsilon_i)\n",
        "print('First 4 answers:', advcomp_answers[:4])"
      ]
    },
    {
      "cell_type": "code",
      "execution_count": null,
      "metadata": {
        "id": "ccUQS8ox96yx"
      },
      "outputs": [],
      "source": [
        "errors = [abs(r_a - l_a) for (r_a, l_a) in zip(real_answers, advcomp_answers)]\n",
        "print('Average absolute error:', np.mean(errors))\n",
        "assert np.mean(errors) > 50\n",
        "assert np.mean(errors) < 200"
      ]
    },
    {
      "cell_type": "markdown",
      "metadata": {
        "id": "fsZkdNlUEpu9"
      },
      "source": [
        "## Question 10 (6 points)\n",
        "\n",
        "In 2-5 sentences, answer the following:\n",
        "- How does this solution compare to the result of question 4? Explain in terms of the used epsilons and the concepts seen in class.\n",
        "- With $\\delta'$ fixed in $10^{-5}$, what property of the workload (seen in class) favors the more accurate solution?\n",
        "- What could we expect if the workload had 50 queries?"
      ]
    },
    {
      "cell_type": "markdown",
      "metadata": {
        "id": "1_XurVKkFXQB"
      },
      "source": [
        "YOUR ANSWER HERE"
      ]
    }
  ],
  "metadata": {
    "colab": {
      "provenance": []
    },
    "kernelspec": {
      "display_name": "Python 3",
      "language": "python",
      "name": "python3"
    },
    "language_info": {
      "codemirror_mode": {
        "name": "ipython",
        "version": 3
      },
      "file_extension": ".py",
      "mimetype": "text/x-python",
      "name": "python",
      "nbconvert_exporter": "python",
      "pygments_lexer": "ipython3",
      "version": "3.13.3"
    }
  },
  "nbformat": 4,
  "nbformat_minor": 0
}
