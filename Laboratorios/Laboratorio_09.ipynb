{
  "cells": [
    {
      "cell_type": "markdown",
      "metadata": {
        "id": "7X7ZwNViRWmT"
      },
      "source": [
        "# CC5215: Privacidad de Datos\n",
        "\n",
        "## Laboratorio 9\n",
        "\n",
        "Integrantes: (trabajé solo porque no pude conseguir compañero para el trabajo)\n",
        "\n",
        "- Nombre: Diego Espinoza"
      ]
    },
    {
      "cell_type": "markdown",
      "metadata": {
        "id": "N6T28hTUTzJC"
      },
      "source": [
        "## Preamble\n",
        "\n",
        "In this lab, we are going to implement the MWEM algorithm seen in class. Furthermore, we will incrementally build the necessary pieces of the algorithm in order to re-use the same logic for a private and a non-private version."
      ]
    },
    {
      "cell_type": "code",
      "execution_count": 1,
      "metadata": {
        "id": "9JmjcAJRRWmW"
      },
      "outputs": [],
      "source": [
        "# Load the data and libraries\n",
        "import pandas as pd\n",
        "import numpy as np\n",
        "import random\n",
        "from scipy import stats\n",
        "import matplotlib.pyplot as plt\n",
        "\n",
        "def laplace_mech(v, sensitivity, epsilon):\n",
        "    return v + np.random.laplace(loc=0, scale=sensitivity / epsilon)\n",
        "\n",
        "def pct_error(orig, priv):\n",
        "    return np.abs(orig - priv)/orig * 100.0\n",
        "\n",
        "adult = pd.read_csv('https://users.dcc.uchile.cl/~mtoro/cursos/cc5215/adult_with_pii.csv')"
      ]
    },
    {
      "cell_type": "markdown",
      "metadata": {
        "id": "VMuWjsaGQIwM"
      },
      "source": [
        "## Question 1 (5 points)\n",
        "\n",
        "The following code block shows the contingency table for the colums \"Age\" and \"Occupation\" in the dataset `adult`."
      ]
    },
    {
      "cell_type": "code",
      "execution_count": 2,
      "metadata": {
        "id": "eaeGFNUH9KYf"
      },
      "outputs": [
        {
          "data": {
            "text/html": [
              "<div>\n",
              "<style scoped>\n",
              "    .dataframe tbody tr th:only-of-type {\n",
              "        vertical-align: middle;\n",
              "    }\n",
              "\n",
              "    .dataframe tbody tr th {\n",
              "        vertical-align: top;\n",
              "    }\n",
              "\n",
              "    .dataframe thead th {\n",
              "        text-align: right;\n",
              "    }\n",
              "</style>\n",
              "<table border=\"1\" class=\"dataframe\">\n",
              "  <thead>\n",
              "    <tr style=\"text-align: right;\">\n",
              "      <th></th>\n",
              "      <th>col_0</th>\n",
              "      <th>Norm_count</th>\n",
              "    </tr>\n",
              "    <tr>\n",
              "      <th>Age</th>\n",
              "      <th>Occupation</th>\n",
              "      <th></th>\n",
              "    </tr>\n",
              "  </thead>\n",
              "  <tbody>\n",
              "    <tr>\n",
              "      <th rowspan=\"5\" valign=\"top\">17</th>\n",
              "      <th>Adm-clerical</th>\n",
              "      <td>0.000749</td>\n",
              "    </tr>\n",
              "    <tr>\n",
              "      <th>Craft-repair</th>\n",
              "      <td>0.000456</td>\n",
              "    </tr>\n",
              "    <tr>\n",
              "      <th>Exec-managerial</th>\n",
              "      <td>0.000033</td>\n",
              "    </tr>\n",
              "    <tr>\n",
              "      <th>Farming-fishing</th>\n",
              "      <td>0.000293</td>\n",
              "    </tr>\n",
              "    <tr>\n",
              "      <th>Handlers-cleaners</th>\n",
              "      <td>0.001302</td>\n",
              "    </tr>\n",
              "    <tr>\n",
              "      <th>...</th>\n",
              "      <th>...</th>\n",
              "      <td>...</td>\n",
              "    </tr>\n",
              "    <tr>\n",
              "      <th rowspan=\"5\" valign=\"top\">90</th>\n",
              "      <th>Other-service</th>\n",
              "      <td>0.000195</td>\n",
              "    </tr>\n",
              "    <tr>\n",
              "      <th>Prof-specialty</th>\n",
              "      <td>0.000163</td>\n",
              "    </tr>\n",
              "    <tr>\n",
              "      <th>Protective-serv</th>\n",
              "      <td>0.000033</td>\n",
              "    </tr>\n",
              "    <tr>\n",
              "      <th>Sales</th>\n",
              "      <td>0.000098</td>\n",
              "    </tr>\n",
              "    <tr>\n",
              "      <th>Transport-moving</th>\n",
              "      <td>0.000033</td>\n",
              "    </tr>\n",
              "  </tbody>\n",
              "</table>\n",
              "<p>843 rows × 1 columns</p>\n",
              "</div>"
            ],
            "text/plain": [
              "col_0                  Norm_count\n",
              "Age Occupation                   \n",
              "17  Adm-clerical         0.000749\n",
              "    Craft-repair         0.000456\n",
              "    Exec-managerial      0.000033\n",
              "    Farming-fishing      0.000293\n",
              "    Handlers-cleaners    0.001302\n",
              "...                           ...\n",
              "90  Other-service        0.000195\n",
              "    Prof-specialty       0.000163\n",
              "    Protective-serv      0.000033\n",
              "    Sales                0.000098\n",
              "    Transport-moving     0.000033\n",
              "\n",
              "[843 rows x 1 columns]"
            ]
          },
          "execution_count": 2,
          "metadata": {},
          "output_type": "execute_result"
        }
      ],
      "source": [
        "D = pd.crosstab(\n",
        "    [adult['Age'], adult['Occupation']],\n",
        "    np.ones(adult.shape[0]),\n",
        "    normalize=True).rename(columns={1.0: \"Norm_count\"})\n",
        "\n",
        "D"
      ]
    },
    {
      "cell_type": "markdown",
      "metadata": {
        "id": "FJR_f-HGFXtn"
      },
      "source": [
        "\n",
        "Implement the `generate_n_qweights` function that creates a list of size `n` of binary weights (values being either 0 or 1) for a dataframe `D`:\n",
        "\n",
        "_Hints_: Use the function `np.random.choice` to create a matrix with the dimentsions of `D` and use it to create a pd.Dataframe. Also, the properties `.shape`, `.index`, `.columns` of Dataframe may be useful."
      ]
    },
    {
      "cell_type": "code",
      "execution_count": 6,
      "metadata": {
        "id": "MpAZ7bEXSF65"
      },
      "outputs": [
        {
          "data": {
            "text/html": [
              "<div>\n",
              "<style scoped>\n",
              "    .dataframe tbody tr th:only-of-type {\n",
              "        vertical-align: middle;\n",
              "    }\n",
              "\n",
              "    .dataframe tbody tr th {\n",
              "        vertical-align: top;\n",
              "    }\n",
              "\n",
              "    .dataframe thead th {\n",
              "        text-align: right;\n",
              "    }\n",
              "</style>\n",
              "<table border=\"1\" class=\"dataframe\">\n",
              "  <thead>\n",
              "    <tr style=\"text-align: right;\">\n",
              "      <th></th>\n",
              "      <th>col_0</th>\n",
              "      <th>Norm_count</th>\n",
              "    </tr>\n",
              "    <tr>\n",
              "      <th>Age</th>\n",
              "      <th>Occupation</th>\n",
              "      <th></th>\n",
              "    </tr>\n",
              "  </thead>\n",
              "  <tbody>\n",
              "    <tr>\n",
              "      <th rowspan=\"5\" valign=\"top\">17</th>\n",
              "      <th>Adm-clerical</th>\n",
              "      <td>0</td>\n",
              "    </tr>\n",
              "    <tr>\n",
              "      <th>Craft-repair</th>\n",
              "      <td>0</td>\n",
              "    </tr>\n",
              "    <tr>\n",
              "      <th>Exec-managerial</th>\n",
              "      <td>0</td>\n",
              "    </tr>\n",
              "    <tr>\n",
              "      <th>Farming-fishing</th>\n",
              "      <td>0</td>\n",
              "    </tr>\n",
              "    <tr>\n",
              "      <th>Handlers-cleaners</th>\n",
              "      <td>0</td>\n",
              "    </tr>\n",
              "    <tr>\n",
              "      <th>...</th>\n",
              "      <th>...</th>\n",
              "      <td>...</td>\n",
              "    </tr>\n",
              "    <tr>\n",
              "      <th rowspan=\"5\" valign=\"top\">90</th>\n",
              "      <th>Other-service</th>\n",
              "      <td>0</td>\n",
              "    </tr>\n",
              "    <tr>\n",
              "      <th>Prof-specialty</th>\n",
              "      <td>0</td>\n",
              "    </tr>\n",
              "    <tr>\n",
              "      <th>Protective-serv</th>\n",
              "      <td>0</td>\n",
              "    </tr>\n",
              "    <tr>\n",
              "      <th>Sales</th>\n",
              "      <td>0</td>\n",
              "    </tr>\n",
              "    <tr>\n",
              "      <th>Transport-moving</th>\n",
              "      <td>0</td>\n",
              "    </tr>\n",
              "  </tbody>\n",
              "</table>\n",
              "<p>843 rows × 1 columns</p>\n",
              "</div>"
            ],
            "text/plain": [
              "col_0                  Norm_count\n",
              "Age Occupation                   \n",
              "17  Adm-clerical                0\n",
              "    Craft-repair                0\n",
              "    Exec-managerial             0\n",
              "    Farming-fishing             0\n",
              "    Handlers-cleaners           0\n",
              "...                           ...\n",
              "90  Other-service               0\n",
              "    Prof-specialty              0\n",
              "    Protective-serv             0\n",
              "    Sales                       0\n",
              "    Transport-moving            0\n",
              "\n",
              "[843 rows x 1 columns]"
            ]
          },
          "execution_count": 6,
          "metadata": {},
          "output_type": "execute_result"
        }
      ],
      "source": [
        "def generate_n_qweights(D, n):\n",
        "    \"\"\"\n",
        "    Generate a list of n dataframes, of the same structure as D, where each dataframe cell is either 0 or 1.\n",
        "\n",
        "    Parameters:\n",
        "        D (pd.Dataframe): The data for which the weight vectors will be generated\n",
        "        n (int): The number of vectors to generate\n",
        "\n",
        "    Returns:\n",
        "        list(pd.Dataframe): A list of dataframes with the same shape of D, where each value is either 0 or 1\n",
        "\n",
        "    Example:\n",
        "        D = pd.Dataframe([0.1, 0.5, 0.4])\n",
        "        qs = generate_n_qweights(D, 10)\n",
        "        print(qs[0]) # Output: Dataframe([1, 0, 1])\n",
        "    \"\"\"\n",
        "    #Recordemos que queremos tener una función que cree una \n",
        "    #cantidad de n dataframes diferentes con el mismo tamaño\n",
        "    #que el dataframe original, pero con 1's y 0's en cada\n",
        "    #una de las celdas de ellos. \n",
        "    qweights = []\n",
        "    for _ in range(n):\n",
        "        #ahora usamos el hint que nos dieron en el enunciado\n",
        "        q = np.random.choice([0,1], size=D.shape)\n",
        "        #ahora convertimos a dataframe\n",
        "        q_df = pd.DataFrame(q, \n",
        "                            index=D.index,\n",
        "                            columns=D.columns)\n",
        "        #por último usamos append porque qweights es una \n",
        "        #lista de python.\n",
        "        qweights.append(q_df)\n",
        "    \n",
        "    return qweights\n",
        "    \n",
        "qs = generate_n_qweights(D, 40)\n",
        "\n",
        "qs[0]"
      ]
    },
    {
      "cell_type": "code",
      "execution_count": 7,
      "metadata": {
        "id": "EvJzY1IDTiZb"
      },
      "outputs": [],
      "source": [
        "# TESTS\n",
        "\n",
        "q_test = generate_n_qweights(D, 1)[0]\n",
        "\n",
        "# This tests should NEVER fail\n",
        "assert len(q_test) == len(D)\n",
        "assert all([abs(w) <= 1 for w in q_test.values.flatten()])"
      ]
    },
    {
      "cell_type": "markdown",
      "metadata": {
        "id": "vOByn13lXsqp"
      },
      "source": [
        "## Question 2 (5 points)\n",
        "\n",
        "From a `q` matrix, we can create a query `Q` that receives a dataframe `D` and calculates the weighted sum of `D` and `q`. Implement `generate_query_from_qweigth` that receives a `q` matrix and returns a tuple containing the same `q` and a function `Q`."
      ]
    },
    {
      "cell_type": "code",
      "execution_count": 30,
      "metadata": {
        "id": "aOJc3Lm0SqiJ"
      },
      "outputs": [
        {
          "name": "stdout",
          "output_type": "stream",
          "text": [
            "Query: <function generate_query_from_qweigth.<locals>.Q at 0x16d9be8b0>\n",
            "==================================================\n",
            "Query data:\n"
          ]
        },
        {
          "data": {
            "text/html": [
              "<div>\n",
              "<style scoped>\n",
              "    .dataframe tbody tr th:only-of-type {\n",
              "        vertical-align: middle;\n",
              "    }\n",
              "\n",
              "    .dataframe tbody tr th {\n",
              "        vertical-align: top;\n",
              "    }\n",
              "\n",
              "    .dataframe thead th {\n",
              "        text-align: right;\n",
              "    }\n",
              "</style>\n",
              "<table border=\"1\" class=\"dataframe\">\n",
              "  <thead>\n",
              "    <tr style=\"text-align: right;\">\n",
              "      <th></th>\n",
              "      <th>col_0</th>\n",
              "      <th>Norm_count</th>\n",
              "    </tr>\n",
              "    <tr>\n",
              "      <th>Age</th>\n",
              "      <th>Occupation</th>\n",
              "      <th></th>\n",
              "    </tr>\n",
              "  </thead>\n",
              "  <tbody>\n",
              "    <tr>\n",
              "      <th rowspan=\"5\" valign=\"top\">17</th>\n",
              "      <th>Adm-clerical</th>\n",
              "      <td>0</td>\n",
              "    </tr>\n",
              "    <tr>\n",
              "      <th>Craft-repair</th>\n",
              "      <td>0</td>\n",
              "    </tr>\n",
              "    <tr>\n",
              "      <th>Exec-managerial</th>\n",
              "      <td>0</td>\n",
              "    </tr>\n",
              "    <tr>\n",
              "      <th>Farming-fishing</th>\n",
              "      <td>0</td>\n",
              "    </tr>\n",
              "    <tr>\n",
              "      <th>Handlers-cleaners</th>\n",
              "      <td>0</td>\n",
              "    </tr>\n",
              "    <tr>\n",
              "      <th>...</th>\n",
              "      <th>...</th>\n",
              "      <td>...</td>\n",
              "    </tr>\n",
              "    <tr>\n",
              "      <th rowspan=\"5\" valign=\"top\">90</th>\n",
              "      <th>Other-service</th>\n",
              "      <td>0</td>\n",
              "    </tr>\n",
              "    <tr>\n",
              "      <th>Prof-specialty</th>\n",
              "      <td>0</td>\n",
              "    </tr>\n",
              "    <tr>\n",
              "      <th>Protective-serv</th>\n",
              "      <td>0</td>\n",
              "    </tr>\n",
              "    <tr>\n",
              "      <th>Sales</th>\n",
              "      <td>0</td>\n",
              "    </tr>\n",
              "    <tr>\n",
              "      <th>Transport-moving</th>\n",
              "      <td>0</td>\n",
              "    </tr>\n",
              "  </tbody>\n",
              "</table>\n",
              "<p>843 rows × 1 columns</p>\n",
              "</div>"
            ],
            "text/plain": [
              "col_0                  Norm_count\n",
              "Age Occupation                   \n",
              "17  Adm-clerical                0\n",
              "    Craft-repair                0\n",
              "    Exec-managerial             0\n",
              "    Farming-fishing             0\n",
              "    Handlers-cleaners           0\n",
              "...                           ...\n",
              "90  Other-service               0\n",
              "    Prof-specialty              0\n",
              "    Protective-serv             0\n",
              "    Sales                       0\n",
              "    Transport-moving            0\n",
              "\n",
              "[843 rows x 1 columns]"
            ]
          },
          "execution_count": 30,
          "metadata": {},
          "output_type": "execute_result"
        }
      ],
      "source": [
        "def generate_query_from_qweigth(q):\n",
        "    \"\"\"\n",
        "    Generate a query function from a given query weight.\n",
        "\n",
        "    Parameters:\n",
        "        q (pd.Dataframe): The query weight vector.\n",
        "\n",
        "    Returns:\n",
        "        tuple: A tuple containing the query weight vector and the query function.\n",
        "    \"\"\"\n",
        "    #calculamos Q como la suma ponderada de D y Q.\n",
        "    def Q(D):\n",
        "        return (q * D).to_numpy().sum()\n",
        "    #devolvemos la tupla que contiene el vector q y Q\n",
        "    return (q, Q)\n",
        "\n",
        "Qs = [generate_query_from_qweigth(q) for q in qs]\n",
        "\n",
        "print(\"Query:\", Qs[0][1])\n",
        "print(\"=\" * 50)\n",
        "print(\"Query data:\")\n",
        "Qs[0][0]"
      ]
    },
    {
      "cell_type": "markdown",
      "metadata": {
        "id": "_K52BaBDXzUq"
      },
      "source": [
        "## Question 3 (2 points)\n",
        "\n",
        "For starting writing the MWEM implementation, the first step is to generate a first guess. Implement `gen_first_guess` that creates a dataframe similar to its argument `D`, but where each cell simply contains $\\frac{1}{n}$, where $n$ is the size (number of cells) of `D`."
      ]
    },
    {
      "cell_type": "code",
      "execution_count": 31,
      "metadata": {
        "id": "A0_bDn-vU-dj"
      },
      "outputs": [],
      "source": [
        "def gen_first_guess(D):\n",
        "    #primero obtenemos el numero de celdas, que es la\n",
        "    #multiplicación de filas por columnas de la matriz D \n",
        "    #que es la original\n",
        "    n = D.size\n",
        "    #ahora calculamos el valor con el que rellenaremos\n",
        "    #cada una de las celdas.\n",
        "    valor_homogeneo = 1.0 / n\n",
        "    #por último creamos una matriz que contiene dichos\n",
        "    #valores y la dejamos en formato dataframe de pandas\n",
        "    q = np.full(D.shape, valor_homogeneo)\n",
        "    q_df = pd.DataFrame(q, \n",
        "                        index=D.index,\n",
        "                        columns=D.columns)\n",
        "    return q_df\n",
        "    "
      ]
    },
    {
      "cell_type": "code",
      "execution_count": 32,
      "metadata": {
        "id": "efMo9NmuX4Dg"
      },
      "outputs": [
        {
          "data": {
            "text/html": [
              "<div>\n",
              "<style scoped>\n",
              "    .dataframe tbody tr th:only-of-type {\n",
              "        vertical-align: middle;\n",
              "    }\n",
              "\n",
              "    .dataframe tbody tr th {\n",
              "        vertical-align: top;\n",
              "    }\n",
              "\n",
              "    .dataframe thead th {\n",
              "        text-align: right;\n",
              "    }\n",
              "</style>\n",
              "<table border=\"1\" class=\"dataframe\">\n",
              "  <thead>\n",
              "    <tr style=\"text-align: right;\">\n",
              "      <th></th>\n",
              "      <th>col_0</th>\n",
              "      <th>Norm_count</th>\n",
              "    </tr>\n",
              "    <tr>\n",
              "      <th>Age</th>\n",
              "      <th>Occupation</th>\n",
              "      <th></th>\n",
              "    </tr>\n",
              "  </thead>\n",
              "  <tbody>\n",
              "    <tr>\n",
              "      <th rowspan=\"5\" valign=\"top\">17</th>\n",
              "      <th>Adm-clerical</th>\n",
              "      <td>0.001186</td>\n",
              "    </tr>\n",
              "    <tr>\n",
              "      <th>Craft-repair</th>\n",
              "      <td>0.001186</td>\n",
              "    </tr>\n",
              "    <tr>\n",
              "      <th>Exec-managerial</th>\n",
              "      <td>0.001186</td>\n",
              "    </tr>\n",
              "    <tr>\n",
              "      <th>Farming-fishing</th>\n",
              "      <td>0.001186</td>\n",
              "    </tr>\n",
              "    <tr>\n",
              "      <th>Handlers-cleaners</th>\n",
              "      <td>0.001186</td>\n",
              "    </tr>\n",
              "    <tr>\n",
              "      <th>...</th>\n",
              "      <th>...</th>\n",
              "      <td>...</td>\n",
              "    </tr>\n",
              "    <tr>\n",
              "      <th rowspan=\"5\" valign=\"top\">90</th>\n",
              "      <th>Other-service</th>\n",
              "      <td>0.001186</td>\n",
              "    </tr>\n",
              "    <tr>\n",
              "      <th>Prof-specialty</th>\n",
              "      <td>0.001186</td>\n",
              "    </tr>\n",
              "    <tr>\n",
              "      <th>Protective-serv</th>\n",
              "      <td>0.001186</td>\n",
              "    </tr>\n",
              "    <tr>\n",
              "      <th>Sales</th>\n",
              "      <td>0.001186</td>\n",
              "    </tr>\n",
              "    <tr>\n",
              "      <th>Transport-moving</th>\n",
              "      <td>0.001186</td>\n",
              "    </tr>\n",
              "  </tbody>\n",
              "</table>\n",
              "<p>843 rows × 1 columns</p>\n",
              "</div>"
            ],
            "text/plain": [
              "col_0                  Norm_count\n",
              "Age Occupation                   \n",
              "17  Adm-clerical         0.001186\n",
              "    Craft-repair         0.001186\n",
              "    Exec-managerial      0.001186\n",
              "    Farming-fishing      0.001186\n",
              "    Handlers-cleaners    0.001186\n",
              "...                           ...\n",
              "90  Other-service        0.001186\n",
              "    Prof-specialty       0.001186\n",
              "    Protective-serv      0.001186\n",
              "    Sales                0.001186\n",
              "    Transport-moving     0.001186\n",
              "\n",
              "[843 rows x 1 columns]"
            ]
          },
          "execution_count": 32,
          "metadata": {},
          "output_type": "execute_result"
        }
      ],
      "source": [
        "# TESTS\n",
        "\n",
        "D0_test = gen_first_guess(D)\n",
        "\n",
        "assert D0_test.shape == D.shape\n",
        "assert np.isclose(D0_test.values.sum(), 1.0)\n",
        "\n",
        "D0_test"
      ]
    },
    {
      "cell_type": "markdown",
      "metadata": {
        "id": "g3Yibck4YNhX"
      },
      "source": [
        "## Question 4 (6 points)\n",
        "\n",
        "Our implementation of MWEM is going to be parametrized by the way we calculate the argmax error query, and the way we calculate the erorr/correction. Implement `get_i_max_nonDP`, that returns the index of the query that maximizes the error between `D` and `D_prev`. Additionally, implement `calc_correction_nonDP` that returns the `error` variable seen in class."
      ]
    },
    {
      "cell_type": "code",
      "execution_count": 33,
      "metadata": {
        "id": "uKkLACJSU1aq"
      },
      "outputs": [],
      "source": [
        "def get_i_max_nonDP(D, D_prev, queries):\n",
        "    \"\"\"\n",
        "    Determine the index of the maximum query based on the absolute difference of query results.\n",
        "\n",
        "    Parameters:\n",
        "        D (pandas.DataFrame): The input data.\n",
        "        D_prev (pandas.DataFrame): The previous distribution.\n",
        "        queries (list(tuple)): List of pairs (a dataframe and a function) representing each query\n",
        "\n",
        "    Returns:\n",
        "        int: The index of the maximum query.\n",
        "    \"\"\"\n",
        "    errors = []\n",
        "    for i, (q_matrix, Q) in enumerate(queries):\n",
        "        Q_D = Q(D)\n",
        "        Q_D_prev = Q(D_prev)\n",
        "        error = abs(Q_D - Q_D_prev)\n",
        "        errors.append(error)\n",
        "    i_max = np.argmax(errors)\n",
        "    return i_max\n",
        "\n",
        "def calc_correction_nonDP(Q, D, D_prev):\n",
        "    \"\"\"\n",
        "    Calculate the correction factor for a query without using differential privacy.\n",
        "\n",
        "    Parameters:\n",
        "        Q (function): The query function.\n",
        "        D (pandas.DataFrame): The input data.\n",
        "        D_prev (pandas.DataFrame): The previous distribution.\n",
        "\n",
        "    Returns:\n",
        "        float: The correction (or error) factor for the query.\n",
        "    \"\"\"\n",
        "    real = Q(D)\n",
        "    estimated = Q(D_prev)\n",
        "    return real - estimated"
      ]
    },
    {
      "cell_type": "code",
      "execution_count": 35,
      "metadata": {
        "id": "FGlhEW5XU_iw"
      },
      "outputs": [],
      "source": [
        "# TESTS\n",
        "\n",
        "D_prev_test = gen_first_guess(D)\n",
        "\n",
        "assert get_i_max_nonDP(D, D_prev_test, Qs) < len(Qs)\n",
        "assert abs(calc_correction_nonDP(Qs[0][1], D, D_prev_test)) < 1"
      ]
    },
    {
      "cell_type": "markdown",
      "metadata": {
        "id": "R8XPY2a_YSva"
      },
      "source": [
        "## Question 5 (14 points)\n",
        "\n",
        "We finally have all the parts necessary to build the MWEM algorithm. Implement MWEM as seen in class, with one subtlety: besides `D`, `queries` and `iterations`, the function must receive two functions that calculate the argmax error and the correction, respectively.\n",
        "\n",
        "_Hint:_ As we are working with arithmetic over numbers between 0 and 1, it is probable that you may encounter floating approximation errors. It is recommended that you normalize the datasets you generate in each iteration to make sure that the elements sum up to exactly 1."
      ]
    },
    {
      "cell_type": "code",
      "execution_count": 67,
      "metadata": {
        "id": "qkjAa_mOW64-"
      },
      "outputs": [],
      "source": [
        "def MWEM_base(D, queries, iterations, get_i_max, calc_correction):\n",
        "    \"\"\"\n",
        "    Perform the Multiplicative Weights Exponential Mechanism (MWEM) algorithm.\n",
        "\n",
        "    Parameters:\n",
        "        D (pandas.DataFrame): The input data.\n",
        "        queries (list): List of queries to be performed\n",
        "                        in each iteration.\n",
        "                        Each query is a tuple containing its \n",
        "                        query data (dataframe, i.e. `q`s) \n",
        "                        and the query function (i.e. `Q`s).\n",
        "        iterations (int): Number of iterations to perform.\n",
        "        get_i_max (function): Function to determine the \n",
        "                              index of the maximum query.\n",
        "            Signature: get_i_max(D, D_prev, queries) -> int\n",
        "        calc_correction (function): Function to calculate the correction factor for a query.\n",
        "            Signature: calc_correction(Query_max, D, D_prev) -> float\n",
        "\n",
        "    Returns:\n",
        "        pandas.DataFrame: The final result after performing the MWEM iterations.\n",
        "    \"\"\"\n",
        "    #generamos primero que todo una primera suposición o distribución\n",
        "    #uniforme sobre U\n",
        "    D_i = gen_first_guess(D)\n",
        "    #para cada una de las iteraciones\n",
        "    for _ in range(iterations):\n",
        "        #buscamos el índice de la query con mayor error \n",
        "        #usando la función get_i_max \n",
        "        i_max = get_i_max(D, D_i, queries)\n",
        "        #obtenemos las queries\n",
        "        q, Q = queries[i_max]\n",
        "        \n",
        "        #ahora calculamos la corrección, es decir, \n",
        "        #el error inducido por la consulta anterior\n",
        "        error = calc_correction(Q, D, D_i)\n",
        "        \n",
        "        #por último, actualizo el dato sintético\n",
        "        # (Multiplicative Weights)\n",
        "        updated = D_i * np.exp(q * error/2)\n",
        "        \n",
        "        #normalizamos el nuevo dato sintético\n",
        "        D_i = updated / (updated.values.sum())\n",
        "        \n",
        "    return D_i"
      ]
    },
    {
      "cell_type": "markdown",
      "metadata": {
        "id": "me1_AZqjTyk4"
      },
      "source": [
        "We can now instantiate `MWEM_base` in the definition of `MWEM_nonDP` using the previously defined functions:"
      ]
    },
    {
      "cell_type": "code",
      "execution_count": 68,
      "metadata": {
        "id": "1LpMpksrW9rj"
      },
      "outputs": [
        {
          "data": {
            "text/html": [
              "<div>\n",
              "<style scoped>\n",
              "    .dataframe tbody tr th:only-of-type {\n",
              "        vertical-align: middle;\n",
              "    }\n",
              "\n",
              "    .dataframe tbody tr th {\n",
              "        vertical-align: top;\n",
              "    }\n",
              "\n",
              "    .dataframe thead th {\n",
              "        text-align: right;\n",
              "    }\n",
              "</style>\n",
              "<table border=\"1\" class=\"dataframe\">\n",
              "  <thead>\n",
              "    <tr style=\"text-align: right;\">\n",
              "      <th></th>\n",
              "      <th>col_0</th>\n",
              "      <th>Norm_count</th>\n",
              "    </tr>\n",
              "    <tr>\n",
              "      <th>Age</th>\n",
              "      <th>Occupation</th>\n",
              "      <th></th>\n",
              "    </tr>\n",
              "  </thead>\n",
              "  <tbody>\n",
              "    <tr>\n",
              "      <th rowspan=\"5\" valign=\"top\">17</th>\n",
              "      <th>Adm-clerical</th>\n",
              "      <td>0.001192</td>\n",
              "    </tr>\n",
              "    <tr>\n",
              "      <th>Craft-repair</th>\n",
              "      <td>0.001281</td>\n",
              "    </tr>\n",
              "    <tr>\n",
              "      <th>Exec-managerial</th>\n",
              "      <td>0.001156</td>\n",
              "    </tr>\n",
              "    <tr>\n",
              "      <th>Farming-fishing</th>\n",
              "      <td>0.001036</td>\n",
              "    </tr>\n",
              "    <tr>\n",
              "      <th>Handlers-cleaners</th>\n",
              "      <td>0.001222</td>\n",
              "    </tr>\n",
              "    <tr>\n",
              "      <th>...</th>\n",
              "      <th>...</th>\n",
              "      <td>...</td>\n",
              "    </tr>\n",
              "    <tr>\n",
              "      <th rowspan=\"5\" valign=\"top\">90</th>\n",
              "      <th>Other-service</th>\n",
              "      <td>0.001145</td>\n",
              "    </tr>\n",
              "    <tr>\n",
              "      <th>Prof-specialty</th>\n",
              "      <td>0.001193</td>\n",
              "    </tr>\n",
              "    <tr>\n",
              "      <th>Protective-serv</th>\n",
              "      <td>0.001282</td>\n",
              "    </tr>\n",
              "    <tr>\n",
              "      <th>Sales</th>\n",
              "      <td>0.001148</td>\n",
              "    </tr>\n",
              "    <tr>\n",
              "      <th>Transport-moving</th>\n",
              "      <td>0.001105</td>\n",
              "    </tr>\n",
              "  </tbody>\n",
              "</table>\n",
              "<p>843 rows × 1 columns</p>\n",
              "</div>"
            ],
            "text/plain": [
              "col_0                  Norm_count\n",
              "Age Occupation                   \n",
              "17  Adm-clerical         0.001192\n",
              "    Craft-repair         0.001281\n",
              "    Exec-managerial      0.001156\n",
              "    Farming-fishing      0.001036\n",
              "    Handlers-cleaners    0.001222\n",
              "...                           ...\n",
              "90  Other-service        0.001145\n",
              "    Prof-specialty       0.001193\n",
              "    Protective-serv      0.001282\n",
              "    Sales                0.001148\n",
              "    Transport-moving     0.001105\n",
              "\n",
              "[843 rows x 1 columns]"
            ]
          },
          "execution_count": 68,
          "metadata": {},
          "output_type": "execute_result"
        }
      ],
      "source": [
        "def MWEM_nonDP(D, queries, iterations):\n",
        "    return MWEM_base(D, queries, iterations, get_i_max_nonDP, calc_correction_nonDP)\n",
        "\n",
        "MWEM_result = MWEM_nonDP(D, Qs, 20)\n",
        "\n",
        "MWEM_result"
      ]
    },
    {
      "cell_type": "code",
      "execution_count": 69,
      "metadata": {
        "id": "PMhui5WSZHra"
      },
      "outputs": [],
      "source": [
        "# TEST\n",
        "\n",
        "assert MWEM_result.shape == D.shape\n",
        "assert np.isclose(MWEM_result.values.sum(), 1.0)"
      ]
    },
    {
      "cell_type": "markdown",
      "metadata": {
        "id": "TO4bHvHVZRzj"
      },
      "source": [
        "## Question 6 (8 points)\n",
        "\n",
        "The following code-block shows the implementation of the exponential mechanism. Use `exponential` and `laplace_mech` to implement `get_i_max_DP` and `calc_correction_DP`, the differentially-private counterparts of the functions implemented in Question 4. Since these functions must receive the sensitivity and the epsilon and return the expected function by `MWEM_base`, e.g. `get_i_max_DP` is a function that takes `sensitivity` and `epsilon` and returns a new function that receives `D`, `D_prev` and `queries`."
      ]
    },
    {
      "cell_type": "code",
      "execution_count": 70,
      "metadata": {
        "id": "gmSiG6rZaUyM"
      },
      "outputs": [],
      "source": [
        "def exponential(x, R, u, sensitivity, epsilon):\n",
        "    # Calculate the score for each element of R\n",
        "    scores = [u(x, r) for r in R]\n",
        "\n",
        "    # Calculate the probability for each element, based on its score\n",
        "    factors = [epsilon * score / (2 * sensitivity) for score in scores]\n",
        "    probabilities = [np.exp(factor) for factor in factors]\n",
        "\n",
        "    # Normalize the probabilties so they sum up to 1\n",
        "    p_sum = sum(probabilities)\n",
        "    probabilities = [float(p_i) / p_sum for p_i in probabilities]\n",
        "\n",
        "    # Choose an element from R based on the probabilities\n",
        "    return np.random.choice(R, 1, p=probabilities)[0]"
      ]
    },
    {
      "cell_type": "code",
      "execution_count": 71,
      "metadata": {
        "id": "9fAgDj1pXKmk"
      },
      "outputs": [],
      "source": [
        "def get_i_max_DP(sensitivity, epsilon):\n",
        "    \"\"\"Esta función devuelve otra función\n",
        "\n",
        "    Input:\n",
        "        sensitivity (float): sensibilidad de las consultas\n",
        "        epsilon (float): bucket de privacidad\n",
        "        \n",
        "    Output: \n",
        "        inner: función que toma los datos reales D, \n",
        "        el dataset estimado D_prev y las consultas \"queries\"\n",
        "        Usa el mecanismo exponencial definido antes para\n",
        "        elegir el índice de la consulta que tiene el \n",
        "        mayor error (entre Q(D) y Q(D_prev)) pero de forma\n",
        "        diferencialmente privada (DP).\n",
        "    \"\"\"\n",
        "    def inner(D, D_prev, queries):\n",
        "\n",
        "        def u(x, i):\n",
        "            \"\"\"ahora definimos la función de utilidad necesaria\n",
        "            para el mecanismo exponencial\n",
        "\n",
        "            Args:\n",
        "                x: es una tupla que contiene (D, D_prev)\n",
        "                   que se pasan como input común.\n",
        "                i: es un índice de consulta \n",
        "\n",
        "            Returns:\n",
        "                Q es la consult: \n",
        "            \"\"\"\n",
        "            D, D_prev = x\n",
        "            #definimos Q como la consulta número i\n",
        "            Q = queries[i][1]\n",
        "            #ahora la resta o diferencia de los valores verdaderos\n",
        "            #y estimados, ponemos el signo menos porque\n",
        "            #el mecanismo exponencial selecciona según máxima\n",
        "            #utilidad, y aquí queremos elegir el índice que \n",
        "            #tenga el mayor error absoluto.\n",
        "            return -abs(Q(D) - Q(D_prev))\n",
        "\n",
        "        #ahora definimos el conjunto de posibles elecciones que \n",
        "        #el mecanismo exponencial puede hacer (algo como\n",
        "        # R = [0,1,...,N-1], donde N es el número de consultas)\n",
        "        R = list(range(len(queries)))\n",
        "        x = (D, D_prev)\n",
        "        return exponential(x, R, u, sensitivity, epsilon)\n",
        "    \n",
        "    return inner"
      ]
    },
    {
      "cell_type": "code",
      "execution_count": 78,
      "metadata": {
        "id": "q9dTQkpPXL6r"
      },
      "outputs": [],
      "source": [
        "def calc_correction_DP(sensitivity, epsilon):\n",
        "    \"\"\"Dada una sensibilidad y un presupuesto\n",
        "    de privacidad, devuelve otra función que hace lo mismo \n",
        "    que la definida en la pregunta 4 pero Diferencialmente\n",
        "    Privada, porque aplica el mecanismo de Laplace. \n",
        "\n",
        "    Input:\n",
        "        sensitivity (float): sensibilidad de la consulta\n",
        "        epsilon (float): presupuesto o bucket de privacidad\n",
        "        \n",
        "    Ouput: \n",
        "        inner: función que devuelve el error pero esta vez\n",
        "        con un ruido de Laplace aplicado\n",
        "    \"\"\"\n",
        "    def inner(Q, D, D_prev):\n",
        "        #primero calculamos la respuesta real\n",
        "        real = Q(D)\n",
        "        #luego calculamos la respuesta estimada\n",
        "        estimado = Q(D_prev)\n",
        "        #en tercer lugar calculamos el ruido\n",
        "        error = real - estimado\n",
        "        return laplace_mech(error, sensitivity, epsilon)\n",
        "    \n",
        "    return inner"
      ]
    },
    {
      "cell_type": "code",
      "execution_count": 79,
      "metadata": {
        "id": "pm9g7eNDZX8_"
      },
      "outputs": [],
      "source": [
        "# Test\n",
        "\n",
        "epsilon_test = 1.0\n",
        "\n",
        "assert get_i_max_DP(1, epsilon_test)(D, D_prev_test, Qs) < len(Qs)"
      ]
    },
    {
      "cell_type": "markdown",
      "metadata": {
        "id": "XoKFYU_aHnr4"
      },
      "source": [
        "## Question 7 (6 points)\n",
        "\n",
        "We can finally define `MWEM_DP` by instantiating `MWEM_base` with our differentially private definitions:"
      ]
    },
    {
      "cell_type": "code",
      "execution_count": 80,
      "metadata": {
        "collapsed": true,
        "id": "edkGTx5BH2YC"
      },
      "outputs": [
        {
          "data": {
            "text/html": [
              "<div>\n",
              "<style scoped>\n",
              "    .dataframe tbody tr th:only-of-type {\n",
              "        vertical-align: middle;\n",
              "    }\n",
              "\n",
              "    .dataframe tbody tr th {\n",
              "        vertical-align: top;\n",
              "    }\n",
              "\n",
              "    .dataframe thead th {\n",
              "        text-align: right;\n",
              "    }\n",
              "</style>\n",
              "<table border=\"1\" class=\"dataframe\">\n",
              "  <thead>\n",
              "    <tr style=\"text-align: right;\">\n",
              "      <th></th>\n",
              "      <th>col_0</th>\n",
              "      <th>Norm_count</th>\n",
              "    </tr>\n",
              "    <tr>\n",
              "      <th>Age</th>\n",
              "      <th>Occupation</th>\n",
              "      <th></th>\n",
              "    </tr>\n",
              "  </thead>\n",
              "  <tbody>\n",
              "    <tr>\n",
              "      <th rowspan=\"5\" valign=\"top\">17</th>\n",
              "      <th>Adm-clerical</th>\n",
              "      <td>0.000589</td>\n",
              "    </tr>\n",
              "    <tr>\n",
              "      <th>Craft-repair</th>\n",
              "      <td>0.001392</td>\n",
              "    </tr>\n",
              "    <tr>\n",
              "      <th>Exec-managerial</th>\n",
              "      <td>0.000894</td>\n",
              "    </tr>\n",
              "    <tr>\n",
              "      <th>Farming-fishing</th>\n",
              "      <td>0.000167</td>\n",
              "    </tr>\n",
              "    <tr>\n",
              "      <th>Handlers-cleaners</th>\n",
              "      <td>0.000278</td>\n",
              "    </tr>\n",
              "    <tr>\n",
              "      <th>...</th>\n",
              "      <th>...</th>\n",
              "      <td>...</td>\n",
              "    </tr>\n",
              "    <tr>\n",
              "      <th rowspan=\"5\" valign=\"top\">90</th>\n",
              "      <th>Other-service</th>\n",
              "      <td>0.000910</td>\n",
              "    </tr>\n",
              "    <tr>\n",
              "      <th>Prof-specialty</th>\n",
              "      <td>0.002072</td>\n",
              "    </tr>\n",
              "    <tr>\n",
              "      <th>Protective-serv</th>\n",
              "      <td>0.000455</td>\n",
              "    </tr>\n",
              "    <tr>\n",
              "      <th>Sales</th>\n",
              "      <td>0.001026</td>\n",
              "    </tr>\n",
              "    <tr>\n",
              "      <th>Transport-moving</th>\n",
              "      <td>0.000251</td>\n",
              "    </tr>\n",
              "  </tbody>\n",
              "</table>\n",
              "<p>843 rows × 1 columns</p>\n",
              "</div>"
            ],
            "text/plain": [
              "col_0                  Norm_count\n",
              "Age Occupation                   \n",
              "17  Adm-clerical         0.000589\n",
              "    Craft-repair         0.001392\n",
              "    Exec-managerial      0.000894\n",
              "    Farming-fishing      0.000167\n",
              "    Handlers-cleaners    0.000278\n",
              "...                           ...\n",
              "90  Other-service        0.000910\n",
              "    Prof-specialty       0.002072\n",
              "    Protective-serv      0.000455\n",
              "    Sales                0.001026\n",
              "    Transport-moving     0.000251\n",
              "\n",
              "[843 rows x 1 columns]"
            ]
          },
          "execution_count": 80,
          "metadata": {},
          "output_type": "execute_result"
        }
      ],
      "source": [
        "def MWEM_DP(D, queries, iterations, epsilon):\n",
        "    return MWEM_base(D, queries, iterations, get_i_max_DP(1, epsilon / (2 * iterations)), calc_correction_DP(1, epsilon / (2 * iterations)))\n",
        "\n",
        "# Just testing that it runs; no meaningful choice of #iterations or epsilon here.\n",
        "DP_MWEM_result = MWEM_DP(D, Qs, 20, 80.0)\n",
        "\n",
        "DP_MWEM_result"
      ]
    },
    {
      "cell_type": "markdown",
      "metadata": {
        "id": "9igyNkiUH6kf"
      },
      "source": [
        "If you have succesfully implemented MWEM (private and non-private) the following code should plot the responses for 40 new random queries, applied to the original dataframe, and the generated dataframes:"
      ]
    },
    {
      "cell_type": "code",
      "execution_count": 81,
      "metadata": {
        "id": "IzB68GhqpReD"
      },
      "outputs": [
        {
          "data": {
            "image/png": "[encoded data removed]",
            "text/plain": [
              "<Figure size 640x480 with 1 Axes>"
            ]
          },
          "metadata": {},
          "output_type": "display_data"
        }
      ],
      "source": [
        "# Test how MWEM and DP-MWEM generalize\n",
        "\n",
        "qs_test = generate_n_qweights(D, 40)\n",
        "Qs_test = [generate_query_from_qweigth(q) for q in qs_test]\n",
        "\n",
        "indexes = range(0, len(qs_test))\n",
        "real_answers = [Q_i(D) for (_, Q_i) in Qs_test]\n",
        "mwem_answers = [Q_i(MWEM_result) for (_, Q_i) in Qs_test]\n",
        "dp_mwem_answers = [Q_i(DP_MWEM_result) for (_, Q_i) in Qs_test]\n",
        "\n",
        "plt.plot(indexes, real_answers, label=\"Real answers\")\n",
        "plt.plot(indexes, mwem_answers, label=\"MWEM answers\")\n",
        "plt.plot(indexes, dp_mwem_answers, label=\"DP MWEM answers\")\n",
        "\n",
        "plt.legend()\n",
        "plt.show()"
      ]
    },
    {
      "cell_type": "markdown",
      "metadata": {
        "id": "cUFcZGReIanG"
      },
      "source": [
        "- In a few sentences, and based on the previous plot, how would you describe the accuracy of the MWEM mechanism (both the private and non-private versions)?\n",
        "- Why do you think it is sensible to generate 40 new queries instead of using the queries we already had?\n",
        "- Notice that when we instantiated `get_i_max_DP` and `calc_correction_DP`, we specified a sensitivity of $1$ for our queries. Justify this decision."
      ]
    },
    {
      "cell_type": "markdown",
      "metadata": {
        "id": "Rf64r214JZvI"
      },
      "source": [
        "## Question 8 (10 points)\n",
        "\n",
        "The following code generates a plot that shows how the number of iterations in MWEM (non-private) affects the similarity between the original dataframe and the generated one:"
      ]
    },
    {
      "cell_type": "code",
      "execution_count": 82,
      "metadata": {
        "id": "xI00JX4AJ73B"
      },
      "outputs": [
        {
          "data": {
            "text/plain": [
              "[<matplotlib.lines.Line2D at 0x16de28e20>]"
            ]
          },
          "execution_count": 82,
          "metadata": {},
          "output_type": "execute_result"
        },
        {
          "data": {
            "image/png": "[encoded data removed]",
            "text/plain": [
              "<Figure size 640x480 with 1 Axes>"
            ]
          },
          "metadata": {},
          "output_type": "display_data"
        }
      ],
      "source": [
        "# KL divergence is a measure that can be used to measure the distance between\n",
        "# two probability distributions\n",
        "def KLdiv(P, Q):\n",
        "    return (P * np.log(P / Q)).values.sum()\n",
        "\n",
        "iterations = range(1, 150, 20)\n",
        "\n",
        "errors_per_iteration = [KLdiv(D, MWEM_nonDP(D, Qs, iteration)) for iteration in iterations]\n",
        "\n",
        "plt.xlabel(\"epsilon\")\n",
        "plt.ylabel(\"Error Absoluto\")\n",
        "plt.plot(iterations, errors_per_iteration)"
      ]
    },
    {
      "cell_type": "markdown",
      "metadata": {
        "id": "ojzV_tP_KSmB"
      },
      "source": [
        "- Describe the results showed in the figure\n",
        "- In a few sentences, provide an intuition for such behavior"
      ]
    },
    {
      "cell_type": "markdown",
      "metadata": {
        "id": "DIIbLV2AKkAk"
      },
      "source": [
        "The following shows the same information as above but now for the DP version of MWEM:\n"
      ]
    },
    {
      "cell_type": "code",
      "execution_count": 83,
      "metadata": {
        "id": "LAE3T-30LA2-"
      },
      "outputs": [
        {
          "data": {
            "text/plain": [
              "[<matplotlib.lines.Line2D at 0x16deb5580>]"
            ]
          },
          "execution_count": 83,
          "metadata": {},
          "output_type": "execute_result"
        },
        {
          "data": {
            "image/png": "[encoded data removed]",
            "text/plain": [
              "<Figure size 640x480 with 1 Axes>"
            ]
          },
          "metadata": {},
          "output_type": "display_data"
        }
      ],
      "source": [
        "epsilon = 20.0\n",
        "\n",
        "iterations = range(1, 150, 20)\n",
        "\n",
        "errors_per_iteration_DP = [KLdiv(D, MWEM_DP(D, Qs, iteration, epsilon)) for iteration in iterations]\n",
        "\n",
        "plt.xlabel(\"epsilon\")\n",
        "plt.ylabel(\"Error Absoluto\")\n",
        "plt.plot(iterations, errors_per_iteration_DP)"
      ]
    },
    {
      "cell_type": "markdown",
      "metadata": {
        "id": "i2UGiR5wLdMy"
      },
      "source": [
        "- Compare the two figures. What does it change?\n",
        "El error absoluto crece en el caso DP\n",
        "\n",
        "- Why do you think we did not obtain the same behavior as before?\n",
        "Porque uno es diferencialmente privado y el otro no, y porque el error en ambos casos vienen dados por el error de laplace y otros y en el otro no.\n",
        "\n",
        "- (Without modifying the code) what should you change in order to \"recover\" the behavior of the previous figure?\n",
        "Tendría que cambiar la sensibilidad de la consulta, o bien el bucket de privacidad o bien alguna otra variable como las consultas en sí."
      ]
    },
    {
      "cell_type": "markdown",
      "metadata": {
        "id": "0f5FdVlmMQWF"
      },
      "source": [
        "## Question 9 (4 points)\n",
        "\n",
        "Finally, write the necessary code (similar to the code blocks above 🙄) to plot how the DP MWEM reacts to different privacy budgets for a fixed number of iterations (20):"
      ]
    },
    {
      "cell_type": "code",
      "execution_count": null,
      "metadata": {
        "id": "LJ50rQ50MoLY"
      },
      "outputs": [],
      "source": [
        "epsilons =  [0.5, 0.8, 1, 2, 4, 8, 16, 32, 64]\n",
        "\n",
        "iterations = 20\n",
        "\n",
        "\n",
        "## complete here"
      ]
    },
    {
      "cell_type": "markdown",
      "metadata": {
        "id": "rFlBp3QqMxd-"
      },
      "source": [
        "- Based on the figure, what do you think is a \"good\" privacy budget **per iteration** for our dataframe? Explain your reasoning.\n",
        "- Is your \"good\" budget-per-iteration similar to the one used in Q7? Is it smaller or bigger? Justify or argue against the budget used in Q7."
      ]
    }
  ],
  "metadata": {
    "colab": {
      "provenance": []
    },
    "kernelspec": {
      "display_name": "Python 3",
      "language": "python",
      "name": "python3"
    },
    "language_info": {
      "codemirror_mode": {
        "name": "ipython",
        "version": 3
      },
      "file_extension": ".py",
      "mimetype": "text/x-python",
      "name": "python",
      "nbconvert_exporter": "python",
      "pygments_lexer": "ipython3",
      "version": "3.9.6"
    }
  },
  "nbformat": 4,
  "nbformat_minor": 0
}
