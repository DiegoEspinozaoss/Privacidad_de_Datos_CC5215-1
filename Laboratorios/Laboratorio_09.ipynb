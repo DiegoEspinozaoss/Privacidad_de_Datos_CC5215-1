{
  "cells": [
    {
      "cell_type": "markdown",
      "metadata": {
        "id": "7X7ZwNViRWmT"
      },
      "source": [
        "# CC5215: Privacidad de Datos\n",
        "\n",
        "## Laboratorio 9\n",
        "\n",
        "Integrantes:\n",
        "\n",
        "- Nombre"
      ]
    },
    {
      "cell_type": "markdown",
      "metadata": {
        "id": "N6T28hTUTzJC"
      },
      "source": [
        "## Preamble\n",
        "\n",
        "In this lab, we are going to implement the MWEM algorithm seen in class. Furthermore, we will incrementally build the necessary pieces of the algorithm in order to re-use the same logic for a private and a non-private version."
      ]
    },
    {
      "cell_type": "code",
      "execution_count": null,
      "metadata": {
        "id": "9JmjcAJRRWmW"
      },
      "outputs": [],
      "source": [
        "# Load the data and libraries\n",
        "import pandas as pd\n",
        "import numpy as np\n",
        "import random\n",
        "from scipy import stats\n",
        "import matplotlib.pyplot as plt\n",
        "\n",
        "def laplace_mech(v, sensitivity, epsilon):\n",
        "    return v + np.random.laplace(loc=0, scale=sensitivity / epsilon)\n",
        "\n",
        "def pct_error(orig, priv):\n",
        "    return np.abs(orig - priv)/orig * 100.0\n",
        "\n",
        "adult = pd.read_csv('https://users.dcc.uchile.cl/~mtoro/cursos/cc5215/adult_with_pii.csv')"
      ]
    },
    {
      "cell_type": "markdown",
      "metadata": {
        "id": "VMuWjsaGQIwM"
      },
      "source": [
        "## Question 1 (5 points)\n",
        "\n",
        "The following code block shows the contingency table for the colums \"Age\" and \"Occupation\" in the dataset `adult`."
      ]
    },
    {
      "cell_type": "code",
      "execution_count": null,
      "metadata": {
        "id": "eaeGFNUH9KYf"
      },
      "outputs": [],
      "source": [
        "D = pd.crosstab(\n",
        "    [adult['Age'], adult['Occupation']],\n",
        "    np.ones(adult.shape[0]),\n",
        "    normalize=True).rename(columns={1.0: \"Norm_count\"})\n",
        "\n",
        "D"
      ]
    },
    {
      "cell_type": "markdown",
      "source": [
        "\n",
        "Implement the `generate_n_qweights` function that creates a list of size `n` of binary weights (values being either 0 or 1) for a dataframe `D`:\n",
        "\n",
        "_Hints_: Use the function `np.random.choice` to create a matrix with the dimentsions of `D` and use it to create a pd.Dataframe. Also, the properties `.shape`, `.index`, `.columns` of Dataframe may be useful."
      ],
      "metadata": {
        "id": "FJR_f-HGFXtn"
      }
    },
    {
      "cell_type": "code",
      "execution_count": null,
      "metadata": {
        "id": "MpAZ7bEXSF65"
      },
      "outputs": [],
      "source": [
        "def generate_n_qweights(D, n):\n",
        "    \"\"\"\n",
        "    Generate a list of n dataframes, of the same structure as D, where each dataframe cell is either 0 or 1.\n",
        "\n",
        "    Parameters:\n",
        "        D (pd.Dataframe): The data for which the weight vectors will be generated\n",
        "        n (int): The number of vectors to generate\n",
        "\n",
        "    Returns:\n",
        "        list(pd.Dataframe): A list of dataframes with the same shape of D, where each value is either 0 or 1\n",
        "\n",
        "    Example:\n",
        "        D = pd.Dataframe([0.1, 0.5, 0.4])\n",
        "        qs = generate_n_qweights(D, 10)\n",
        "        print(qs[0]) # Output: Dataframe([1, 0, 1])\n",
        "    \"\"\"\n",
        "    raise NotImplementedError()\n",
        "\n",
        "qs = generate_n_qweights(D, 40)\n",
        "\n",
        "qs[0]"
      ]
    },
    {
      "cell_type": "code",
      "execution_count": null,
      "metadata": {
        "id": "EvJzY1IDTiZb"
      },
      "outputs": [],
      "source": [
        "# TESTS\n",
        "\n",
        "q_test = generate_n_qweights(D, 1)[0]\n",
        "\n",
        "# This tests should NEVER fail\n",
        "assert len(q_test) == len(D)\n",
        "assert all([abs(w) <= 1 for w in q_test.values.flatten()])"
      ]
    },
    {
      "cell_type": "markdown",
      "metadata": {
        "id": "vOByn13lXsqp"
      },
      "source": [
        "## Question 2 (5 points)\n",
        "\n",
        "From a `q` matrix, we can create a query `Q` that receives a dataframe `D` and calculates the weighted sum of `D` and `q`. Implement `generate_query_from_qweigth` that receives a `q` matrix and returns a tuple containing the same `q` and a function `Q`."
      ]
    },
    {
      "cell_type": "code",
      "execution_count": null,
      "metadata": {
        "id": "aOJc3Lm0SqiJ"
      },
      "outputs": [],
      "source": [
        "def generate_query_from_qweigth(q):\n",
        "    \"\"\"\n",
        "    Generate a query function from a given query weight.\n",
        "\n",
        "    Parameters:\n",
        "        q (pd.Dataframe): The query weight vector.\n",
        "\n",
        "    Returns:\n",
        "        tuple: A tuple containing the query weight vector and the query function.\n",
        "    \"\"\"\n",
        "    raise NotImplementedError()\n",
        "\n",
        "Qs = [generate_query_from_qweigth(q) for q in qs]\n",
        "\n",
        "print(\"Query:\", Qs[0][1])\n",
        "print(\"=\" * 50)\n",
        "print(\"Query data:\")\n",
        "Qs[0][0]"
      ]
    },
    {
      "cell_type": "markdown",
      "metadata": {
        "id": "_K52BaBDXzUq"
      },
      "source": [
        "## Question 3 (2 points)\n",
        "\n",
        "For starting writing the MWEM implementation, the first step is to generate a first guess. Implement `gen_first_guess` that creates a dataframe similar to its argument `D`, but where each cell simply contains $\\frac{1}{n}$, where $n$ is the size (number of cells) of `D`."
      ]
    },
    {
      "cell_type": "code",
      "execution_count": null,
      "metadata": {
        "id": "A0_bDn-vU-dj"
      },
      "outputs": [],
      "source": [
        "def gen_first_guess(D):\n",
        "    raise NotImplementedError()"
      ]
    },
    {
      "cell_type": "code",
      "execution_count": null,
      "metadata": {
        "id": "efMo9NmuX4Dg"
      },
      "outputs": [],
      "source": [
        "# TESTS\n",
        "\n",
        "D0_test = gen_first_guess(D)\n",
        "\n",
        "assert D0_test.shape == D.shape\n",
        "assert np.isclose(D0_test.values.sum(), 1.0)\n",
        "\n",
        "D0_test"
      ]
    },
    {
      "cell_type": "markdown",
      "metadata": {
        "id": "g3Yibck4YNhX"
      },
      "source": [
        "## Question 4 (6 points)\n",
        "\n",
        "Our implementation of MWEM is going to be parametrized by the way we calculate the argmax error query, and the way we calculate the erorr/correction. Implement `get_i_max_nonDP`, that returns the index of the query that maximizes the error between `D` and `D_prev`. Additionally, implement `calc_correction_nonDP` that returns the `error` variable seen in class."
      ]
    },
    {
      "cell_type": "code",
      "execution_count": null,
      "metadata": {
        "id": "uKkLACJSU1aq"
      },
      "outputs": [],
      "source": [
        "def get_i_max_nonDP(D, D_prev, queries):\n",
        "    \"\"\"\n",
        "    Determine the index of the maximum query based on the absolute difference of query results.\n",
        "\n",
        "    Parameters:\n",
        "        D (pandas.DataFrame): The input data.\n",
        "        D_prev (pandas.DataFrame): The previous distribution.\n",
        "        queries (list(tuple)): List of pairs (a dataframe and a function) representing each query\n",
        "\n",
        "    Returns:\n",
        "        int: The index of the maximum query.\n",
        "    \"\"\"\n",
        "    raise NotImplementedError()\n",
        "\n",
        "def calc_correction_nonDP(Q, D, D_prev):\n",
        "    \"\"\"\n",
        "    Calculate the correction factor for a query without using differential privacy.\n",
        "\n",
        "    Parameters:\n",
        "        Q (function): The query function.\n",
        "        D (pandas.DataFrame): The input data.\n",
        "        D_prev (pandas.DataFrame): The previous distribution.\n",
        "\n",
        "    Returns:\n",
        "        float: The correction (or error) factor for the query.\n",
        "    \"\"\"\n",
        "    raise NotImplementedError()"
      ]
    },
    {
      "cell_type": "code",
      "execution_count": null,
      "metadata": {
        "id": "FGlhEW5XU_iw"
      },
      "outputs": [],
      "source": [
        "# TESTS\n",
        "\n",
        "D_prev_test = gen_first_guess(D)\n",
        "\n",
        "assert get_i_max_nonDP(D, D_prev_test, Qs) < len(Qs)\n",
        "assert abs(calc_correction_nonDP(Qs[0][1], D, D_prev_test)) < 1"
      ]
    },
    {
      "cell_type": "markdown",
      "metadata": {
        "id": "R8XPY2a_YSva"
      },
      "source": [
        "## Question 5 (14 points)\n",
        "\n",
        "We finally have all the parts necessary to build the MWEM algorithm. Implement MWEM as seen in class, with one subtlety: besides `D`, `queries` and `iterations`, the function must receive two functions that calculate the argmax error and the correction, respectively.\n",
        "\n",
        "_Hint:_ As we are working with arithmetic over numbers between 0 and 1, it is probable that you may encounter floating approximation errors. It is recommended that you normalize the datasets you generate in each iteration to make sure that the elements sum up to exactly 1."
      ]
    },
    {
      "cell_type": "code",
      "execution_count": null,
      "metadata": {
        "id": "qkjAa_mOW64-"
      },
      "outputs": [],
      "source": [
        "def MWEM_base(D, queries, iterations, get_i_max, calc_correction):\n",
        "    \"\"\"\n",
        "    Perform the Multiplicative Weights Exponential Mechanism (MWEM) algorithm.\n",
        "\n",
        "    Parameters:\n",
        "        D (pandas.DataFrame): The input data.\n",
        "        queries (list): List of queries to be performed in each iteration.\n",
        "            Each query is a tuple containing its query data (dataframe, i.e. `q`s) and the query function (i.e. `Q`s).\n",
        "        iterations (int): Number of iterations to perform.\n",
        "        get_i_max (function): Function to determine the index of the maximum query.\n",
        "            Signature: get_i_max(D, D_prev, queries) -> int\n",
        "        calc_correction (function): Function to calculate the correction factor for a query.\n",
        "            Signature: calc_correction(Query_max, D, D_prev) -> float\n",
        "\n",
        "    Returns:\n",
        "        pandas.DataFrame: The final result after performing the MWEM iterations.\n",
        "    \"\"\"\n",
        "    raise NotImplementedError()"
      ]
    },
    {
      "cell_type": "markdown",
      "source": [
        "We can now instantiate `MWEM_base` in the definition of `MWEM_nonDP` using the previously defined functions:"
      ],
      "metadata": {
        "id": "me1_AZqjTyk4"
      }
    },
    {
      "cell_type": "code",
      "execution_count": null,
      "metadata": {
        "id": "1LpMpksrW9rj"
      },
      "outputs": [],
      "source": [
        "def MWEM_nonDP(D, queries, iterations):\n",
        "    return MWEM_base(D, queries, iterations, get_i_max_nonDP, calc_correction_nonDP)\n",
        "\n",
        "MWEM_result = MWEM_nonDP(D, Qs, 20)\n",
        "\n",
        "MWEM_result"
      ]
    },
    {
      "cell_type": "code",
      "execution_count": null,
      "metadata": {
        "id": "PMhui5WSZHra"
      },
      "outputs": [],
      "source": [
        "# TEST\n",
        "\n",
        "assert MWEM_result.shape == D.shape\n",
        "assert np.isclose(MWEM_result.values.sum(), 1.0)"
      ]
    },
    {
      "cell_type": "markdown",
      "metadata": {
        "id": "TO4bHvHVZRzj"
      },
      "source": [
        "## Question 6 (8 points)\n",
        "\n",
        "The following code-block shows the implementation of the exponential mechanism. Use `exponential` and `laplace_mech` to implement `get_i_max_DP` and `calc_correction_DP`, the differentially-private counterparts of the functions implemented in Question 4. Since these functions must receive the sensitivity and the epsilon and return the expected function by `MWEM_base`, e.g. `get_i_max_DP` is a function that takes `sensitivity` and `epsilon` and returns a new function that receives `D`, `D_prev` and `queries`."
      ]
    },
    {
      "cell_type": "code",
      "execution_count": null,
      "metadata": {
        "id": "gmSiG6rZaUyM"
      },
      "outputs": [],
      "source": [
        "def exponential(x, R, u, sensitivity, epsilon):\n",
        "    # Calculate the score for each element of R\n",
        "    scores = [u(x, r) for r in R]\n",
        "\n",
        "    # Calculate the probability for each element, based on its score\n",
        "    factors = [epsilon * score / (2 * sensitivity) for score in scores]\n",
        "    probabilities = [np.exp(factor) for factor in factors]\n",
        "\n",
        "    # Normalize the probabilties so they sum up to 1\n",
        "    p_sum = sum(probabilities)\n",
        "    probabilities = [float(p_i) / p_sum for p_i in probabilities]\n",
        "\n",
        "    # Choose an element from R based on the probabilities\n",
        "    return np.random.choice(R, 1, p=probabilities)[0]"
      ]
    },
    {
      "cell_type": "code",
      "execution_count": null,
      "metadata": {
        "id": "9fAgDj1pXKmk"
      },
      "outputs": [],
      "source": [
        "def get_i_max_DP(sensitivity, epsilon):\n",
        "    raise NotImplementedError()"
      ]
    },
    {
      "cell_type": "code",
      "execution_count": null,
      "metadata": {
        "id": "q9dTQkpPXL6r"
      },
      "outputs": [],
      "source": [
        "def calc_correction_DP(sensitivity, epsilon):\n",
        "    raise NotImplementedError()"
      ]
    },
    {
      "cell_type": "code",
      "execution_count": null,
      "metadata": {
        "id": "pm9g7eNDZX8_"
      },
      "outputs": [],
      "source": [
        "# Test\n",
        "\n",
        "epsilon_test = 1.0\n",
        "\n",
        "assert get_i_max_DP(1, epsilon_test)(D, D_prev_test, Qs) < len(Qs)"
      ]
    },
    {
      "cell_type": "markdown",
      "source": [
        "## Question 7 (6 points)\n",
        "\n",
        "We can finally define `MWEM_DP` by instantiating `MWEM_base` with our differentially private definitions:"
      ],
      "metadata": {
        "id": "XoKFYU_aHnr4"
      }
    },
    {
      "cell_type": "code",
      "source": [
        "def MWEM_DP(D, queries, iterations, epsilon):\n",
        "    return MWEM_base(D, queries, iterations, get_i_max_DP(1, epsilon / (2 * iterations)), calc_correction_DP(1, epsilon / (2 * iterations)))\n",
        "\n",
        "# Just testing that it runs; no meaningful choice of #iterations or epsilon here.\n",
        "DP_MWEM_result = MWEM_DP(D, Qs, 20, 80.0)\n",
        "\n",
        "DP_MWEM_result"
      ],
      "metadata": {
        "collapsed": true,
        "id": "edkGTx5BH2YC"
      },
      "execution_count": null,
      "outputs": []
    },
    {
      "cell_type": "markdown",
      "source": [
        "If you have succesfully implemented MWEM (private and non-private) the following code should plot the responses for 40 new random queries, applied to the original dataframe, and the generated dataframes:"
      ],
      "metadata": {
        "id": "9igyNkiUH6kf"
      }
    },
    {
      "cell_type": "code",
      "source": [
        "# Test how MWEM and DP-MWEM generalize\n",
        "\n",
        "qs_test = generate_n_qweights(D, 40)\n",
        "Qs_test = [generate_query_from_qweigth(q) for q in qs_test]\n",
        "\n",
        "indexes = range(0, len(qs_test))\n",
        "real_answers = [Q_i(D) for (_, Q_i) in Qs_test]\n",
        "mwem_answers = [Q_i(MWEM_result) for (_, Q_i) in Qs_test]\n",
        "dp_mwem_answers = [Q_i(DP_MWEM_result) for (_, Q_i) in Qs_test]\n",
        "\n",
        "plt.plot(indexes, real_answers, label=\"Real answers\")\n",
        "plt.plot(indexes, mwem_answers, label=\"MWEM answers\")\n",
        "plt.plot(indexes, dp_mwem_answers, label=\"DP MWEM answers\")\n",
        "\n",
        "plt.legend()\n",
        "plt.show()"
      ],
      "metadata": {
        "id": "IzB68GhqpReD"
      },
      "execution_count": null,
      "outputs": []
    },
    {
      "cell_type": "markdown",
      "source": [
        "- In a few sentences, and based on the previous plot, how would you describe the accuracy of the MWEM mechanism (both the private and non-private versions)?\n",
        "- Why do you think it is sensible to generate 40 new queries instead of using the queries we already had?\n",
        "- Notice that when we instantiated `get_i_max_DP` and `calc_correction_DP`, we specified a sensitivity of $1$ for our queries. Justify this decision."
      ],
      "metadata": {
        "id": "cUFcZGReIanG"
      }
    },
    {
      "cell_type": "markdown",
      "source": [
        "## Question 8 (10 points)\n",
        "\n",
        "The following code generates a plot that shows how the number of iterations in MWEM (non-private) affects the similarity between the original dataframe and the generated one:"
      ],
      "metadata": {
        "id": "Rf64r214JZvI"
      }
    },
    {
      "cell_type": "code",
      "source": [
        "# KL divergence is a measure that can be used to measure the distance between\n",
        "# two probability distributions\n",
        "def KLdiv(P, Q):\n",
        "    return (P * np.log(P / Q)).values.sum()\n",
        "\n",
        "iterations = range(1, 150, 20)\n",
        "\n",
        "errors_per_iteration = [KLdiv(D, MWEM_nonDP(D, Qs, iteration)) for iteration in iterations]\n",
        "\n",
        "plt.xlabel(\"epsilon\")\n",
        "plt.ylabel(\"Error Absoluto\")\n",
        "plt.plot(iterations, errors_per_iteration)"
      ],
      "metadata": {
        "id": "xI00JX4AJ73B"
      },
      "execution_count": null,
      "outputs": []
    },
    {
      "cell_type": "markdown",
      "source": [
        "- Describe the results showed in the figure\n",
        "- In a few sentences, provide an intuition for such behavior"
      ],
      "metadata": {
        "id": "ojzV_tP_KSmB"
      }
    },
    {
      "cell_type": "markdown",
      "source": [
        "The following shows the same information as above but now for the DP version of MWEM:\n"
      ],
      "metadata": {
        "id": "DIIbLV2AKkAk"
      }
    },
    {
      "cell_type": "code",
      "source": [
        "epsilon = 20.0\n",
        "\n",
        "iterations = range(1, 150, 20)\n",
        "\n",
        "errors_per_iteration_DP = [KLdiv(D, MWEM_DP(D, Qs, iteration, epsilon)) for iteration in iterations]\n",
        "\n",
        "plt.xlabel(\"epsilon\")\n",
        "plt.ylabel(\"Error Absoluto\")\n",
        "plt.plot(iterations, errors_per_iteration_DP)"
      ],
      "metadata": {
        "id": "LAE3T-30LA2-"
      },
      "execution_count": null,
      "outputs": []
    },
    {
      "cell_type": "markdown",
      "source": [
        "- Compare the two figures. What does it change?\n",
        "- Why do you think we did not obtain the same behavior as before?\n",
        "- (Without modifying the code) what should you change in order to \"recover\" the behavior of the previous figure?"
      ],
      "metadata": {
        "id": "i2UGiR5wLdMy"
      }
    },
    {
      "cell_type": "markdown",
      "source": [
        "## Question 9 (4 points)\n",
        "\n",
        "Finally, write the necessary code (similar to the code blocks above 🙄) to plot how the DP MWEM reacts to different privacy budgets for a fixed number of iterations (20):"
      ],
      "metadata": {
        "id": "0f5FdVlmMQWF"
      }
    },
    {
      "cell_type": "code",
      "source": [
        "epsilons =  [0.5, 0.8, 1, 2, 4, 8, 16, 32, 64]\n",
        "\n",
        "iterations = 20\n",
        "\n",
        "## complete here"
      ],
      "metadata": {
        "id": "LJ50rQ50MoLY"
      },
      "execution_count": null,
      "outputs": []
    },
    {
      "cell_type": "markdown",
      "source": [
        "- Based on the figure, what do you think is a \"good\" privacy budget **per iteration** for our dataframe? Explain your reasoning.\n",
        "- Is your \"good\" budget-per-iteration similar to the one used in Q7? Is it smaller or bigger? Justify or argue against the budget used in Q7."
      ],
      "metadata": {
        "id": "rFlBp3QqMxd-"
      }
    }
  ],
  "metadata": {
    "colab": {
      "provenance": []
    },
    "kernelspec": {
      "display_name": "Python 3 (ipykernel)",
      "language": "python",
      "name": "python3"
    },
    "language_info": {
      "codemirror_mode": {
        "name": "ipython",
        "version": 3
      },
      "file_extension": ".py",
      "mimetype": "text/x-python",
      "name": "python",
      "nbconvert_exporter": "python",
      "pygments_lexer": "ipython3",
      "version": "3.10.4"
    }
  },
  "nbformat": 4,
  "nbformat_minor": 0
}