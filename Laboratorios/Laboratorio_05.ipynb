{
  "cells": [
    {
      "cell_type": "markdown",
      "metadata": {
        "id": "XYTlAbZYQzAn"
      },
      "source": [
        "# CC5215: Privacidad de Datos\n",
        "\n",
        "## Laboratorio 5\n",
        "\n",
        "Integrantes:\n",
        "\n",
        "- Nombre"
      ]
    },
    {
      "cell_type": "code",
      "execution_count": 2,
      "metadata": {
        "id": "LkursIbWQzAp"
      },
      "outputs": [],
      "source": [
        "# Load the data and libraries\n",
        "import pandas as pd\n",
        "import numpy as np\n",
        "import random\n",
        "from scipy import stats\n",
        "import matplotlib.pyplot as plt\n",
        "plt.style.use('seaborn-v0_8-whitegrid')\n",
        "\n",
        "def laplace_mech(v, sensitivity, epsilon):\n",
        "    return v + np.random.laplace(loc=0, scale=sensitivity / epsilon)\n",
        "\n",
        "def pct_error(orig, priv):\n",
        "    return np.abs(orig - priv)/orig * 100.0\n",
        "\n",
        "adult = pd.read_csv('https://users.dcc.uchile.cl/~mtoro/cursos/cc5215/adult_with_pii.csv')"
      ]
    },
    {
      "cell_type": "code",
      "execution_count": 3,
      "metadata": {},
      "outputs": [
        {
          "data": {
            "text/html": [
              "<div>\n",
              "<style scoped>\n",
              "    .dataframe tbody tr th:only-of-type {\n",
              "        vertical-align: middle;\n",
              "    }\n",
              "\n",
              "    .dataframe tbody tr th {\n",
              "        vertical-align: top;\n",
              "    }\n",
              "\n",
              "    .dataframe thead th {\n",
              "        text-align: right;\n",
              "    }\n",
              "</style>\n",
              "<table border=\"1\" class=\"dataframe\">\n",
              "  <thead>\n",
              "    <tr style=\"text-align: right;\">\n",
              "      <th></th>\n",
              "      <th>Name</th>\n",
              "      <th>DOB</th>\n",
              "      <th>SSN</th>\n",
              "      <th>Zip</th>\n",
              "      <th>Age</th>\n",
              "      <th>Workclass</th>\n",
              "      <th>fnlwgt</th>\n",
              "      <th>Education</th>\n",
              "      <th>Education-Num</th>\n",
              "      <th>Marital Status</th>\n",
              "      <th>Occupation</th>\n",
              "      <th>Relationship</th>\n",
              "      <th>Race</th>\n",
              "      <th>Sex</th>\n",
              "      <th>Capital Gain</th>\n",
              "      <th>Capital Loss</th>\n",
              "      <th>Hours per week</th>\n",
              "      <th>Country</th>\n",
              "      <th>Target</th>\n",
              "    </tr>\n",
              "  </thead>\n",
              "  <tbody>\n",
              "    <tr>\n",
              "      <th>0</th>\n",
              "      <td>Karrie Trusslove</td>\n",
              "      <td>9/7/1967</td>\n",
              "      <td>732-14-6110</td>\n",
              "      <td>64152</td>\n",
              "      <td>39</td>\n",
              "      <td>State-gov</td>\n",
              "      <td>77516</td>\n",
              "      <td>Bachelors</td>\n",
              "      <td>13</td>\n",
              "      <td>Never-married</td>\n",
              "      <td>Adm-clerical</td>\n",
              "      <td>Not-in-family</td>\n",
              "      <td>White</td>\n",
              "      <td>Male</td>\n",
              "      <td>2174</td>\n",
              "      <td>0</td>\n",
              "      <td>40</td>\n",
              "      <td>United-States</td>\n",
              "      <td>&lt;=50K</td>\n",
              "    </tr>\n",
              "    <tr>\n",
              "      <th>1</th>\n",
              "      <td>Brandise Tripony</td>\n",
              "      <td>6/7/1988</td>\n",
              "      <td>150-19-2766</td>\n",
              "      <td>61523</td>\n",
              "      <td>50</td>\n",
              "      <td>Self-emp-not-inc</td>\n",
              "      <td>83311</td>\n",
              "      <td>Bachelors</td>\n",
              "      <td>13</td>\n",
              "      <td>Married-civ-spouse</td>\n",
              "      <td>Exec-managerial</td>\n",
              "      <td>Husband</td>\n",
              "      <td>White</td>\n",
              "      <td>Male</td>\n",
              "      <td>0</td>\n",
              "      <td>0</td>\n",
              "      <td>13</td>\n",
              "      <td>United-States</td>\n",
              "      <td>&lt;=50K</td>\n",
              "    </tr>\n",
              "    <tr>\n",
              "      <th>2</th>\n",
              "      <td>Brenn McNeely</td>\n",
              "      <td>8/6/1991</td>\n",
              "      <td>725-59-9860</td>\n",
              "      <td>95668</td>\n",
              "      <td>38</td>\n",
              "      <td>Private</td>\n",
              "      <td>215646</td>\n",
              "      <td>HS-grad</td>\n",
              "      <td>9</td>\n",
              "      <td>Divorced</td>\n",
              "      <td>Handlers-cleaners</td>\n",
              "      <td>Not-in-family</td>\n",
              "      <td>White</td>\n",
              "      <td>Male</td>\n",
              "      <td>0</td>\n",
              "      <td>0</td>\n",
              "      <td>40</td>\n",
              "      <td>United-States</td>\n",
              "      <td>&lt;=50K</td>\n",
              "    </tr>\n",
              "    <tr>\n",
              "      <th>3</th>\n",
              "      <td>Dorry Poter</td>\n",
              "      <td>4/6/2009</td>\n",
              "      <td>659-57-4974</td>\n",
              "      <td>25503</td>\n",
              "      <td>53</td>\n",
              "      <td>Private</td>\n",
              "      <td>234721</td>\n",
              "      <td>11th</td>\n",
              "      <td>7</td>\n",
              "      <td>Married-civ-spouse</td>\n",
              "      <td>Handlers-cleaners</td>\n",
              "      <td>Husband</td>\n",
              "      <td>Black</td>\n",
              "      <td>Male</td>\n",
              "      <td>0</td>\n",
              "      <td>0</td>\n",
              "      <td>40</td>\n",
              "      <td>United-States</td>\n",
              "      <td>&lt;=50K</td>\n",
              "    </tr>\n",
              "    <tr>\n",
              "      <th>4</th>\n",
              "      <td>Dick Honnan</td>\n",
              "      <td>9/16/1951</td>\n",
              "      <td>220-93-3811</td>\n",
              "      <td>75387</td>\n",
              "      <td>28</td>\n",
              "      <td>Private</td>\n",
              "      <td>338409</td>\n",
              "      <td>Bachelors</td>\n",
              "      <td>13</td>\n",
              "      <td>Married-civ-spouse</td>\n",
              "      <td>Prof-specialty</td>\n",
              "      <td>Wife</td>\n",
              "      <td>Black</td>\n",
              "      <td>Female</td>\n",
              "      <td>0</td>\n",
              "      <td>0</td>\n",
              "      <td>40</td>\n",
              "      <td>Cuba</td>\n",
              "      <td>&lt;=50K</td>\n",
              "    </tr>\n",
              "    <tr>\n",
              "      <th>...</th>\n",
              "      <td>...</td>\n",
              "      <td>...</td>\n",
              "      <td>...</td>\n",
              "      <td>...</td>\n",
              "      <td>...</td>\n",
              "      <td>...</td>\n",
              "      <td>...</td>\n",
              "      <td>...</td>\n",
              "      <td>...</td>\n",
              "      <td>...</td>\n",
              "      <td>...</td>\n",
              "      <td>...</td>\n",
              "      <td>...</td>\n",
              "      <td>...</td>\n",
              "      <td>...</td>\n",
              "      <td>...</td>\n",
              "      <td>...</td>\n",
              "      <td>...</td>\n",
              "      <td>...</td>\n",
              "    </tr>\n",
              "    <tr>\n",
              "      <th>32556</th>\n",
              "      <td>Ardyce Golby</td>\n",
              "      <td>10/29/1961</td>\n",
              "      <td>212-61-8338</td>\n",
              "      <td>41328</td>\n",
              "      <td>27</td>\n",
              "      <td>Private</td>\n",
              "      <td>257302</td>\n",
              "      <td>Assoc-acdm</td>\n",
              "      <td>12</td>\n",
              "      <td>Married-civ-spouse</td>\n",
              "      <td>Tech-support</td>\n",
              "      <td>Wife</td>\n",
              "      <td>White</td>\n",
              "      <td>Female</td>\n",
              "      <td>0</td>\n",
              "      <td>0</td>\n",
              "      <td>38</td>\n",
              "      <td>United-States</td>\n",
              "      <td>&lt;=50K</td>\n",
              "    </tr>\n",
              "    <tr>\n",
              "      <th>32557</th>\n",
              "      <td>Jean O'Connor</td>\n",
              "      <td>6/28/1952</td>\n",
              "      <td>737-32-2919</td>\n",
              "      <td>94735</td>\n",
              "      <td>40</td>\n",
              "      <td>Private</td>\n",
              "      <td>154374</td>\n",
              "      <td>HS-grad</td>\n",
              "      <td>9</td>\n",
              "      <td>Married-civ-spouse</td>\n",
              "      <td>Machine-op-inspct</td>\n",
              "      <td>Husband</td>\n",
              "      <td>White</td>\n",
              "      <td>Male</td>\n",
              "      <td>0</td>\n",
              "      <td>0</td>\n",
              "      <td>40</td>\n",
              "      <td>United-States</td>\n",
              "      <td>&gt;50K</td>\n",
              "    </tr>\n",
              "    <tr>\n",
              "      <th>32558</th>\n",
              "      <td>Reuben Skrzynski</td>\n",
              "      <td>8/9/1966</td>\n",
              "      <td>314-48-0219</td>\n",
              "      <td>49628</td>\n",
              "      <td>58</td>\n",
              "      <td>Private</td>\n",
              "      <td>151910</td>\n",
              "      <td>HS-grad</td>\n",
              "      <td>9</td>\n",
              "      <td>Widowed</td>\n",
              "      <td>Adm-clerical</td>\n",
              "      <td>Unmarried</td>\n",
              "      <td>White</td>\n",
              "      <td>Female</td>\n",
              "      <td>0</td>\n",
              "      <td>0</td>\n",
              "      <td>40</td>\n",
              "      <td>United-States</td>\n",
              "      <td>&lt;=50K</td>\n",
              "    </tr>\n",
              "    <tr>\n",
              "      <th>32559</th>\n",
              "      <td>Caye Biddle</td>\n",
              "      <td>5/19/1978</td>\n",
              "      <td>647-75-3550</td>\n",
              "      <td>8213</td>\n",
              "      <td>22</td>\n",
              "      <td>Private</td>\n",
              "      <td>201490</td>\n",
              "      <td>HS-grad</td>\n",
              "      <td>9</td>\n",
              "      <td>Never-married</td>\n",
              "      <td>Adm-clerical</td>\n",
              "      <td>Own-child</td>\n",
              "      <td>White</td>\n",
              "      <td>Male</td>\n",
              "      <td>0</td>\n",
              "      <td>0</td>\n",
              "      <td>20</td>\n",
              "      <td>United-States</td>\n",
              "      <td>&lt;=50K</td>\n",
              "    </tr>\n",
              "    <tr>\n",
              "      <th>32560</th>\n",
              "      <td>Hortense Hardesty</td>\n",
              "      <td>5/11/2012</td>\n",
              "      <td>690-42-5638</td>\n",
              "      <td>86153</td>\n",
              "      <td>52</td>\n",
              "      <td>Self-emp-inc</td>\n",
              "      <td>287927</td>\n",
              "      <td>HS-grad</td>\n",
              "      <td>9</td>\n",
              "      <td>Married-civ-spouse</td>\n",
              "      <td>Exec-managerial</td>\n",
              "      <td>Wife</td>\n",
              "      <td>White</td>\n",
              "      <td>Female</td>\n",
              "      <td>15024</td>\n",
              "      <td>0</td>\n",
              "      <td>40</td>\n",
              "      <td>United-States</td>\n",
              "      <td>&gt;50K</td>\n",
              "    </tr>\n",
              "  </tbody>\n",
              "</table>\n",
              "<p>32561 rows × 19 columns</p>\n",
              "</div>"
            ],
            "text/plain": [
              "                    Name         DOB          SSN    Zip  Age  \\\n",
              "0       Karrie Trusslove    9/7/1967  732-14-6110  64152   39   \n",
              "1       Brandise Tripony    6/7/1988  150-19-2766  61523   50   \n",
              "2          Brenn McNeely    8/6/1991  725-59-9860  95668   38   \n",
              "3            Dorry Poter    4/6/2009  659-57-4974  25503   53   \n",
              "4            Dick Honnan   9/16/1951  220-93-3811  75387   28   \n",
              "...                  ...         ...          ...    ...  ...   \n",
              "32556       Ardyce Golby  10/29/1961  212-61-8338  41328   27   \n",
              "32557      Jean O'Connor   6/28/1952  737-32-2919  94735   40   \n",
              "32558   Reuben Skrzynski    8/9/1966  314-48-0219  49628   58   \n",
              "32559        Caye Biddle   5/19/1978  647-75-3550   8213   22   \n",
              "32560  Hortense Hardesty   5/11/2012  690-42-5638  86153   52   \n",
              "\n",
              "              Workclass  fnlwgt   Education  Education-Num  \\\n",
              "0             State-gov   77516   Bachelors             13   \n",
              "1      Self-emp-not-inc   83311   Bachelors             13   \n",
              "2               Private  215646     HS-grad              9   \n",
              "3               Private  234721        11th              7   \n",
              "4               Private  338409   Bachelors             13   \n",
              "...                 ...     ...         ...            ...   \n",
              "32556           Private  257302  Assoc-acdm             12   \n",
              "32557           Private  154374     HS-grad              9   \n",
              "32558           Private  151910     HS-grad              9   \n",
              "32559           Private  201490     HS-grad              9   \n",
              "32560      Self-emp-inc  287927     HS-grad              9   \n",
              "\n",
              "           Marital Status         Occupation   Relationship   Race     Sex  \\\n",
              "0           Never-married       Adm-clerical  Not-in-family  White    Male   \n",
              "1      Married-civ-spouse    Exec-managerial        Husband  White    Male   \n",
              "2                Divorced  Handlers-cleaners  Not-in-family  White    Male   \n",
              "3      Married-civ-spouse  Handlers-cleaners        Husband  Black    Male   \n",
              "4      Married-civ-spouse     Prof-specialty           Wife  Black  Female   \n",
              "...                   ...                ...            ...    ...     ...   \n",
              "32556  Married-civ-spouse       Tech-support           Wife  White  Female   \n",
              "32557  Married-civ-spouse  Machine-op-inspct        Husband  White    Male   \n",
              "32558             Widowed       Adm-clerical      Unmarried  White  Female   \n",
              "32559       Never-married       Adm-clerical      Own-child  White    Male   \n",
              "32560  Married-civ-spouse    Exec-managerial           Wife  White  Female   \n",
              "\n",
              "       Capital Gain  Capital Loss  Hours per week        Country Target  \n",
              "0              2174             0              40  United-States  <=50K  \n",
              "1                 0             0              13  United-States  <=50K  \n",
              "2                 0             0              40  United-States  <=50K  \n",
              "3                 0             0              40  United-States  <=50K  \n",
              "4                 0             0              40           Cuba  <=50K  \n",
              "...             ...           ...             ...            ...    ...  \n",
              "32556             0             0              38  United-States  <=50K  \n",
              "32557             0             0              40  United-States   >50K  \n",
              "32558             0             0              40  United-States  <=50K  \n",
              "32559             0             0              20  United-States  <=50K  \n",
              "32560         15024             0              40  United-States   >50K  \n",
              "\n",
              "[32561 rows x 19 columns]"
            ]
          },
          "execution_count": 3,
          "metadata": {},
          "output_type": "execute_result"
        }
      ],
      "source": [
        "adult"
      ]
    },
    {
      "cell_type": "markdown",
      "metadata": {
        "id": "Kbe4qCxORcZv"
      },
      "source": [
        "\n",
        "**Note**: this function (and the rest of the ones you'll define in this assignment) take a list of *query results* rather than the queries themselves (as we saw in class). This simplification makes your code a little bit simpler."
      ]
    },
    {
      "cell_type": "code",
      "execution_count": 4,
      "metadata": {
        "id": "lvWMM2aHQzAq"
      },
      "outputs": [],
      "source": [
        "# preserves epsilon-differential privacy\n",
        "def above_threshold(query_results, T, epsilon):\n",
        "    T_hat = T + np.random.laplace(loc=0, scale = 2/epsilon)\n",
        "\n",
        "    for idx, q in enumerate(query_results):\n",
        "        nu_i = np.random.laplace(loc=0, scale = 4/epsilon)\n",
        "        if q + nu_i >= T_hat:\n",
        "            return idx\n",
        "    return None"
      ]
    },
    {
      "cell_type": "markdown",
      "metadata": {
        "id": "HoCWd96U4H8a"
      },
      "source": [
        "## Question 1 (5 points)\n",
        "\n",
        "The code below defines a finite set of options for marital status. Define a scoring function that returns high scores for common marital statuses, and low scores for uncommon ones (e.g. the score could be the number of people with that status). Remember that your function should be 1-sensitive."
      ]
    },
    {
      "cell_type": "code",
      "execution_count": 5,
      "metadata": {
        "id": "HrnA2gtP4rFM"
      },
      "outputs": [
        {
          "data": {
            "text/plain": [
              "10683"
            ]
          },
          "execution_count": 5,
          "metadata": {},
          "output_type": "execute_result"
        }
      ],
      "source": [
        "options = ['Never-married', 'Married-civ-spouse', 'Divorced',\n",
        "           'Married-spouse-absent', 'Separated', 'Married-AF-spouse',\n",
        "           'Widowed']\n",
        "\n",
        "\n",
        "def score(option):\n",
        "    \"\"\"Esta función toma los estados maritales de las personas y \n",
        "    calcula todos el conteo para todos los diferentes tipos de \n",
        "    estados maritales. Además, este mecanismo tiene una sensibilidad\n",
        "    de 1, porque si agregamos o quitamos una persona o registro, el \n",
        "    resultado de la consulta cambia a lo más en uno, bajo la distancia\n",
        "    de Hamming.\"\"\"\n",
        "    score = 0\n",
        "    for row in np.arange(len(adult)):\n",
        "        marital_status = adult['Marital Status']\n",
        "        if marital_status[row] == option:\n",
        "            score += 1\n",
        "    return score\n",
        "\n",
        "score('Never-married')\n"
      ]
    },
    {
      "cell_type": "code",
      "execution_count": 6,
      "metadata": {
        "id": "1tcyjzq_4xt5"
      },
      "outputs": [],
      "source": [
        "assert score('Never-married') > score('Divorced')\n",
        "assert score('Never-married') > score('Widowed')\n",
        "assert score('Never-married') < score('Married-civ-spouse')\n",
        "assert score('Never-married') > score('Divorced')"
      ]
    },
    {
      "cell_type": "markdown",
      "metadata": {
        "id": "IK_83--f54Gx"
      },
      "source": [
        "## Question 2 (10 points)\n",
        "\n",
        "Implement `report_noisy_max` using the Laplace mechanism. `report_noisy_max` should return the value in a set that approximately maximizes the value of the score function. It should not return the score itself."
      ]
    },
    {
      "cell_type": "code",
      "execution_count": 7,
      "metadata": {
        "id": "Rhu1OPtu6EjF"
      },
      "outputs": [
        {
          "data": {
            "text/plain": [
              "'Married-civ-spouse'"
            ]
          },
          "execution_count": 7,
          "metadata": {},
          "output_type": "execute_result"
        }
      ],
      "source": [
        "def report_noisy_max(R, score, sensitivity, epsilon):\n",
        "    \"\"\"Esta función lo que hace es retornar el máximo \n",
        "    puntaje ruidoso u(r) + Lap(sensitivity, epsilon), \n",
        "    donde r = score(R[i]) es el score para\n",
        "    cada tipo de dato único, mientras que sensitivity\n",
        "    y epsilon son los parámetros de la función de\n",
        "    Laplace. R es el conjunto de opcion/opciones. \n",
        "    \"\"\"\n",
        "    noisy_scores = []\n",
        "    for opt in R:\n",
        "        u = score(opt)\n",
        "        noise = np.random.laplace(loc = 0.0, scale= sensitivity / epsilon)\n",
        "        noisy_scores.append(u + noise)\n",
        "\n",
        "    max_index = np.argmax(noisy_scores)\n",
        "    return R[max_index]\n",
        "    raise NotImplementedError()\n",
        "\n",
        "report_noisy_max(options, score, 1, 1)"
      ]
    },
    {
      "cell_type": "code",
      "execution_count": 8,
      "metadata": {
        "id": "Tkms8ibR6s0u"
      },
      "outputs": [],
      "source": [
        "assert report_noisy_max(options, score, 1, 1) == 'Married-civ-spouse'"
      ]
    },
    {
      "cell_type": "markdown",
      "metadata": {
        "id": "FRpn8lO0QzAq"
      },
      "source": [
        "## Question 3 (5 points)\n",
        "\n",
        "Implement a function `above_10000` that releases the **value** of the first query in a sequence of queries whose value is above 10000. Your function should have a **total** privacy cost equal to the privacy parameter $\\epsilon$ passed in when it is called."
      ]
    },
    {
      "cell_type": "code",
      "execution_count": 9,
      "metadata": {
        "deletable": false,
        "id": "TsU4Cu0hQzAr",
        "nbgrader": {
          "cell_type": "code",
          "checksum": "41882ba11d054eaea45d8fac363b9bc3",
          "grade": false,
          "grade_id": "cell-7d58af13aa2622cd",
          "locked": false,
          "schema_version": 3,
          "solution": true,
          "task": false
        }
      },
      "outputs": [
        {
          "name": "stdout",
          "output_type": "stream",
          "text": [
            "above_10000 #1: 14976\n",
            "above_10000 #2: 14976\n",
            "above_10000 #3: 14976\n"
          ]
        }
      ],
      "source": [
        "def above_10000(query_results, epsilon):\n",
        "    \"\"\"\n",
        "    Aplica la técnica del Vector Disperso (SVT) para devolver el \n",
        "    primer resultado que supera 10000, asegurando privacidad diferencial ε.\n",
        "    \n",
        "    Parámetros:\n",
        "        query_results: lista de resultados (reales) de consultas.\n",
        "        epsilon: presupuesto de privacidad total.\n",
        "\n",
        "    Retorna:\n",
        "        El primer resultado que supera 10000 (de manera privada), o None.\n",
        "    \"\"\"\n",
        "    #definimos primero que todo la cantidad de consultas:\n",
        "    k = len(query_results)\n",
        "    # Por definición, aseguramos que el mecanismo es epsilon diferencialmente\n",
        "    # privado, porque la suma de epsilon_1 + k * epsilon_2 es igual a epsilon:\n",
        "    epsilon_1 = epsilon / 2\n",
        "    epsilon_2 = epsilon / (2 * k)\n",
        "    sensitivity = 1\n",
        "    # Computamos un umbral (threshold) ruidoso (noisy):\n",
        "    noisy_threshold = 10000 + np.random.laplace(loc=0.0, scale=sensitivity/epsilon_1)\n",
        "\n",
        "    for result in query_results:\n",
        "        # Agregamos ruido a cada consulta para compararla con el umbral\n",
        "        noisy_result = result + np.random.laplace(loc = 0.0, scale=sensitivity/epsilon_2)\n",
        "        if noisy_result > noisy_threshold:\n",
        "            # Devolver el valor real (no ruidoso), ya que SVT permite eso una vez\n",
        "            return result\n",
        "\n",
        "    # Y si ninguna consulta supera el umbral no devolvemos nada. \n",
        "    return None\n",
        "\n",
        "\n",
        "queries = adult['Marital Status'].value_counts()\n",
        "print(f\"above_10000 #1: {above_10000(queries, 100)}\")\n",
        "print(f\"above_10000 #2: {above_10000(queries, 1)}\")\n",
        "print(f\"above_10000 #3: {above_10000(queries, .01)}\")"
      ]
    },
    {
      "cell_type": "code",
      "execution_count": 10,
      "metadata": {
        "colab": {
          "base_uri": "https://localhost:8080/"
        },
        "deletable": false,
        "editable": false,
        "id": "2Gq4JHeBQzAr",
        "nbgrader": {
          "cell_type": "code",
          "checksum": "9bbb2f261521950cc9bebb0d61c6e95f",
          "grade": true,
          "grade_id": "cell-1cf50100348edbd6",
          "locked": true,
          "points": 20,
          "schema_version": 3,
          "solution": false,
          "task": false
        },
        "outputId": "fa5618ac-91b7-4dda-dd81-b20c5150264c"
      },
      "outputs": [
        {
          "name": "stdout",
          "output_type": "stream",
          "text": [
            "14976.0\n"
          ]
        }
      ],
      "source": [
        "# TEST CASE\n",
        "\n",
        "results = [above_10000(queries, 1.0) for _ in range(20)]\n",
        "print(np.mean(results))\n",
        "assert np.mean(results) > 14900\n",
        "assert np.mean(results) < 15000"
      ]
    },
    {
      "cell_type": "markdown",
      "metadata": {
        "id": "2G1S_nMOQzAr"
      },
      "source": [
        "## Question 4 (5 points)\n",
        "In 2-3 sentences, argue informally that your implementation of `above_10000` has a total privacy cost of $\\epsilon$."
      ]
    },
    {
      "cell_type": "markdown",
      "metadata": {
        "deletable": false,
        "id": "VWsykuzaQzAr",
        "nbgrader": {
          "cell_type": "markdown",
          "checksum": "e11d35bbb38ffaa2580254c9e17aff9b",
          "grade": true,
          "grade_id": "cell-3d70d4d8ee9868e9",
          "locked": false,
          "points": 10,
          "schema_version": 3,
          "solution": true,
          "task": false
        }
      },
      "source": [
        "YOUR ANSWER HERE\n",
        "---\n",
        "Mi implementación de la función above_10000 garantiza un costo de privacidad de epsilon porque sigue el esquema del Sparse Vector Technique bajo un presupuesto controlado: En primer lugar, la perturbación del umbral utiliza un costo de privacidad de $$\\epsilon_1 = \\frac{\\epsilon}{2}$$ (de lo cual se agrega un ruido de Laplace de \n",
        "$\\frac{1}{\\epsilon_1}$ ) lo cual garantiza privacidad diferencial respecto al umbral, que es un valor sensible si depende de los datos. En segundo lugar, a cada consulta k-ésima se le agrega un ruido Laplace con escala $\\frac{1}{\\epsilon_2}$ donde cada $\\epsilon_2 = \\frac{\\epsilon}{2k}$, y por el teorema de composición secuencial, las privacidades de todo el mecanismo se suman, entonces el $$\\epsilon_{\\text{Total}} = \\epsilon_1 + k \\cdot \\epsilon_2 = \\frac{\\epsilon}{2} + k\\cdot \\frac{\\epsilon}{2k} = \\frac{\\epsilon}{2} + \\frac{\\epsilon}{2} = \\epsilon $$, donde $k$ viene siendo la cantidad de consultas. "
      ]
    },
    {
      "cell_type": "markdown",
      "metadata": {
        "id": "xpk9-r_RQzAr"
      },
      "source": [
        "## Question 5 (10 points)\n",
        "\n",
        "Implement a function `bounded_all_above_10000` that releases the **value** of **$c$ queries** in a sequence of queries whose value is above 10000 (where $c$ is an analyst-provided parameter limiting the number of returned results). Your function should have a **total privacy cost** bounded by its parameter $\\epsilon$."
      ]
    },
    {
      "cell_type": "code",
      "execution_count": 16,
      "metadata": {
        "deletable": false,
        "id": "XrGxy2eqQzAr",
        "nbgrader": {
          "cell_type": "code",
          "checksum": "91bb37e0406efa6d04ea75bc4054530f",
          "grade": false,
          "grade_id": "cell-b0f7fdabc28e37df",
          "locked": false,
          "schema_version": 3,
          "solution": true,
          "task": false
        }
      },
      "outputs": [
        {
          "name": "stdout",
          "output_type": "stream",
          "text": [
            "bounded_all_above_10000 #1: [14976, 10683]\n",
            "bounded_all_above_10000 #2: [14976, 10683]\n",
            "bounded_all_above_10000 #3: [14976, 10683]\n"
          ]
        }
      ],
      "source": [
        "import numpy as np\n",
        "\n",
        "def bounded_all_above_10000(query_results, c, epsilon):\n",
        "    \"\"\"\n",
        "    Devuelve hasta 'c' valores de la secuencia de queries que superan el umbral 10000,\n",
        "    utilizando una versión acotada de Sparse Vector Technique (SVT), con privacidad total ε.\n",
        "    \n",
        "    Parámetros:\n",
        "    - query_results: lista de resultados (valores reales) de consultas.\n",
        "    - epsilon: presupuesto total de privacidad.\n",
        "    - c: número máximo de resultados permitidos por encima del umbral.\n",
        "\n",
        "    Retorna:\n",
        "    - Una lista con hasta c valores de queries que están por encima del umbral.\n",
        "    \"\"\"\n",
        "\n",
        "    # Primero que todo, dividimos el presupuesto ε en dos partes\n",
        "    epsilon_threshold = epsilon / 2\n",
        "    epsilon_query = epsilon / (2 * c)\n",
        "\n",
        "    threshold = 10000\n",
        "    # luego agregamos ruido al umbral para garantizar privacidad del umbral\n",
        "    noisy_threshold = threshold + np.random.laplace(loc=0.0, scale=1/epsilon_threshold)\n",
        "\n",
        "    results = []\n",
        "    count = 0\n",
        "\n",
        "    for query in query_results:\n",
        "        # no queremos que la cuenta pase el\n",
        "        # máximo de respuestas permitidas.\n",
        "        if count >= c:\n",
        "            break\n",
        "\n",
        "        # añadimos ruido Laplace a la query\n",
        "        noisy_query = query + np.random.laplace(loc=0.0, scale=1/epsilon_query)\n",
        "\n",
        "        # comparamos query ruidosa con el umbral ruidoso\n",
        "        if noisy_query > noisy_threshold:\n",
        "            results.append(query)  # y por último publicamos el valor verdadero (no ruidoso)\n",
        "            count += 1\n",
        "\n",
        "    return results\n",
        "\n",
        "\n",
        "queries = list(adult['Marital Status'].value_counts())\n",
        "print(f\"bounded_all_above_10000 #1: {bounded_all_above_10000(queries, 3, 100)}\")\n",
        "print(f\"bounded_all_above_10000 #2: {bounded_all_above_10000(queries, 3, 1)}\")\n",
        "print(f\"bounded_all_above_10000 #3: {bounded_all_above_10000(queries, 3, .01)}\")"
      ]
    },
    {
      "cell_type": "code",
      "execution_count": 17,
      "metadata": {
        "deletable": false,
        "editable": false,
        "id": "OQbB7xIMQzAr",
        "nbgrader": {
          "cell_type": "code",
          "checksum": "7d81c9578ff7d4b31f8970c0d389542a",
          "grade": true,
          "grade_id": "cell-c27f3306db2df4fa",
          "locked": true,
          "points": 20,
          "schema_version": 3,
          "solution": false,
          "task": false
        }
      },
      "outputs": [],
      "source": [
        "# TEST CASE\n",
        "\n",
        "results = [bounded_all_above_10000(queries, 2, 1.0)]\n",
        "results_1 = [r[0] for r in results]\n",
        "results_2 = [r[1] for r in results]\n",
        "\n",
        "assert np.mean(results_1) > 14900\n",
        "assert np.mean(results_1) < 15000\n",
        "assert np.mean(results_2) > 10600\n",
        "assert np.mean(results_2) < 10700"
      ]
    },
    {
      "cell_type": "markdown",
      "metadata": {
        "id": "tizu2usFQzAs"
      },
      "source": [
        "## Question 6 (5 points)\n",
        "\n",
        "In 2-3 sentences, argue informally that your implementation of `bounded_all_above_10000` has privacy cost bounded by $\\epsilon$."
      ]
    },
    {
      "cell_type": "markdown",
      "metadata": {
        "deletable": false,
        "id": "dGonLRr7QzAs",
        "nbgrader": {
          "cell_type": "markdown",
          "checksum": "cc65750898401dd68f5895f4a558d1dd",
          "grade": true,
          "grade_id": "cell-0908f5d27b9661e6",
          "locked": false,
          "points": 10,
          "schema_version": 3,
          "solution": true,
          "task": false
        }
      },
      "source": [
        "YOUR ANSWER HERE\n",
        "---\n",
        "\n",
        "La privacidad diferencial se compone usando el **teorema de composición**, que indica que cuando se aplican múltiples mecanismos diferenciales sobre la misma base de datos, sus costos de privacidad se **suman**. Por un lado, se reserva la mitad del presupuesto para proteger el **umbral**: $\\varepsilon_{\\text{umbral}} = \\frac{\\varepsilon}{2}$. En segundo lugar, la otra mitad se reparte entre a lo más \"c\" comparaciones (el número máximo de valores que podemos publicar) $\\varepsilon_{\\text{consulta}} = \\frac{\\varepsilon}{2c}$. Si se activan exactamente \"c\" respuestas (es decir, se publican \"c\" valores de consultas), entonces el costo total es (dado que son mecanismos que operan sobre la misma base de datos):\n",
        "$$\n",
        "\\varepsilon_{\\text{total}} = \\varepsilon_{\\text{umbral}} + c \\cdot \\varepsilon_{\\text{consulta}}=\n",
        "\\underbrace{\\frac{\\varepsilon}{2}}_{\\text{umbral}} + \\underbrace{c \\cdot \\frac{\\varepsilon}{2c}}_{\\text{hasta } c \\text{ comparaciones}} = \\frac{\\varepsilon}{2} + \\frac{\\varepsilon}{2} = \\varepsilon\n",
        "$$\n",
        "Esto garantiza que la función bounded_all_above_10000 sea **ε-diferencialmente privada**. Además, si se publican menos de \"c\" respuestas, el costo total sería incluso menor a $\\epsilon$.\n"
      ]
    },
    {
      "cell_type": "markdown",
      "metadata": {
        "id": "ggjDDZKwQzAs"
      },
      "source": [
        "## Question 7 (15 points)\n",
        "\n",
        "Implement a function `mean_age` that computes the mean age of participants in the `adult_data` dataset. Your function should have a **total** privacy cost of $\\epsilon$. It should work as follows:\n",
        "\n",
        "1. Compute an *upper* clipping parameter based on the data\n",
        "2. Clip the data using the clipping parameter\n",
        "3. Use `laplace_mech` to release a differentially private mean of the clipped data\n",
        "\n",
        "*Hint*: Use the sparse vector technique (`above_threshold`) to compute the clipping parameter. Consider using a sequence of queries that looks like `df.clip(lower=b, upper=0).sum() - df.clip(lower=b+1, upper=0).sum()`.\n",
        "\n",
        "*Hint*: Be careful of sensitivities and set the scale of the noise accordingly!"
      ]
    },
    {
      "cell_type": "markdown",
      "metadata": {},
      "source": [
        "Sea $$ \\mathbf{x} = (x_1, x_2, \\dots, x_n) \\in \\mathbb{R}^n $$ un conjunto de datos (por ejemplo, edades). Queremos liberar un promedio privado usando selección de clipping automático.\n",
        "\n",
        "1. Definimos conteos acumulados:\n",
        "\n",
        "$$\n",
        "q_j := \\sum_{i=1}^n \\mathbb{1}_{x_i \\leq b_j}\n",
        "$$\n",
        "\n",
        "2. Definimos el umbral objetivo (en nuestro caso la variable se llama threshold y es 1% de n):\n",
        "\n",
        "$$\n",
        "T := \\alpha \\cdot n\n",
        "$$\n",
        "\n",
        "3. Agregamos ruido Laplace (ambas son respectivamente noisy_query y noisy_threshold, calculadas por la función above_threshold):\n",
        "\n",
        "$$\n",
        "\\tilde{q}_j := q_j + \\eta_j, \\quad \\eta_j \\sim \\text{Lap}\\left( \\frac{1}{\\varepsilon_q} \\right)\n",
        "$$\n",
        "$$\n",
        "\\tilde{T} := T + \\eta_T, \\quad \\eta_T \\sim \\text{Lap}\\left( \\frac{1}{\\varepsilon_T} \\right)\n",
        "$$\n",
        "\n",
        "4. Seleccionamos el clipping (en nuestro caso es clip_max):\n",
        "\n",
        "$$\n",
        "b := \\min \\left\\{ b_j \\in \\mathcal{B} \\;\\middle|\\; \\tilde{q}_j > \\tilde{T} \\right\\}\n",
        "$$\n",
        "\n",
        "5. Finalmente, liberamos el promedio recortado con ruido (en nuestro caso es noisy_mean):\n",
        "\n",
        "$$\n",
        "\\tilde{\\mu} = \\frac{1}{n} \\sum_{i=1}^n \\min(x_i, b) + \\text{Lap}\\left( \\frac{b}{n \\varepsilon} \\right)\n",
        "$$\n"
      ]
    },
    {
      "cell_type": "code",
      "execution_count": 30,
      "metadata": {
        "deletable": false,
        "id": "N14xsrYGQzAs",
        "nbgrader": {
          "cell_type": "code",
          "checksum": "987bb7ee607f2971d03d94ec11aa137b",
          "grade": false,
          "grade_id": "cell-fefcc1a8cd056ff5",
          "locked": false,
          "schema_version": 3,
          "solution": true,
          "task": false
        }
      },
      "outputs": [
        {
          "name": "stdout",
          "output_type": "stream",
          "text": [
            "epsilon: 0.001, mean age: 0.0\n",
            "epsilon: 0.01, mean age: 33.695055138947076\n",
            "epsilon: 0.1, mean age: 38.56234302471289\n",
            "epsilon: 0.5, mean age: 38.57476389932022\n",
            "epsilon: 1, mean age: 38.58486476378119\n",
            "epsilon: 10, mean age: 38.579863673585\n"
          ]
        }
      ],
      "source": [
        "import numpy as np\n",
        "import matplotlib.pyplot as plt\n",
        "\n",
        "def Laplace_mechanism(value, sensitivity, epsilon):\n",
        "    \"\"\"\n",
        "    Aplica el mecanismo de Laplace agregando ruido calibrado a la sensibilidad de la consulta.\n",
        "    \n",
        "    Inputs: \n",
        "        value (float): es el valor numérico al que se le agregará el ruido (por ejemplo, una media).\n",
        "        sensitivity (float): sensibilidad de la consulta (qué tanto cambia el valor si una persona entra/sale del dataset).\n",
        "        epsilon (float): presupuesto o costo de privacidad (a menor epsilon, mayor privacidad y más ruido).\n",
        "        \n",
        "    Output:\n",
        "        float: el valor perturbado con ruido de Laplace.\n",
        "    \"\"\"\n",
        "    noise = np.random.laplace(loc=0.0, scale=sensitivity / epsilon)  # se genera el ruido laplaciano\n",
        "    return value + noise  # se retorna el valor perturbado\n",
        "\n",
        "def above_threshold(query_results, threshold, epsilon):\n",
        "    \"\"\"\n",
        "    Implementa el algoritmo \"Sparse Vector Technique (SVT)\" para detectar el primer índice \n",
        "    donde una consulta con ruido supera un umbral también perturbado con ruido.\n",
        "    \n",
        "    Inputs:\n",
        "        query_results (list of float): resultados de una secuencia de consultas.\n",
        "        threshold (float): es el límite o umbral de decisión (por ejemplo, 5% del total de datos).\n",
        "        epsilon (float): presupuesto total de privacidad.\n",
        "    \n",
        "    Output:\n",
        "        i: índice de la primera consulta cuya versión ruidosa supera el umbral ruidoso.\n",
        "             Si ninguna lo supera, se devuelve el último índice.\n",
        "    \"\"\"\n",
        "    epsilon_threshold = epsilon / 2  # se reserva la mitad del presupuesto para el umbral\n",
        "    epsilon_query = epsilon / (2 * len(query_results))  # y se divide la otra mitad entre las consultas\n",
        "\n",
        "    noisy_threshold = Laplace_mechanism(threshold, sensitivity=1, epsilon=epsilon_threshold)\n",
        "\n",
        "    for i, query in enumerate(query_results):\n",
        "        noisy_query = Laplace_mechanism(query, sensitivity=1, epsilon=epsilon_query)\n",
        "        if noisy_query > noisy_threshold:\n",
        "            return i  # si el valor con ruido supera el umbral, se devuelve el índice\n",
        "\n",
        "    return len(query_results) - 1  # si ningún valor superó el umbral, se devuelve el último índice\n",
        "\n",
        "# bs representa los posibles valores máximos de clipping que evaluaremos\n",
        "bs = list(range(0, 200, 10))  # se consideran edades desde 0 hasta 190 en pasos de 10\n",
        "\n",
        "# df son las edades reales del conjunto de datos \"adult\"\n",
        "df = adult['Age']\n",
        "\n",
        "def mean_age(epsilon, do_plot=True):\n",
        "    \"\"\"\n",
        "    Calcula la edad promedio usando un mecanismo diferencialmente privado.\n",
        "    Usa la técnica Sparse Vector Technique (SVT) para seleccionar un valor óptimo de clipping,\n",
        "    y luego aplica el mecanismo de Laplace a la media recortada.\n",
        "    \n",
        "    Inputs:\n",
        "        epsilon (float): presupuesto total de privacidad para toda la función.\n",
        "        do_plot (bool, optional): si es True (por defecto), se muestra una gráfica con el punto de inflexión.\n",
        "    \n",
        "    Outputs:\n",
        "        noisy_mean (float): valor de la edad promedio con ruido de privacidad diferencial.\n",
        "    \"\"\"\n",
        "    clipping_values = bs  # lista de valores máximos posibles para clipping\n",
        "    ages = df\n",
        "    queries = []\n",
        "\n",
        "    # Para cada valor de clipping b, contamos cuántas edades son exactamente iguales a b\n",
        "    for clip_value in clipping_values:\n",
        "        equal_age = ages.clip(lower=clip_value, upper=0).sum()\n",
        "        greater_age = ages.clip(lower=clip_value+1, upper=0).sum()\n",
        "        query = equal_age - greater_age \n",
        "        queries.append(query)\n",
        "\n",
        "    # Usamos un threshold que representa el 1% del total de datos como criterio de corte\n",
        "    threshold = 0.01 * len(ages)\n",
        "\n",
        "    # Aplicamos Sparse Vector Technique para encontrar el índice del valor de clipping adecuado\n",
        "    index = above_threshold(queries, threshold, epsilon / 2)  # solo usamos la mitad del presupuesto aquí\n",
        "    clip_max = clipping_values[index]  # este será el valor máximo para hacer clipping\n",
        "\n",
        "    # recortamos las edades para que ninguna supere el clip_max\n",
        "    clipped_ages = ages.clip(upper=clip_max)\n",
        "\n",
        "    # Sensibilidad de la media: el cambio máximo que puede provocar una persona en la media\n",
        "    sensitivity = clip_max / len(clipped_ages)\n",
        "\n",
        "    # calculamos la media recortada y se le añade ruido Laplaciano\n",
        "    noisy_mean = Laplace_mechanism(clipped_ages.mean(), sensitivity, epsilon / 2)  # la otra mitad del presupuesto\n",
        "\n",
        "    if do_plot == True:\n",
        "        plt.figure(figsize=(5, 3))\n",
        "        plt.plot(clipping_values, queries, marker='o', label='Valores de la consulta (edades = b)')\n",
        "        plt.axvline(clip_max, color='r', linestyle='--', label=f'Clipping = {clip_max}')\n",
        "        plt.title(f'Punto de inflexión detectado con ε = {epsilon}')\n",
        "        plt.xlabel('Valores de clipping (b)')\n",
        "        plt.ylabel('Cantidad de edades == b')\n",
        "        plt.legend()\n",
        "        plt.grid(True)\n",
        "        plt.show()\n",
        "\n",
        "    return noisy_mean\n",
        "\n",
        "for epsilon in [0.001, 0.01, 0.1, 0.5, 1, 10]:\n",
        "    print(f\"epsilon: {epsilon}, mean age: {mean_age(epsilon, do_plot=False)}\")\n"
      ]
    },
    {
      "cell_type": "code",
      "execution_count": 31,
      "metadata": {
        "deletable": false,
        "editable": false,
        "id": "vjzSw5oZQzAs",
        "nbgrader": {
          "cell_type": "code",
          "checksum": "541b1bf16c7cc220f8b904d1a7e72f61",
          "grade": true,
          "grade_id": "cell-efca6bec52b4b3cc",
          "locked": true,
          "points": 30,
          "schema_version": 3,
          "solution": false,
          "task": false
        }
      },
      "outputs": [],
      "source": [
        "# TEST CASE\n",
        "results = [mean_age(1.0, False) for _ in range(20)]\n",
        "assert np.mean(results) > 38\n",
        "assert np.mean(results) < 39"
      ]
    },
    {
      "cell_type": "markdown",
      "metadata": {
        "id": "kRoEt39TQzAs"
      },
      "source": [
        "## Question 8 (5 points)\n",
        "\n",
        "In 3-5 sentences, describe your approach to implementing `mean_age` and argue informally that your implementation has privacy cost bounded by $\\epsilon$."
      ]
    },
    {
      "cell_type": "markdown",
      "metadata": {
        "deletable": false,
        "id": "GfNhA2QiQzAs",
        "nbgrader": {
          "cell_type": "markdown",
          "checksum": "b00630bcb6f9db9d1b209913af83dc6c",
          "grade": true,
          "grade_id": "cell-c96a07678fe837cb",
          "locked": false,
          "points": 10,
          "schema_version": 3,
          "solution": true,
          "task": false
        }
      },
      "source": [
        "YOUR ANSWER HERE\n",
        "---\n",
        "Lo que podemos decir es que usamos la mitad del presupuesto para el cálculo del índice de la primera consulta que supera el umbral, y la otra mitad del presupuesto para el cálculo de la consulta clippeada con ruido laplaciano. Además, podemos decir que el cálculo del índice haya repartido mitad y mitad su parte del presupuesto entre el ruido del umbral y el ruido de la consulta. Entonces, el epsilon total será:\n",
        "$$\\epsilon_{Total} = \\epsilon_{\\text{promedio clippeado}} + \\epsilon_{\\text{índice}} = \\epsilon_{\\text{promedio clippeado}} + (\\epsilon_{\\text{query's}} + \\epsilon_{\\text{threshold}}) = \\frac{\\epsilon}{2} + (\\frac{\\epsilon}{4} + \\frac{\\epsilon}{4}) = \\epsilon$$"
      ]
    }
  ],
  "metadata": {
    "colab": {
      "provenance": []
    },
    "kernelspec": {
      "display_name": "Python 3",
      "language": "python",
      "name": "python3"
    },
    "language_info": {
      "codemirror_mode": {
        "name": "ipython",
        "version": 3
      },
      "file_extension": ".py",
      "mimetype": "text/x-python",
      "name": "python",
      "nbconvert_exporter": "python",
      "pygments_lexer": "ipython3",
      "version": "3.9.6"
    }
  },
  "nbformat": 4,
  "nbformat_minor": 0
}
