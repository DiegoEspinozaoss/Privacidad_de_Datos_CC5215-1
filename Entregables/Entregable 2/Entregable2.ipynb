{
  "cells": [
    {
      "cell_type": "markdown",
      "metadata": {
        "id": "Ug0AclSkAzmt"
      },
      "source": [
        "# CC5215: Privacidad de Datos\n",
        "## Proyecto grupal - Entregable 2"
      ]
    },
    {
      "cell_type": "markdown",
      "metadata": {
        "id": "_Hio2-a3fnnL"
      },
      "source": [
        "## Miembros del grupo\n",
        "\n",
        "Ingrese los nombres de lxs miembros del grupo. Recuerde que el grupo debe tener un máximo de 4 miembros y la constitución del grupo **no se puede cambiar** a lo largo de los distintos entregables.\n",
        "\n",
        "*   Miembro 1: Tomás Escobar\n",
        "*   Miembro 2: Diego Espinoza\n",
        "*   Miembro 3: Jorge Feliú\n",
        "*   Miembro 4: Lucas Orellana\n"
      ]
    },
    {
      "cell_type": "markdown",
      "metadata": {
        "id": "3nTwJkJjhqRD"
      },
      "source": [
        "## Objetivo general\n",
        "El objetivo de esta primera parte del trabajo grupal es que apliquen técnicas de privacidad diferencial para publicar la mayor información posible, intentando encontrar el buen trade-off entre privacidad y utilidad."
      ]
    },
    {
      "cell_type": "markdown",
      "metadata": {
        "id": "pZGEGckxkgaU"
      },
      "source": [
        "## Reglas\n",
        "\n",
        "* El documento debe ser **autocontenido** y debe explicar para cada atributo si es númerico o categórico.\n",
        "* En esta entrega se evaluarán minuciosamente los razonamientos seguidos, y los argumentos detrás de ellos. Justifique lo mejor que pueda cada paso de sus análisis.\n",
        "* Con el fin de poder evaluar objetivamente sus resultados, su entrega debe indicar **todos** los pasos que siguió (incluyendo los \"malos\" pasos), especialmente del código.\n",
        "* Siéntase libre de agregar bloques de código o texto según los necesite. Sin embargo, se le recomienda mantener un mínimo orden en su entrega final.\n",
        "\n"
      ]
    },
    {
      "cell_type": "markdown",
      "metadata": {
        "id": "4jFZShtikznf"
      },
      "source": [
        "## P0 (5 puntos)\n",
        "\n",
        "Cargue su dataset, listo para usarse, y describa cada columna (que vaya a usar), indicando si el atributo es numérico o categórico. Elimine, si corresponde, todas las columnas que no vaya a usar en su entrega."
      ]
    },
    {
      "cell_type": "code",
      "execution_count": 45,
      "metadata": {},
      "outputs": [
        {
          "name": "stdout",
          "output_type": "stream",
          "text": [
            "Defaulting to user installation because normal site-packages is not writeable\n",
            "Requirement already satisfied: kagglehub in /Users/diegoespinoza/Library/Python/3.9/lib/python/site-packages (0.3.12)\n",
            "Requirement already satisfied: packaging in /Users/diegoespinoza/Library/Python/3.9/lib/python/site-packages (from kagglehub) (23.2)\n",
            "Requirement already satisfied: pyyaml in /Users/diegoespinoza/Library/Python/3.9/lib/python/site-packages (from kagglehub) (6.0.2)\n",
            "Requirement already satisfied: requests in /Users/diegoespinoza/Library/Python/3.9/lib/python/site-packages (from kagglehub) (2.32.3)\n",
            "Requirement already satisfied: tqdm in /Users/diegoespinoza/Library/Python/3.9/lib/python/site-packages (from kagglehub) (4.67.1)\n",
            "Requirement already satisfied: charset-normalizer<4,>=2 in /Users/diegoespinoza/Library/Python/3.9/lib/python/site-packages (from requests->kagglehub) (3.4.2)\n",
            "Requirement already satisfied: idna<4,>=2.5 in /Users/diegoespinoza/Library/Python/3.9/lib/python/site-packages (from requests->kagglehub) (3.10)\n",
            "Requirement already satisfied: urllib3<3,>=1.21.1 in /Users/diegoespinoza/Library/Python/3.9/lib/python/site-packages (from requests->kagglehub) (2.4.0)\n",
            "Requirement already satisfied: certifi>=2017.4.17 in /Users/diegoespinoza/Library/Python/3.9/lib/python/site-packages (from requests->kagglehub) (2025.1.31)\n"
          ]
        }
      ],
      "source": [
        "!pip install kagglehub"
      ]
    },
    {
      "cell_type": "code",
      "execution_count": 46,
      "metadata": {},
      "outputs": [
        {
          "name": "stdout",
          "output_type": "stream",
          "text": [
            "Downloading from https://www.kaggle.com/api/v1/datasets/download/prasad22/healthcare-dataset?dataset_version_number=2...\n"
          ]
        },
        {
          "name": "stderr",
          "output_type": "stream",
          "text": [
            "100%|██████████| 2.91M/2.91M [00:00<00:00, 3.77MB/s]"
          ]
        },
        {
          "name": "stdout",
          "output_type": "stream",
          "text": [
            "Extracting files...\n"
          ]
        },
        {
          "name": "stderr",
          "output_type": "stream",
          "text": [
            "\n"
          ]
        },
        {
          "name": "stdout",
          "output_type": "stream",
          "text": [
            "Dataset descargado en: /Users/diegoespinoza/.cache/kagglehub/datasets/prasad22/healthcare-dataset/versions/2\n",
            "Dataset movido a: /Users/diegoespinoza/Documents/ramos_universidad/Privacidad_de_Datos_CC5215-1/Entregables/Entregable 2/healthcare-dataset\n"
          ]
        }
      ],
      "source": [
        "import kagglehub\n",
        "import os\n",
        "import shutil\n",
        "\n",
        "path = kagglehub.dataset_download(\"prasad22/healthcare-dataset\")\n",
        "print(\"Dataset descargado en:\", path)\n",
        "\n",
        "destino = \"/Users/diegoespinoza/Documents/ramos_universidad/Privacidad_de_Datos_CC5215-1/Entregables/Entregable 2/healthcare-dataset\"\n",
        "\n",
        "if os.path.exists(destino):\n",
        "    shutil.rmtree(destino)\n",
        "\n",
        "shutil.move(path, destino)\n",
        "print(f\"Dataset movido a: {destino}\")"
      ]
    },
    {
      "cell_type": "code",
      "execution_count": 47,
      "metadata": {},
      "outputs": [
        {
          "name": "stdout",
          "output_type": "stream",
          "text": [
            "Archivos en la carpeta: ['healthcare_dataset.csv']\n",
            "Archivo cargado: /Users/diegoespinoza/Documents/ramos_universidad/Privacidad_de_Datos_CC5215-1/Entregables/Entregable 2/healthcare-dataset/healthcare_dataset.csv\n"
          ]
        },
        {
          "data": {
            "text/html": [
              "<div>\n",
              "<style scoped>\n",
              "    .dataframe tbody tr th:only-of-type {\n",
              "        vertical-align: middle;\n",
              "    }\n",
              "\n",
              "    .dataframe tbody tr th {\n",
              "        vertical-align: top;\n",
              "    }\n",
              "\n",
              "    .dataframe thead th {\n",
              "        text-align: right;\n",
              "    }\n",
              "</style>\n",
              "<table border=\"1\" class=\"dataframe\">\n",
              "  <thead>\n",
              "    <tr style=\"text-align: right;\">\n",
              "      <th></th>\n",
              "      <th>Name</th>\n",
              "      <th>Age</th>\n",
              "      <th>Gender</th>\n",
              "      <th>Blood Type</th>\n",
              "      <th>Medical Condition</th>\n",
              "      <th>Date of Admission</th>\n",
              "      <th>Doctor</th>\n",
              "      <th>Hospital</th>\n",
              "      <th>Insurance Provider</th>\n",
              "      <th>Billing Amount</th>\n",
              "      <th>Room Number</th>\n",
              "      <th>Admission Type</th>\n",
              "      <th>Discharge Date</th>\n",
              "      <th>Medication</th>\n",
              "      <th>Test Results</th>\n",
              "    </tr>\n",
              "  </thead>\n",
              "  <tbody>\n",
              "    <tr>\n",
              "      <th>0</th>\n",
              "      <td>Bobby JacksOn</td>\n",
              "      <td>30</td>\n",
              "      <td>Male</td>\n",
              "      <td>B-</td>\n",
              "      <td>Cancer</td>\n",
              "      <td>2024-01-31</td>\n",
              "      <td>Matthew Smith</td>\n",
              "      <td>Sons and Miller</td>\n",
              "      <td>Blue Cross</td>\n",
              "      <td>18856.281306</td>\n",
              "      <td>328</td>\n",
              "      <td>Urgent</td>\n",
              "      <td>2024-02-02</td>\n",
              "      <td>Paracetamol</td>\n",
              "      <td>Normal</td>\n",
              "    </tr>\n",
              "    <tr>\n",
              "      <th>1</th>\n",
              "      <td>LesLie TErRy</td>\n",
              "      <td>62</td>\n",
              "      <td>Male</td>\n",
              "      <td>A+</td>\n",
              "      <td>Obesity</td>\n",
              "      <td>2019-08-20</td>\n",
              "      <td>Samantha Davies</td>\n",
              "      <td>Kim Inc</td>\n",
              "      <td>Medicare</td>\n",
              "      <td>33643.327287</td>\n",
              "      <td>265</td>\n",
              "      <td>Emergency</td>\n",
              "      <td>2019-08-26</td>\n",
              "      <td>Ibuprofen</td>\n",
              "      <td>Inconclusive</td>\n",
              "    </tr>\n",
              "    <tr>\n",
              "      <th>2</th>\n",
              "      <td>DaNnY sMitH</td>\n",
              "      <td>76</td>\n",
              "      <td>Female</td>\n",
              "      <td>A-</td>\n",
              "      <td>Obesity</td>\n",
              "      <td>2022-09-22</td>\n",
              "      <td>Tiffany Mitchell</td>\n",
              "      <td>Cook PLC</td>\n",
              "      <td>Aetna</td>\n",
              "      <td>27955.096079</td>\n",
              "      <td>205</td>\n",
              "      <td>Emergency</td>\n",
              "      <td>2022-10-07</td>\n",
              "      <td>Aspirin</td>\n",
              "      <td>Normal</td>\n",
              "    </tr>\n",
              "    <tr>\n",
              "      <th>3</th>\n",
              "      <td>andrEw waTtS</td>\n",
              "      <td>28</td>\n",
              "      <td>Female</td>\n",
              "      <td>O+</td>\n",
              "      <td>Diabetes</td>\n",
              "      <td>2020-11-18</td>\n",
              "      <td>Kevin Wells</td>\n",
              "      <td>Hernandez Rogers and Vang,</td>\n",
              "      <td>Medicare</td>\n",
              "      <td>37909.782410</td>\n",
              "      <td>450</td>\n",
              "      <td>Elective</td>\n",
              "      <td>2020-12-18</td>\n",
              "      <td>Ibuprofen</td>\n",
              "      <td>Abnormal</td>\n",
              "    </tr>\n",
              "    <tr>\n",
              "      <th>4</th>\n",
              "      <td>adrIENNE bEll</td>\n",
              "      <td>43</td>\n",
              "      <td>Female</td>\n",
              "      <td>AB+</td>\n",
              "      <td>Cancer</td>\n",
              "      <td>2022-09-19</td>\n",
              "      <td>Kathleen Hanna</td>\n",
              "      <td>White-White</td>\n",
              "      <td>Aetna</td>\n",
              "      <td>14238.317814</td>\n",
              "      <td>458</td>\n",
              "      <td>Urgent</td>\n",
              "      <td>2022-10-09</td>\n",
              "      <td>Penicillin</td>\n",
              "      <td>Abnormal</td>\n",
              "    </tr>\n",
              "  </tbody>\n",
              "</table>\n",
              "</div>"
            ],
            "text/plain": [
              "            Name  Age  Gender Blood Type Medical Condition Date of Admission  \\\n",
              "0  Bobby JacksOn   30    Male         B-            Cancer        2024-01-31   \n",
              "1   LesLie TErRy   62    Male         A+           Obesity        2019-08-20   \n",
              "2    DaNnY sMitH   76  Female         A-           Obesity        2022-09-22   \n",
              "3   andrEw waTtS   28  Female         O+          Diabetes        2020-11-18   \n",
              "4  adrIENNE bEll   43  Female        AB+            Cancer        2022-09-19   \n",
              "\n",
              "             Doctor                    Hospital Insurance Provider  \\\n",
              "0     Matthew Smith             Sons and Miller         Blue Cross   \n",
              "1   Samantha Davies                     Kim Inc           Medicare   \n",
              "2  Tiffany Mitchell                    Cook PLC              Aetna   \n",
              "3       Kevin Wells  Hernandez Rogers and Vang,           Medicare   \n",
              "4    Kathleen Hanna                 White-White              Aetna   \n",
              "\n",
              "   Billing Amount  Room Number Admission Type Discharge Date   Medication  \\\n",
              "0    18856.281306          328         Urgent     2024-02-02  Paracetamol   \n",
              "1    33643.327287          265      Emergency     2019-08-26    Ibuprofen   \n",
              "2    27955.096079          205      Emergency     2022-10-07      Aspirin   \n",
              "3    37909.782410          450       Elective     2020-12-18    Ibuprofen   \n",
              "4    14238.317814          458         Urgent     2022-10-09   Penicillin   \n",
              "\n",
              "   Test Results  \n",
              "0        Normal  \n",
              "1  Inconclusive  \n",
              "2        Normal  \n",
              "3      Abnormal  \n",
              "4      Abnormal  "
            ]
          },
          "execution_count": 47,
          "metadata": {},
          "output_type": "execute_result"
        }
      ],
      "source": [
        "import pandas as pd\n",
        "archivos = os.listdir(destino)\n",
        "print(\"Archivos en la carpeta:\", archivos)\n",
        "\n",
        "for archivo in archivos:\n",
        "    if archivo.endswith(\".csv\"):\n",
        "        ruta_csv = os.path.join(destino, archivo)\n",
        "        df = pd.read_csv(ruta_csv)\n",
        "        print(\"Archivo cargado:\", ruta_csv)\n",
        "        break\n",
        "\n",
        "df.head()"
      ]
    },
    {
      "cell_type": "code",
      "execution_count": 48,
      "metadata": {},
      "outputs": [
        {
          "data": {
            "text/plain": [
              "Index(['Name', 'Age', 'Gender', 'Blood Type', 'Medical Condition',\n",
              "       'Date of Admission', 'Doctor', 'Hospital', 'Insurance Provider',\n",
              "       'Billing Amount', 'Room Number', 'Admission Type', 'Discharge Date',\n",
              "       'Medication', 'Test Results'],\n",
              "      dtype='object')"
            ]
          },
          "execution_count": 48,
          "metadata": {},
          "output_type": "execute_result"
        }
      ],
      "source": [
        "df.columns"
      ]
    },
    {
      "cell_type": "markdown",
      "metadata": {
        "id": "iPZ0iBL-lGDG"
      },
      "source": [
        "YOUR ANSWER HERE"
      ]
    },
    {
      "cell_type": "markdown",
      "metadata": {
        "id": "pINPmlz9gihK"
      },
      "source": [
        "## P1 (10 puntos)\n",
        "\n",
        "Entregue una tabla de contingencia que considere **multiples** columnas y argumente porque podría ser útil para un analista. Por ejemplo, considere que publicar una tabla de contingencia de un solo atributo no es muy útil."
      ]
    },
    {
      "cell_type": "markdown",
      "metadata": {
        "id": "bZMqOuofbAX5"
      },
      "source": [
        "Podemos ver la [siguiente referencia](https://es.khanacademy.org/math/statistics-probability/analyzing-categorical-data/two-way-tables-for-categorical-data/a/two-way-tables-review) de lo que es una tabla de contingencia. Además, nos agarramos de la [página de Kaggle](https://www.kaggle.com/datasets/prasad22/healthcare-dataset?resource=download&select=healthcare_dataset.csv) para nuestro dataset!"
      ]
    },
    {
      "cell_type": "code",
      "execution_count": 49,
      "metadata": {},
      "outputs": [
        {
          "data": {
            "text/html": [
              "<div>\n",
              "<style scoped>\n",
              "    .dataframe tbody tr th:only-of-type {\n",
              "        vertical-align: middle;\n",
              "    }\n",
              "\n",
              "    .dataframe tbody tr th {\n",
              "        vertical-align: top;\n",
              "    }\n",
              "\n",
              "    .dataframe thead th {\n",
              "        text-align: right;\n",
              "    }\n",
              "</style>\n",
              "<table border=\"1\" class=\"dataframe\">\n",
              "  <thead>\n",
              "    <tr style=\"text-align: right;\">\n",
              "      <th>Medical Condition</th>\n",
              "      <th>Arthritis</th>\n",
              "      <th>Asthma</th>\n",
              "      <th>Cancer</th>\n",
              "      <th>Diabetes</th>\n",
              "      <th>Hypertension</th>\n",
              "      <th>Obesity</th>\n",
              "      <th>All</th>\n",
              "    </tr>\n",
              "    <tr>\n",
              "      <th>Gender</th>\n",
              "      <th></th>\n",
              "      <th></th>\n",
              "      <th></th>\n",
              "      <th></th>\n",
              "      <th></th>\n",
              "      <th></th>\n",
              "      <th></th>\n",
              "    </tr>\n",
              "  </thead>\n",
              "  <tbody>\n",
              "    <tr>\n",
              "      <th>Female</th>\n",
              "      <td>4686</td>\n",
              "      <td>4553</td>\n",
              "      <td>4602</td>\n",
              "      <td>4651</td>\n",
              "      <td>4612</td>\n",
              "      <td>4622</td>\n",
              "      <td>27726</td>\n",
              "    </tr>\n",
              "    <tr>\n",
              "      <th>Male</th>\n",
              "      <td>4622</td>\n",
              "      <td>4632</td>\n",
              "      <td>4625</td>\n",
              "      <td>4653</td>\n",
              "      <td>4633</td>\n",
              "      <td>4609</td>\n",
              "      <td>27774</td>\n",
              "    </tr>\n",
              "    <tr>\n",
              "      <th>All</th>\n",
              "      <td>9308</td>\n",
              "      <td>9185</td>\n",
              "      <td>9227</td>\n",
              "      <td>9304</td>\n",
              "      <td>9245</td>\n",
              "      <td>9231</td>\n",
              "      <td>55500</td>\n",
              "    </tr>\n",
              "  </tbody>\n",
              "</table>\n",
              "</div>"
            ],
            "text/plain": [
              "Medical Condition  Arthritis  Asthma  Cancer  Diabetes  Hypertension  Obesity  \\\n",
              "Gender                                                                          \n",
              "Female                  4686    4553    4602      4651          4612     4622   \n",
              "Male                    4622    4632    4625      4653          4633     4609   \n",
              "All                     9308    9185    9227      9304          9245     9231   \n",
              "\n",
              "Medical Condition    All  \n",
              "Gender                    \n",
              "Female             27726  \n",
              "Male               27774  \n",
              "All                55500  "
            ]
          },
          "execution_count": 49,
          "metadata": {},
          "output_type": "execute_result"
        }
      ],
      "source": [
        "import pandas as pd\n",
        "#Ahora vemos una tabla de contingencia en donde podemos comparar el género para cada una de los tipos de condiciones médicas.\n",
        "tabla_contingencia = pd.crosstab(df['Gender'], df['Medical Condition'], margins=True)\n",
        "tabla_contingencia"
      ]
    },
    {
      "cell_type": "markdown",
      "metadata": {
        "id": "UsXMlPeyg5aj"
      },
      "source": [
        "## P2 (12 puntos)\n",
        "\n",
        "Defina al menos 3 consultas, de suficiente complejidad que incluyan un promedio, un histograma y valores mas frecuentes. Describa las consultas en lenguaje natural, argumentando por qué dichas consultas son útiles o de interés. Luego escriba el código para realizarlas (sin preservar privacidad)."
      ]
    },
    {
      "cell_type": "markdown",
      "metadata": {
        "id": "hCisRqSlhkZX"
      },
      "source": [
        "YOUR ANSWER HERE"
      ]
    },
    {
      "cell_type": "code",
      "execution_count": 50,
      "metadata": {
        "id": "tPL_s6iIhmRx"
      },
      "outputs": [
        {
          "data": {
            "image/png": "[encoded data removed]",
            "text/plain": [
              "<Figure size 640x480 with 1 Axes>"
            ]
          },
          "metadata": {},
          "output_type": "display_data"
        },
        {
          "name": "stdout",
          "output_type": "stream",
          "text": [
            "Length of CDF vector: 100\n"
          ]
        }
      ],
      "source": [
        "import matplotlib.pyplot as plt\n",
        "\n",
        "def age_cdf():\n",
        "    a = df['Age']\n",
        "    return [len(a[a < i]) for i in range(100)]\n",
        "\n",
        "plt.plot(age_cdf())\n",
        "plt.xlabel(\"Edad\")\n",
        "plt.ylabel(\"Número acumulado de pacientes\")\n",
        "plt.title(\"Distribución acumulada de edad (CDF)\")\n",
        "plt.grid(True)\n",
        "plt.show()\n",
        "\n",
        "print('Length of CDF vector:', len(age_cdf()))"
      ]
    },
    {
      "cell_type": "code",
      "execution_count": 51,
      "metadata": {},
      "outputs": [
        {
          "name": "stdout",
          "output_type": "stream",
          "text": [
            "Número de pacientes con cáncer entre 40 y 60 años: 2843\n"
          ]
        }
      ],
      "source": [
        "#La segunda consulta será aquella que nos permite conocer la cantidad de personas con cancer\n",
        "#que tienen entre 40 y 60 años (a menos que más adelante queramos hacer otra cosa)\n",
        "def pacientes_con_cancer_en_rango(df, edad_min, edad_max):\n",
        "    filtro = (\n",
        "        (df['Medical Condition'].str.lower() == 'cancer') &\n",
        "        (df['Age'] >= edad_min) &\n",
        "        (df['Age'] <= edad_max)\n",
        "    )\n",
        "    return df[filtro].shape[0]\n",
        "\n",
        "cantidad = pacientes_con_cancer_en_rango(df, 40, 60)\n",
        "print(f\"Número de pacientes con cáncer entre 40 y 60 años: {cantidad}\")\n"
      ]
    },
    {
      "cell_type": "code",
      "execution_count": 52,
      "metadata": {},
      "outputs": [
        {
          "name": "stdout",
          "output_type": "stream",
          "text": [
            "Promedio de facturación (30-50 años): 25554.29\n"
          ]
        }
      ],
      "source": [
        "#la tercera consulta será el cálculo del promedio de facturación de pacientes entre 30 y 50 años\n",
        "filtered = df[(df['Age'] >= 30) & (df['Age'] <= 50)]\n",
        "avg_billing = filtered['Billing Amount'].mean()\n",
        "\n",
        "print(f\"Promedio de facturación (30-50 años): {avg_billing:.2f}\")"
      ]
    },
    {
      "cell_type": "markdown",
      "metadata": {
        "id": "UtqjRnIminzj"
      },
      "source": [
        "## P3 (9 puntos)\n",
        "\n",
        "Para cada consulta, identifique una noción de métrica de *utilidad* (precisión) que usted considere razonable. Luego implemente las funciones necesarias para medir utilidad.\n",
        "\n",
        "Considere calcular al menos errores porcentuales.\n",
        "Tenga en cuenta que los algoritmos DP son no deterministas por lo que debe correr las consultas muchas veces y promediar los errores obtenidos para tener resultados más significativos."
      ]
    },
    {
      "cell_type": "markdown",
      "metadata": {
        "id": "s86628Dpi0wY"
      },
      "source": [
        "YOUR ANSWER HERE"
      ]
    },
    {
      "cell_type": "code",
      "execution_count": 53,
      "metadata": {
        "id": "x8o9crjwi0UP"
      },
      "outputs": [],
      "source": [
        "import numpy as np\n",
        "#Para la primera consulta usaremos la métrica Mean Absolute Error o MAE:\n",
        "def mae_cdf(real_cdf, noisy_cdf):\n",
        "    real_cdf = np.array(real_cdf)\n",
        "    noisy_cdf = np.array(noisy_cdf)\n",
        "    return np.mean(np.abs(real_cdf - noisy_cdf))\n",
        "\n",
        "#Para la consulta de los pacientes con cáncer entre 40 y 60 años usaremos el \n",
        "#error absoluto o L1.\n",
        "def error_absoluto_recuento(real_count, noisy_count):\n",
        "    return abs(real_count - noisy_count)\n",
        "\n",
        "#Para la consulta del promedio de facturación de pacientes entre 30 y 50 años\n",
        "#usaremos el error relativo porcentual:\n",
        "def error_relativo_promedio(real_mean, noisy_mean):\n",
        "    if real_mean == 0:\n",
        "        return np.nan\n",
        "    return abs(real_mean - noisy_mean) / real_mean * 100\n"
      ]
    },
    {
      "cell_type": "code",
      "execution_count": 54,
      "metadata": {},
      "outputs": [
        {
          "name": "stdout",
          "output_type": "stream",
          "text": [
            "Consulta 1: Distribución acumulada (CDF)\n",
            "MAE promedio: 0.91\n",
            "Consulta 2: Recuento de pacientes con cáncer (40-60 años)\n",
            "Error absoluto (L1) promedio: 0.97\n",
            "Consulta 3: Promedio de facturación (30-50 años)\n",
            "Error porcentual promedio: 0.18%\n"
          ]
        }
      ],
      "source": [
        "def evaluar_utilidad_dp(num_runs=1000, epsilon_cdf=1.0, epsilon_conteo=1.0, epsilon_promedio=1.0):\n",
        "    \"\"\"La función va guardando para 1000 diferentes intentos las tres diferentes consultas\n",
        "    que son la distribución acumulada de la edad, el conteo de personas con cáncer entre 40 y 60 \n",
        "    años y el promedio de cantidad de dinero de personas entre 30 y 50 años Además, lo hace usando \n",
        "    El mecanismo de Laplace.\n",
        "\n",
        "    Inputs:\n",
        "        num_runs (int, optional): es la cantidad de veces que se repite la misma consulta. \n",
        "                                  Por defecto será 100.\n",
        "        epsilon_cdf, epsilon_conteo y epsilon_promedio (float, optional): \n",
        "        son los budgets o presupuestos de privacidad de la primer, segunda y tercera consulta\n",
        "        respectivamente, donde las tres son por 1 por defecto.\n",
        "    Output: \n",
        "        Imprime el promedio de cada una de las tres consultas ruidosas.\n",
        "    \"\"\"\n",
        "    cdf_real = age_cdf()\n",
        "    count_real = pacientes_con_cancer_en_rango(df, 40, 60)\n",
        "    promedio_real = df[(df['Age'] >= 30) & (df['Age'] <= 50)]['Billing Amount'].mean()\n",
        "\n",
        "    errores_mae = []\n",
        "    errores_conteo = []\n",
        "    errores_promedio = []\n",
        "\n",
        "    for _ in range(num_runs):\n",
        "        ruido_de_cdf = np.random.laplace(loc=0, scale=1/epsilon_cdf, size=len(cdf_real))\n",
        "        cdf_ruidosa = [max(0, r + n) for r, n in zip(cdf_real, ruido_de_cdf)]\n",
        "        errores_mae.append(mae_cdf(cdf_real, cdf_ruidosa))\n",
        "\n",
        "        conteo_ruidoso = count_real + np.random.laplace(loc=0, scale=1/epsilon_conteo)\n",
        "        errores_conteo.append(error_absoluto_recuento(count_real, conteo_ruidoso))\n",
        "\n",
        "        promedio_ruidoso = promedio_real + np.random.laplace(loc=0, scale=50.0/epsilon_promedio)\n",
        "        errores_promedio.append(error_relativo_promedio(promedio_real, promedio_ruidoso))\n",
        "\n",
        "    print(\"Consulta 1: Distribución acumulada (CDF)\")\n",
        "    print(f\"MAE promedio: {np.mean(errores_mae):.2f}\")\n",
        "\n",
        "    print(\"Consulta 2: Recuento de pacientes con cáncer (40-60 años)\")\n",
        "    print(f\"Error absoluto (L1) promedio: {np.mean(errores_conteo):.2f}\")\n",
        "\n",
        "    print(\"Consulta 3: Promedio de facturación (30-50 años)\")\n",
        "    print(f\"Error porcentual promedio: {np.mean(errores_promedio):.2f}%\")\n",
        "\n",
        "evaluar_utilidad_dp(num_runs=100, epsilon_cdf=1.0, epsilon_conteo=1.0, epsilon_promedio=1.0)"
      ]
    },
    {
      "cell_type": "markdown",
      "metadata": {
        "id": "sQ5U_-lZhuk6"
      },
      "source": [
        "## P4 (12 puntos)\n",
        "\n",
        "Describa como planea realizar sus consultas de manera diferencialmente privada, incluyendo tanto los mecanismos a usar como la estrategia del uso de budgets de privacidad. Para atributos numéricos, plantéese publicar sumas, máximos, promedios, etc.\n",
        "\n",
        "Al menos, utilice los macanismos de Laplace y Gauss, y algoritmos como SVT.\n",
        "\n",
        "Para datos categóricos, plantéese utilizar el Mecanismo Exponencial o Report Noisy Max.\n",
        "\n",
        "Luego, implemente sus consultas diferencialmente privadas."
      ]
    },
    {
      "cell_type": "markdown",
      "metadata": {
        "id": "m1hQ-gh0iArp"
      },
      "source": [
        "YOUR ANSWER HERE"
      ]
    },
    {
      "cell_type": "code",
      "execution_count": 55,
      "metadata": {
        "id": "L4pjNiQ0iMaW"
      },
      "outputs": [],
      "source": [
        "# YOUR CODE HERE"
      ]
    },
    {
      "cell_type": "markdown",
      "metadata": {
        "id": "dNU54FkojMzG"
      },
      "source": [
        "## P5 (9 puntos)\n",
        "\n",
        "Pruebe distintos epsilons (e.g. $\\epsilon = \\{0.01, 0.1, 1, \\dots, 20\\} $) para encontrar un buen trade-off entre privacidad y útilidad (precisión). Proponga un \"buen\" epsilon para cada analisis. Argumente sus decisiones.\n",
        "\n",
        "Finalmente, indique el epsilon total requerido en el total de su análisis."
      ]
    },
    {
      "cell_type": "code",
      "execution_count": 56,
      "metadata": {
        "id": "CUIn9NeWjrAW"
      },
      "outputs": [],
      "source": [
        "# YOUR CODE HERE"
      ]
    },
    {
      "cell_type": "markdown",
      "metadata": {
        "id": "a1RxJoZJjtbz"
      },
      "source": [
        "El epsilon total de nuestro analisis fue ..., dado que ..."
      ]
    },
    {
      "cell_type": "markdown",
      "metadata": {
        "id": "lGwAbvaNjxea"
      },
      "source": [
        "## P6 (3 puntos)\n",
        "\n",
        "Escriba una breve conclusión que resuma su experiencia trabajando con su dataset, indicando dificultades y sus decisiones clave."
      ]
    },
    {
      "cell_type": "markdown",
      "metadata": {
        "id": "QJ5L0HQRkr0U"
      },
      "source": [
        "YOUR ANSWER HERE"
      ]
    }
  ],
  "metadata": {
    "colab": {
      "provenance": []
    },
    "kernelspec": {
      "display_name": "Python 3",
      "language": "python",
      "name": "python3"
    },
    "language_info": {
      "codemirror_mode": {
        "name": "ipython",
        "version": 3
      },
      "file_extension": ".py",
      "mimetype": "text/x-python",
      "name": "python",
      "nbconvert_exporter": "python",
      "pygments_lexer": "ipython3",
      "version": "3.9.6"
    },
    "vscode": {
      "interpreter": {
        "hash": "b0fa6594d8f4cbf19f97940f81e996739fb7646882a419484c72d19e05852a7e"
      }
    }
  },
  "nbformat": 4,
  "nbformat_minor": 0
}
