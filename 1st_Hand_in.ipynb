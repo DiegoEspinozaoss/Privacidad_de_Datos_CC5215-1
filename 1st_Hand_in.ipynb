{
  "cells": [
    {
      "cell_type": "markdown",
      "metadata": {
        "id": "Ug0AclSkAzmt"
      },
      "source": [
        "# CC5215: Privacidad de Datos\n",
        "## Proyecto grupal - Entregable 1"
      ]
    },
    {
      "cell_type": "markdown",
      "source": [
        "## Miembros del grupo\n",
        "\n",
        "Ingrese los nombres de lxs miembros del grupo. Recuerde que el grupo debe tener 3 o 4 miembros y la constitución del grupo **no se puede cambiar** a lo largo de los distintos entregables.\n",
        "\n",
        "*   Miembro 1: Diego Espinoza\n",
        "*   Miembro 2: Lucas Orellana\n",
        "*   Miembro 3: Tomás Escobar\n",
        "*   Miembro 4: Jorge Feliú\n"
      ],
      "metadata": {
        "id": "_Hio2-a3fnnL"
      }
    },
    {
      "cell_type": "markdown",
      "source": [
        "## Objetivo general\n",
        "El objetivo de esta primera parte del trabajo grupal es que identifiquen un dataset público con información sensible de individuos, donde el dataset sea susceptible a violaciones de la privacidad, y propongan un método de publicación del dataset que evite estas violaciones de privacidad."
      ],
      "metadata": {
        "id": "3nTwJkJjhqRD"
      }
    },
    {
      "cell_type": "markdown",
      "source": [
        "## Código entregado\n",
        "Todas las funciones que defina deben estar documentadas, indicando su funcionamiento (entrada, salida, objetivo)."
      ],
      "metadata": {
        "id": "mnxzEZO1FjyH"
      }
    },
    {
      "cell_type": "markdown",
      "source": [
        "## Parte 1: Identificación del dataset [15 Puntos]\n",
        "Identifique un dataset de dominio público, con información sensible de individuos. El dataset no debe contener ningún identificador explícito.\n",
        "\n",
        "Como fuente de datasets, le podrían ser útiles las siguientes páginas web:\n",
        "*   https://www.kaggle.com/\n",
        "*   https://datos.gob.cl/\n",
        "*   https://www.consejotransparencia.cl/datosabiertos/\n",
        "\n",
        "Note que esta páginas son sólo sugerencias; pueden obtener su datasets de cualquier fuente públicamente accesible.\n",
        "\n",
        "**Datasets de ejemplo** (No puede elegir estos):\n",
        "\n",
        "* https://www.kaggle.com/datasets/ritwikb3/heart-disease-cleveland\n",
        "* https://www.kaggle.com/datasets/tagotero/chile-plebiscito-2020-participacion-servel"
      ],
      "metadata": {
        "id": "pZGEGckxkgaU"
      }
    },
    {
      "cell_type": "code",
      "source": [
        "from google.colab import drive\n",
        "drive.mount('/content/drive')\n"
      ],
      "metadata": {
        "colab": {
          "base_uri": "https://localhost:8080/"
        },
        "id": "8lu1eRU4y8hI",
        "outputId": "d704b5d5-ed0c-40dd-dc8e-56dc7297c434"
      },
      "execution_count": null,
      "outputs": [
        {
          "output_type": "stream",
          "name": "stdout",
          "text": [
            "Mounted at /content/drive\n"
          ]
        }
      ]
    },
    {
      "cell_type": "code",
      "execution_count": null,
      "metadata": {
        "id": "TMD5WWJWAzmu",
        "colab": {
          "base_uri": "https://localhost:8080/",
          "height": 529
        },
        "outputId": "16f40d7e-d616-4788-b7eb-855fc36236f7"
      },
      "outputs": [
        {
          "output_type": "error",
          "ename": "ParserError",
          "evalue": "Error tokenizing data. C error: Expected 2950 fields in line 15, saw 6991\n",
          "traceback": [
            "\u001b[0;31m---------------------------------------------------------------------------\u001b[0m",
            "\u001b[0;31mParserError\u001b[0m                               Traceback (most recent call last)",
            "\u001b[0;32m<ipython-input-28-c6a9f41de177>\u001b[0m in \u001b[0;36m<cell line: 0>\u001b[0;34m()\u001b[0m\n\u001b[1;32m      5\u001b[0m \u001b[0;34m\u001b[0m\u001b[0m\n\u001b[1;32m      6\u001b[0m \u001b[0;31m# Cargar el CSV en un DataFrame\u001b[0m\u001b[0;34m\u001b[0m\u001b[0;34m\u001b[0m\u001b[0m\n\u001b[0;32m----> 7\u001b[0;31m \u001b[0mdf\u001b[0m \u001b[0;34m=\u001b[0m \u001b[0mpd\u001b[0m\u001b[0;34m.\u001b[0m\u001b[0mread_csv\u001b[0m\u001b[0;34m(\u001b[0m\u001b[0mfile_path\u001b[0m\u001b[0;34m)\u001b[0m\u001b[0;34m\u001b[0m\u001b[0;34m\u001b[0m\u001b[0m\n\u001b[0m\u001b[1;32m      8\u001b[0m \u001b[0;34m\u001b[0m\u001b[0m\n\u001b[1;32m      9\u001b[0m \u001b[0;31m# Ver las primeras filas del DataFrame\u001b[0m\u001b[0;34m\u001b[0m\u001b[0;34m\u001b[0m\u001b[0m\n",
            "\u001b[0;32m/usr/local/lib/python3.11/dist-packages/pandas/io/parsers/readers.py\u001b[0m in \u001b[0;36mread_csv\u001b[0;34m(filepath_or_buffer, sep, delimiter, header, names, index_col, usecols, dtype, engine, converters, true_values, false_values, skipinitialspace, skiprows, skipfooter, nrows, na_values, keep_default_na, na_filter, verbose, skip_blank_lines, parse_dates, infer_datetime_format, keep_date_col, date_parser, date_format, dayfirst, cache_dates, iterator, chunksize, compression, thousands, decimal, lineterminator, quotechar, quoting, doublequote, escapechar, comment, encoding, encoding_errors, dialect, on_bad_lines, delim_whitespace, low_memory, memory_map, float_precision, storage_options, dtype_backend)\u001b[0m\n\u001b[1;32m   1024\u001b[0m     \u001b[0mkwds\u001b[0m\u001b[0;34m.\u001b[0m\u001b[0mupdate\u001b[0m\u001b[0;34m(\u001b[0m\u001b[0mkwds_defaults\u001b[0m\u001b[0;34m)\u001b[0m\u001b[0;34m\u001b[0m\u001b[0;34m\u001b[0m\u001b[0m\n\u001b[1;32m   1025\u001b[0m \u001b[0;34m\u001b[0m\u001b[0m\n\u001b[0;32m-> 1026\u001b[0;31m     \u001b[0;32mreturn\u001b[0m \u001b[0m_read\u001b[0m\u001b[0;34m(\u001b[0m\u001b[0mfilepath_or_buffer\u001b[0m\u001b[0;34m,\u001b[0m \u001b[0mkwds\u001b[0m\u001b[0;34m)\u001b[0m\u001b[0;34m\u001b[0m\u001b[0;34m\u001b[0m\u001b[0m\n\u001b[0m\u001b[1;32m   1027\u001b[0m \u001b[0;34m\u001b[0m\u001b[0m\n\u001b[1;32m   1028\u001b[0m \u001b[0;34m\u001b[0m\u001b[0m\n",
            "\u001b[0;32m/usr/local/lib/python3.11/dist-packages/pandas/io/parsers/readers.py\u001b[0m in \u001b[0;36m_read\u001b[0;34m(filepath_or_buffer, kwds)\u001b[0m\n\u001b[1;32m    624\u001b[0m \u001b[0;34m\u001b[0m\u001b[0m\n\u001b[1;32m    625\u001b[0m     \u001b[0;32mwith\u001b[0m \u001b[0mparser\u001b[0m\u001b[0;34m:\u001b[0m\u001b[0;34m\u001b[0m\u001b[0;34m\u001b[0m\u001b[0m\n\u001b[0;32m--> 626\u001b[0;31m         \u001b[0;32mreturn\u001b[0m \u001b[0mparser\u001b[0m\u001b[0;34m.\u001b[0m\u001b[0mread\u001b[0m\u001b[0;34m(\u001b[0m\u001b[0mnrows\u001b[0m\u001b[0;34m)\u001b[0m\u001b[0;34m\u001b[0m\u001b[0;34m\u001b[0m\u001b[0m\n\u001b[0m\u001b[1;32m    627\u001b[0m \u001b[0;34m\u001b[0m\u001b[0m\n\u001b[1;32m    628\u001b[0m \u001b[0;34m\u001b[0m\u001b[0m\n",
            "\u001b[0;32m/usr/local/lib/python3.11/dist-packages/pandas/io/parsers/readers.py\u001b[0m in \u001b[0;36mread\u001b[0;34m(self, nrows)\u001b[0m\n\u001b[1;32m   1921\u001b[0m                     \u001b[0mcolumns\u001b[0m\u001b[0;34m,\u001b[0m\u001b[0;34m\u001b[0m\u001b[0;34m\u001b[0m\u001b[0m\n\u001b[1;32m   1922\u001b[0m                     \u001b[0mcol_dict\u001b[0m\u001b[0;34m,\u001b[0m\u001b[0;34m\u001b[0m\u001b[0;34m\u001b[0m\u001b[0m\n\u001b[0;32m-> 1923\u001b[0;31m                 \u001b[0;34m)\u001b[0m \u001b[0;34m=\u001b[0m \u001b[0mself\u001b[0m\u001b[0;34m.\u001b[0m\u001b[0m_engine\u001b[0m\u001b[0;34m.\u001b[0m\u001b[0mread\u001b[0m\u001b[0;34m(\u001b[0m  \u001b[0;31m# type: ignore[attr-defined]\u001b[0m\u001b[0;34m\u001b[0m\u001b[0;34m\u001b[0m\u001b[0m\n\u001b[0m\u001b[1;32m   1924\u001b[0m                     \u001b[0mnrows\u001b[0m\u001b[0;34m\u001b[0m\u001b[0;34m\u001b[0m\u001b[0m\n\u001b[1;32m   1925\u001b[0m                 )\n",
            "\u001b[0;32m/usr/local/lib/python3.11/dist-packages/pandas/io/parsers/c_parser_wrapper.py\u001b[0m in \u001b[0;36mread\u001b[0;34m(self, nrows)\u001b[0m\n\u001b[1;32m    232\u001b[0m         \u001b[0;32mtry\u001b[0m\u001b[0;34m:\u001b[0m\u001b[0;34m\u001b[0m\u001b[0;34m\u001b[0m\u001b[0m\n\u001b[1;32m    233\u001b[0m             \u001b[0;32mif\u001b[0m \u001b[0mself\u001b[0m\u001b[0;34m.\u001b[0m\u001b[0mlow_memory\u001b[0m\u001b[0;34m:\u001b[0m\u001b[0;34m\u001b[0m\u001b[0;34m\u001b[0m\u001b[0m\n\u001b[0;32m--> 234\u001b[0;31m                 \u001b[0mchunks\u001b[0m \u001b[0;34m=\u001b[0m \u001b[0mself\u001b[0m\u001b[0;34m.\u001b[0m\u001b[0m_reader\u001b[0m\u001b[0;34m.\u001b[0m\u001b[0mread_low_memory\u001b[0m\u001b[0;34m(\u001b[0m\u001b[0mnrows\u001b[0m\u001b[0;34m)\u001b[0m\u001b[0;34m\u001b[0m\u001b[0;34m\u001b[0m\u001b[0m\n\u001b[0m\u001b[1;32m    235\u001b[0m                 \u001b[0;31m# destructive to chunks\u001b[0m\u001b[0;34m\u001b[0m\u001b[0;34m\u001b[0m\u001b[0m\n\u001b[1;32m    236\u001b[0m                 \u001b[0mdata\u001b[0m \u001b[0;34m=\u001b[0m \u001b[0m_concatenate_chunks\u001b[0m\u001b[0;34m(\u001b[0m\u001b[0mchunks\u001b[0m\u001b[0;34m)\u001b[0m\u001b[0;34m\u001b[0m\u001b[0;34m\u001b[0m\u001b[0m\n",
            "\u001b[0;32mparsers.pyx\u001b[0m in \u001b[0;36mpandas._libs.parsers.TextReader.read_low_memory\u001b[0;34m()\u001b[0m\n",
            "\u001b[0;32mparsers.pyx\u001b[0m in \u001b[0;36mpandas._libs.parsers.TextReader._read_rows\u001b[0;34m()\u001b[0m\n",
            "\u001b[0;32mparsers.pyx\u001b[0m in \u001b[0;36mpandas._libs.parsers.TextReader._tokenize_rows\u001b[0;34m()\u001b[0m\n",
            "\u001b[0;32mparsers.pyx\u001b[0m in \u001b[0;36mpandas._libs.parsers.TextReader._check_tokenize_status\u001b[0;34m()\u001b[0m\n",
            "\u001b[0;32mparsers.pyx\u001b[0m in \u001b[0;36mpandas._libs.parsers.raise_parser_error\u001b[0;34m()\u001b[0m\n",
            "\u001b[0;31mParserError\u001b[0m: Error tokenizing data. C error: Expected 2950 fields in line 15, saw 6991\n"
          ]
        }
      ],
      "source": [
        "import pandas as pd\n",
        "\n",
        "# Cambia la ruta a la ubicación correcta de tu archivo CSV\n",
        "file_path = 'https://drive.google.com/drive/folders/1KBxUW5RnA1tNX3S4QMfVipKNiC2YbaXe?usp=drive_link/survey_lung_cancer.csv'\n",
        "\n",
        "# Cargar el CSV en un DataFrame\n",
        "df = pd.read_csv(file_path)\n",
        "\n",
        "# Ver las primeras filas del DataFrame\n",
        "df.head()"
      ]
    },
    {
      "cell_type": "markdown",
      "source": [
        "Limpie el dataset, eliminando las columnas que no sean de interés para este trabajo grupal, los registros que estén incompletos (con e.g. nan o null en alguna de sus celdas) y, en caso de que sea necesario, formateando (correcta y uniformemente) las celdas que presenten problemas.\n",
        "\n",
        "Justifique cada modificación al dataset, especialmente la eliminación de columnas."
      ],
      "metadata": {
        "id": "_u0RL86wlHWi"
      }
    },
    {
      "cell_type": "code",
      "source": [
        "# Escriba su código acá\n",
        "df_normal = pd.DataFrame(df)  # Esto garantiza que sea un DataFrame normal\n",
        "print(df_normal.columns)\n"
      ],
      "metadata": {
        "id": "Rq_KuK99mVl7",
        "colab": {
          "base_uri": "https://localhost:8080/"
        },
        "outputId": "9d536a3f-98d2-450d-eb67-20ccfa43f438"
      },
      "execution_count": null,
      "outputs": [
        {
          "output_type": "stream",
          "name": "stdout",
          "text": [
            "Index(['{\"@context\":{\"@language\":\"en\"', '@vocab:\"https://schema.org/\"',\n",
            "       'citeAs:\"cr:citeAs\"', 'column:\"cr:column\"',\n",
            "       'conformsTo:\"dct:conformsTo\"', 'cr:\"http://mlcommons.org/croissant/\"',\n",
            "       'data:{\"@id\":\"cr:data\"', '@type:\"@json\"}', 'dataBiases:\"cr:dataBiases\"',\n",
            "       'dataCollection:\"cr:dataCollection\"',\n",
            "       ...\n",
            "       ' NO=1.\\n8.\\tFatigue: YES=2 ', ' NO=1.\\n9.\\tAllergy: YES=2 ',\n",
            "       ' NO=1.\\n10.\\tWheezing: YES=2 ', ' NO=1.\\n11.\\tAlcohol: YES=2 ',\n",
            "       ' NO=1.\\n12.\\tCoughing: YES=2 ',\n",
            "       ' NO=1.\\n13.\\tShortness of Breath: YES=2 ',\n",
            "       ' NO=1.\\n14.\\tSwallowing Difficulty: YES=2 ',\n",
            "       ' NO=1.\\n15.\\tChest pain: YES=2 ', ' NO=1.\\n16.\\tLung Cancer: YES ',\n",
            "       ' NO.\\n\"}'],\n",
            "      dtype='object', length=227)\n"
          ]
        }
      ]
    },
    {
      "cell_type": "code",
      "source": [
        "print(df_normal.columns.tolist())  # Ver todas las columnas como una lista\n"
      ],
      "metadata": {
        "colab": {
          "base_uri": "https://localhost:8080/"
        },
        "id": "FPhhd1_5yIcD",
        "outputId": "c4821823-32b7-41eb-a7b6-c09028ea8740"
      },
      "execution_count": null,
      "outputs": [
        {
          "output_type": "stream",
          "name": "stdout",
          "text": [
            "['{\"@context\":{\"@language\":\"en\"', '@vocab:\"https://schema.org/\"', 'citeAs:\"cr:citeAs\"', 'column:\"cr:column\"', 'conformsTo:\"dct:conformsTo\"', 'cr:\"http://mlcommons.org/croissant/\"', 'data:{\"@id\":\"cr:data\"', '@type:\"@json\"}', 'dataBiases:\"cr:dataBiases\"', 'dataCollection:\"cr:dataCollection\"', 'dataType:{\"@id\":\"cr:dataType\"', '@type:\"@vocab\"}', 'dct:\"http://purl.org/dc/terms/\"', 'extract:\"cr:extract\"', 'field:\"cr:field\"', 'fileProperty:\"cr:fileProperty\"', 'fileObject:\"cr:fileObject\"', 'fileSet:\"cr:fileSet\"', 'format:\"cr:format\"', 'includes:\"cr:includes\"', 'isEnumeration:\"cr:isEnumeration\"', 'jsonPath:\"cr:jsonPath\"', 'key:\"cr:key\"', 'md5:\"cr:md5\"', 'parentField:\"cr:parentField\"', 'path:\"cr:path\"', 'personalSensitiveInformation:\"cr:personalSensitiveInformation\"', 'recordSet:\"cr:recordSet\"', 'references:\"cr:references\"', 'regex:\"cr:regex\"', 'repeated:\"cr:repeated\"', 'replace:\"cr:replace\"', 'sc:\"https://schema.org/\"', 'separator:\"cr:separator\"', 'source:\"cr:source\"', 'subField:\"cr:subField\"', 'transform:\"cr:transform\"', 'wd:\"https://www.wikidata.org/wiki/\"}', 'alternateName:\"Does Smoking cause Lung Cancer.\"', 'conformsTo:\"http://mlcommons.org/croissant/1.0\"', 'license:{\"@type\":\"sc:CreativeWork\"', 'name:\"CC0: Public Domain\"', 'url:\"https://creativecommons.org/publicdomain/zero/1.0/\"}', 'distribution:[{\"contentUrl\":\"https://www.kaggle.com/api/v1/datasets/download/mysarahmadbhat/lung-cancer?datasetVersionNumber=1\"', 'contentSize:\"1.998 KB\"', 'md5:\"WfDgYT/lXEBln\\\\u002BRA3aWO5w==\"', 'encodingFormat:\"application/zip\"', '@id:\"archive.zip\"', '@type:\"cr:FileObject\"', 'name:\"archive.zip\"', 'description:\"Archive containing all the contents of the Lung Cancer dataset\"}', '{\"contentUrl\":\"survey lung cancer.csv\"', 'containedIn:{\"@id\":\"archive.zip\"}', 'encodingFormat:\"text/csv\"', '@id:\"survey\\\\u002Blung\\\\u002Bcancer.csv_fileobject\"', '@type:\"cr:FileObject\".1', 'name:\"survey lung cancer.csv\"', 'description:\"Lung cancer\"}]', 'recordSet:[{\"field\":[{\"dataType\":[\"sc:Text\"]', 'source:{\"fileObject\":{\"@id\":\"survey\\\\u002Blung\\\\u002Bcancer.csv_fileobject\"}', 'extract:{\"column\":\"GENDER\"}}', '@id:\"survey\\\\u002Blung\\\\u002Bcancer.csv/GENDER\"', '@type:\"cr:Field\"', 'name:\"GENDER\"', 'description:\"M(male)', ' F(female)\"}', '{\"dataType\":[\"sc:Integer\"]', 'source:{\"fileObject\":{\"@id\":\"survey\\\\u002Blung\\\\u002Bcancer.csv_fileobject\"}.1', 'extract:{\"column\":\"AGE\"}}', '@id:\"survey\\\\u002Blung\\\\u002Bcancer.csv/AGE\"', '@type:\"cr:Field\".1', 'name:\"AGE\"', 'description:\"Age of the patient\"}', '{\"dataType\":[\"sc:Integer\"].1', 'source:{\"fileObject\":{\"@id\":\"survey\\\\u002Blung\\\\u002Bcancer.csv_fileobject\"}.2', 'extract:{\"column\":\"SMOKING\"}}', '@id:\"survey\\\\u002Blung\\\\u002Bcancer.csv/SMOKING\"', '@type:\"cr:Field\".2', 'name:\"SMOKING\"', 'description:\" YES=2 ', ' NO=1.\"}', '{\"dataType\":[\"sc:Integer\"].2', 'source:{\"fileObject\":{\"@id\":\"survey\\\\u002Blung\\\\u002Bcancer.csv_fileobject\"}.3', 'extract:{\"column\":\"YELLOW_FINGERS\"}}', '@id:\"survey\\\\u002Blung\\\\u002Bcancer.csv/YELLOW_FINGERS\"', '@type:\"cr:Field\".3', 'name:\"YELLOW_FINGERS\"', 'description:\"YES=2 ', ' NO=1.\"}.1', '{\"dataType\":[\"sc:Integer\"].3', 'source:{\"fileObject\":{\"@id\":\"survey\\\\u002Blung\\\\u002Bcancer.csv_fileobject\"}.4', 'extract:{\"column\":\"ANXIETY\"}}', '@id:\"survey\\\\u002Blung\\\\u002Bcancer.csv/ANXIETY\"', '@type:\"cr:Field\".4', 'name:\"ANXIETY\"', 'description:\"YES=2 .1', ' NO=1.\"}.2', '{\"dataType\":[\"sc:Integer\"].4', 'source:{\"fileObject\":{\"@id\":\"survey\\\\u002Blung\\\\u002Bcancer.csv_fileobject\"}.5', 'extract:{\"column\":\"PEER_PRESSURE\"}}', '@id:\"survey\\\\u002Blung\\\\u002Bcancer.csv/PEER_PRESSURE\"', '@type:\"cr:Field\".5', 'name:\"PEER_PRESSURE\"', 'description:\"YES=2 .2', ' NO=1.\"}.3', '{\"dataType\":[\"sc:Integer\"].5', 'source:{\"fileObject\":{\"@id\":\"survey\\\\u002Blung\\\\u002Bcancer.csv_fileobject\"}.6', 'extract:{\"column\":\"CHRONIC DISEASE\"}}', '@id:\"survey\\\\u002Blung\\\\u002Bcancer.csv/CHRONIC\\\\u002BDISEASE\"', '@type:\"cr:Field\".6', 'name:\"CHRONIC DISEASE\"', 'description:\"YES=2 .3', ' NO=1.\"}.4', '{\"dataType\":[\"sc:Integer\"].6', 'source:{\"fileObject\":{\"@id\":\"survey\\\\u002Blung\\\\u002Bcancer.csv_fileobject\"}.7', 'extract:{\"column\":\"FATIGUE\"}}', '@id:\"survey\\\\u002Blung\\\\u002Bcancer.csv/FATIGUE\"', '@type:\"cr:Field\".7', 'name:\"FATIGUE\"', 'description:\"YES=2 .4', ' NO=1.\"}.5', '{\"dataType\":[\"sc:Integer\"].7', 'source:{\"fileObject\":{\"@id\":\"survey\\\\u002Blung\\\\u002Bcancer.csv_fileobject\"}.8', 'extract:{\"column\":\"ALLERGY\"}}', '@id:\"survey\\\\u002Blung\\\\u002Bcancer.csv/ALLERGY\"', '@type:\"cr:Field\".8', 'name:\"ALLERGY\"', 'description:\"YES=2 .5', ' NO=1.\"}.6', '{\"dataType\":[\"sc:Integer\"].8', 'source:{\"fileObject\":{\"@id\":\"survey\\\\u002Blung\\\\u002Bcancer.csv_fileobject\"}.9', 'extract:{\"column\":\"WHEEZING\"}}', '@id:\"survey\\\\u002Blung\\\\u002Bcancer.csv/WHEEZING\"', '@type:\"cr:Field\".9', 'name:\"WHEEZING\"', 'description:\"YES=2 .6', ' NO=1.\"}.7', '{\"dataType\":[\"sc:Integer\"].9', 'source:{\"fileObject\":{\"@id\":\"survey\\\\u002Blung\\\\u002Bcancer.csv_fileobject\"}.10', 'extract:{\"column\":\"ALCOHOL CONSUMING\"}}', '@id:\"survey\\\\u002Blung\\\\u002Bcancer.csv/ALCOHOL\\\\u002BCONSUMING\"', '@type:\"cr:Field\".10', 'name:\"ALCOHOL CONSUMING\"', 'description:\"YES=2 .7', ' NO=1.\"}.8', '{\"dataType\":[\"sc:Integer\"].10', 'source:{\"fileObject\":{\"@id\":\"survey\\\\u002Blung\\\\u002Bcancer.csv_fileobject\"}.11', 'extract:{\"column\":\"COUGHING\"}}', '@id:\"survey\\\\u002Blung\\\\u002Bcancer.csv/COUGHING\"', '@type:\"cr:Field\".11', 'name:\"COUGHING\"', 'description:\"YES=2 .8', ' NO=1.\"}.9', '{\"dataType\":[\"sc:Integer\"].11', 'source:{\"fileObject\":{\"@id\":\"survey\\\\u002Blung\\\\u002Bcancer.csv_fileobject\"}.12', 'extract:{\"column\":\"SHORTNESS OF BREATH\"}}', '@id:\"survey\\\\u002Blung\\\\u002Bcancer.csv/SHORTNESS\\\\u002BOF\\\\u002BBREATH\"', '@type:\"cr:Field\".12', 'name:\"SHORTNESS OF BREATH\"', 'description:\"YES=2 .9', ' NO=1.\"}.10', '{\"dataType\":[\"sc:Integer\"].12', 'source:{\"fileObject\":{\"@id\":\"survey\\\\u002Blung\\\\u002Bcancer.csv_fileobject\"}.13', 'extract:{\"column\":\"SWALLOWING DIFFICULTY\"}}', '@id:\"survey\\\\u002Blung\\\\u002Bcancer.csv/SWALLOWING\\\\u002BDIFFICULTY\"', '@type:\"cr:Field\".13', 'name:\"SWALLOWING DIFFICULTY\"', 'description:\"YES=2 .10', ' NO=1.\"}.11', '{\"dataType\":[\"sc:Integer\"].13', 'source:{\"fileObject\":{\"@id\":\"survey\\\\u002Blung\\\\u002Bcancer.csv_fileobject\"}.14', 'extract:{\"column\":\"CHEST PAIN\"}}', '@id:\"survey\\\\u002Blung\\\\u002Bcancer.csv/CHEST\\\\u002BPAIN\"', '@type:\"cr:Field\".14', 'name:\"CHEST PAIN\"', 'description:\"YES=2 .11', ' NO=1.\"}.12', '{\"dataType\":[\"sc:Boolean\"]', 'source:{\"fileObject\":{\"@id\":\"survey\\\\u002Blung\\\\u002Bcancer.csv_fileobject\"}.15', 'extract:{\"column\":\"LUNG_CANCER\"}}', '@id:\"survey\\\\u002Blung\\\\u002Bcancer.csv/LUNG_CANCER\"', '@type:\"cr:Field\".15', 'name:\"LUNG_CANCER\"', 'description:\"YES=2 .12', ' NO=1.\"}]', '@id:\"survey\\\\u002Blung\\\\u002Bcancer.csv\"', '@type:\"cr:RecordSet\"', 'name:\"survey lung cancer.csv\".1', 'description:\"Lung cancer\"}].1', 'version:1', 'keywords:[\"subject \\\\u003E health and fitness \\\\u003E health \\\\u003E health conditions \\\\u003E cancer\"', 'subject \\\\u003E health and fitness \\\\u003E health \\\\u003E healthcare \\\\u003E drugs and medications', 'subject \\\\u003E health and fitness \\\\u003E health \\\\u003E healthcare \\\\u003E hospitals and treatment centers]', 'isAccessibleForFree:true', 'includedInDataCatalog:{\"@type\":\"sc:DataCatalog\"', 'name:\"Kaggle\"', 'url:\"https://www.kaggle.com\"}', 'creator:{\"@type\":\"sc:Person\"', 'name:\"mysar ahmad bhat\"', 'url:\"/mysarahmadbhat\"', 'image:\"https://storage.googleapis.com/kaggle-avatars/thumbnails/6990402-kg.jpg\"}', 'publisher:{\"@type\":\"sc:Organization\"', 'name:\"Kaggle\".1', 'url:\"https://www.kaggle.com/organizations/kaggle\"', 'image:\"https://storage.googleapis.com/kaggle-organizations/4/thumbnail.png\"}', 'thumbnailUrl:\"https://storage.googleapis.com/kaggle-datasets-images/1623385/2668247/e12eee782790841222ffc881543f93a9/dataset-card.jpg?t=2021-10-01-13-42-58\"', 'dateModified:\"2021-10-01T13:39:48.13\"', 'datePublished:\"2021-10-01T13:47:16.510079\"', '@type:\"sc:Dataset\"', 'name:\"Lung Cancer\"', 'url:\"https://www.kaggle.com/datasets/mysarahmadbhat/lung-cancer/versions/1\"', 'description:\"### The effectiveness of cancer prediction system helps the people to know their cancer risk with low cost and it also helps the people to take the appropriate decision based on their cancer risk status. The data is collected from the website online lung cancer prediction system .\\\\nTotal no. of attributes:16\\\\nNo .of instances:284\\\\nAttribute information:\\\\n1.\\\\tGender: M(male)', ' F(female)\\\\n2.\\\\tAge: Age of the patient\\\\n3.\\\\tSmoking:  YES=2 ', ' NO=1.\\\\n4.\\\\tYellow fingers: YES=2 ', ' NO=1.\\\\n5.\\\\tAnxiety: YES=2 ', ' NO=1.\\\\n6.\\\\tPeer_pressure: YES=2 ', ' NO=1.\\\\n7.\\\\tChronic Disease: YES=2 ', ' NO=1.\\\\n8.\\\\tFatigue: YES=2 ', ' NO=1.\\\\n9.\\\\tAllergy: YES=2 ', ' NO=1.\\\\n10.\\\\tWheezing: YES=2 ', ' NO=1.\\\\n11.\\\\tAlcohol: YES=2 ', ' NO=1.\\\\n12.\\\\tCoughing: YES=2 ', ' NO=1.\\\\n13.\\\\tShortness of Breath: YES=2 ', ' NO=1.\\\\n14.\\\\tSwallowing Difficulty: YES=2 ', ' NO=1.\\\\n15.\\\\tChest pain: YES=2 ', ' NO=1.\\\\n16.\\\\tLung Cancer: YES ', ' NO.\\\\n\"}']\n"
          ]
        }
      ]
    },
    {
      "cell_type": "markdown",
      "source": [
        "Describa coloquialmente los datos que contiene el dataset (de dónde fueron obtenidos, qué representa cada columna, etc.)"
      ],
      "metadata": {
        "id": "op76ei_CmmjX"
      }
    },
    {
      "cell_type": "markdown",
      "source": [
        "_Complete aquí_"
      ],
      "metadata": {
        "id": "DMU_KFbNm2b-"
      }
    },
    {
      "cell_type": "markdown",
      "source": [
        "Clasifique cada columna en cuasi-identificador, atributo sensible y atributo no-sensible. Si lo desea, puede simplificar el trabajo directamente eliminando los atributos no-sensibles del dataset.\n",
        "\n",
        "Justifique su razonamiento para decidir si una columna es un cuasi-identificador."
      ],
      "metadata": {
        "id": "v6z4amphnVq3"
      }
    },
    {
      "cell_type": "markdown",
      "source": [
        "_Complete aquí_"
      ],
      "metadata": {
        "id": "iy0J2gQCneSm"
      }
    },
    {
      "cell_type": "markdown",
      "source": [
        "## Parte 2: Descripción del problema [15 Puntos]\n",
        "Demuestre que existen potenciales violaciones de privacidad (recuerde que el requisito original era que el dataset escogido presente este tipo de problemas) y explique tanto su razonamiento para encontras dichas vulnerabilidades como los resultados obtenidos.\n",
        "\n"
      ],
      "metadata": {
        "id": "pI8XgQ_InC1C"
      }
    },
    {
      "cell_type": "code",
      "source": [
        "# Inguese acá el codigo necesario para montar el ataque, documentando cada paso.\n",
        "# En particular, debe describir la información auxiliar que utilizó para montar el ataque"
      ],
      "metadata": {
        "id": "JsVkOTHKr6nH"
      },
      "execution_count": null,
      "outputs": []
    },
    {
      "cell_type": "markdown",
      "source": [
        "## Parte 2 (Bonus): Reidentificación de individuos [10 Puntos]\n",
        "(Bonus) Monte un ataque para re-identificar tantos individuos como sea posible a partir de datos auxiliares. Puede montar un ataque de asociación de registros (donde asocia un individuo con un registro dado) o de asociación de atributo (donde descubre algún atributo sensible de un individuo, pero sin poder asociarlo a un registro concreto)\n"
      ],
      "metadata": {
        "id": "084BpMFnpbZK"
      }
    },
    {
      "cell_type": "code",
      "source": [],
      "metadata": {
        "id": "yV3djwJ4pa6r"
      },
      "execution_count": null,
      "outputs": []
    },
    {
      "cell_type": "markdown",
      "source": [
        "Describa coloquialmente las re-identificaciones que logró hacer."
      ],
      "metadata": {
        "id": "wZjktJ20sHES"
      }
    },
    {
      "cell_type": "markdown",
      "source": [
        "_Complete aquí_"
      ],
      "metadata": {
        "id": "A1aZMEfIsg9Y"
      }
    },
    {
      "cell_type": "code",
      "source": [],
      "metadata": {
        "id": "-uUVC46Dt3Zv"
      },
      "execution_count": null,
      "outputs": []
    },
    {
      "cell_type": "markdown",
      "metadata": {
        "id": "pCaFPMnpAzmv"
      },
      "source": [
        "## Parte 3: Anonimización [30 Puntos]\n",
        "\n",
        "Utilice técnicas de anonimización para transformar el dataset de la Parte 1 (luego de la limpieza), en uno que sea robusto a los ataques que montó en la Parte 2. Para ello, transforme el dataset primero en uno $k$-anónimo, y luego en uno $\\ell$-diverso, para valores que $k$ y $\\ell$ que resulten en un tradeoff razonable entre privacidad y utilidad. Haga las generalizaciones de manera \"informada\", explorando las características de los valores atípicos.\n",
        "\n",
        "Considere que los métodos de generalización vistos en clase pueden ser muy básicos para esta parte. Intente usar o crear mejores métodos de anonimización para lograr los objectivos de diversidad y anonimato. Documente su código."
      ]
    },
    {
      "cell_type": "code",
      "execution_count": null,
      "metadata": {
        "deletable": false,
        "nbgrader": {
          "cell_type": "code",
          "checksum": "104cae26868ad3192fa4559d42c5a9bc",
          "grade": false,
          "grade_id": "cell-e6389ceace711c32",
          "locked": false,
          "schema_version": 3,
          "solution": true,
          "task": false
        },
        "id": "xSf0l_GGAzmv"
      },
      "outputs": [],
      "source": [
        "# Agregue aquí su código, documentando cada paso."
      ]
    },
    {
      "cell_type": "markdown",
      "source": [
        "Describa coloquialmente las generalizaciones que realizó (justificando las decisiones que tomaron), y los valores de $k$ y $\\ell$ que obtuvo. Describa, además, cuáles fueron los mayores desafíos/obstáculos que encontró en este proceso de anonimización."
      ],
      "metadata": {
        "id": "54RUTRchwlop"
      }
    },
    {
      "cell_type": "markdown",
      "source": [
        "_Complete aquí_"
      ],
      "metadata": {
        "id": "8UvaXptkxHAd"
      }
    }
  ],
  "metadata": {
    "kernelspec": {
      "display_name": "Python 3",
      "language": "python",
      "name": "python3"
    },
    "language_info": {
      "codemirror_mode": {
        "name": "ipython",
        "version": 3
      },
      "file_extension": ".py",
      "mimetype": "text/x-python",
      "name": "python",
      "nbconvert_exporter": "python",
      "pygments_lexer": "ipython3",
      "version": "3.10.8"
    },
    "vscode": {
      "interpreter": {
        "hash": "b0fa6594d8f4cbf19f97940f81e996739fb7646882a419484c72d19e05852a7e"
      }
    },
    "colab": {
      "provenance": []
    }
  },
  "nbformat": 4,
  "nbformat_minor": 0
}